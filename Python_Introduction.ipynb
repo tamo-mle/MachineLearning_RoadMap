{
  "nbformat": 4,
  "nbformat_minor": 0,
  "metadata": {
    "colab": {
      "name": "Python_Introduction.ipynb",
      "provenance": [],
      "collapsed_sections": []
    },
    "kernelspec": {
      "name": "python3",
      "display_name": "Python 3"
    }
  },
  "cells": [
    {
      "cell_type": "markdown",
      "metadata": {
        "id": "Ildv8cxAm2OW"
      },
      "source": [
        "# Python入門\n",
        "\n",
        "このNotebookは、YouTubeで紹介しているPython入門の練習用になります。\n",
        "\n",
        "ぜひお手元に準備の上、学習を進めてみてください。\n",
        "\n",
        "https://www.youtube.com/playlist?list=PL4Y-mUWLK2t2rISQza73yNiz6_8HTaQiY"
      ]
    },
    {
      "cell_type": "markdown",
      "metadata": {
        "id": "eblSMb8SXU63"
      },
      "source": [
        "\n",
        "<br>\n",
        "<hr>\n"
      ]
    },
    {
      "cell_type": "markdown",
      "metadata": {
        "id": "D7KwkHw17paS"
      },
      "source": [
        "# 1.Pythonについて\n",
        "\n",
        "Pythonは、初心者でも学習しやすいプログラミング言語です。\n",
        "\n",
        "まずはPythonの特徴から見ていきましょう。\n",
        "\n",
        "\n"
      ]
    },
    {
      "cell_type": "markdown",
      "metadata": {
        "id": "NR__USYhL3l8"
      },
      "source": [
        "## 1.1. Pythonの特徴\n",
        "\n",
        "Pythonは、以下のような特徴を持ったプログラミング言語です。\n",
        "\n",
        "- 文法がシンプル\n",
        "- 汎用性が高い\n",
        "- ポテンシャルが高い\n",
        "\n",
        "それぞれ少しだけ深掘りします。"
      ]
    },
    {
      "cell_type": "markdown",
      "metadata": {
        "id": "qcxd64A5Oiv_"
      },
      "source": [
        "### 1.1.1. Pythonの特徴① : 文法がシンプル\n",
        "\n",
        "Pythonは、文法が非常にシンプルです。イメージ的に、プログラミング界の無印良品って感じですね。\n",
        "\n",
        "例えば、「もし、数字の2以上だったら、\"2以上です\"と表示する」プログラムを書いてみます。"
      ]
    },
    {
      "cell_type": "code",
      "metadata": {
        "id": "cpgb5ZgaOi12"
      },
      "source": [
        "# xという変数に3を代入する\n",
        "\n",
        "\n",
        "# もしxが2以上だったら、\"2以上です\"と出力する\n",
        "\n"
      ],
      "execution_count": null,
      "outputs": []
    },
    {
      "cell_type": "markdown",
      "metadata": {
        "id": "aJZY2rQyPMh6"
      },
      "source": [
        "上記のとおりです。かなり直感的に書けるのではないでしょうか。\n",
        "\n",
        "Pythonは、こんな感じでシンプルに書けるのが特徴です。\n",
        "\n",
        "ゆえにプログラミング初心者でも、習得しやすい言語になっています。\n"
      ]
    },
    {
      "cell_type": "markdown",
      "metadata": {
        "id": "4guvXM3WPnKL"
      },
      "source": [
        "### 1.1.2. Pythonの特徴② : 汎用性が高い\n",
        "\n",
        "Pythonは汎用性が高いです。つまり、Pythonを習得すると、できることがたくさんあります。\n",
        "\n",
        "- Webアプリ開発\n",
        "  - Django, Flask\n",
        "- 機械学習プログラミング(AI開発)\n",
        "  - Scilit-learn, TensorFlow, PyTorch\n",
        "- データサイエンス\n",
        "  - Pandas, Matplotlib, Seaborn\n",
        "- Excelの自動処理\n",
        "  - Pandas\n",
        "- Webスクレイピング\n",
        "  - BeautifulSoup, Selenium\n",
        "- ブロックチェーン開発\n",
        "- ゲーム開発\n",
        "- FX自動売買\n",
        "\n",
        "などなど。\n",
        "\n",
        "AI開発はエンジニアしかやらないかもしれないですが、Excelならほとんどの人が使うはず。\n",
        "\n",
        "なので、Pythonを習得すれば、必ず何かしらの役に立ちます。"
      ]
    },
    {
      "cell_type": "markdown",
      "metadata": {
        "id": "Z1a-KIsSPnLw"
      },
      "source": [
        "### 1.1.3. Pythonの特徴③ : ポテンシャルが高い\n",
        "\n",
        "Pythonはポテンシャルも高いです。\n",
        "\n",
        "\n",
        "最近では、基本情報技術者試験でCOBOLに代わって、Pythonが試験内容に盛り込まれました。\n",
        "\n",
        "更に、プログラミング言語ランキングでは、常に上位にランクインしています。\n",
        "\n",
        "https://xtech.nikkei.com/atcl/nxt/column/18/01068/111100001/\n",
        "\n",
        "こういった背景からも、プログラミングを学ぶなら、まずはPythonから学習し始めて問題ないと言えますね。\n",
        "\n",
        "<br>\n",
        "\n",
        "そして、この講義を受講すれば、基本的なPython文法を習得できることをお約束しますっ！\n",
        "\n",
        "ぜひ一緒に頑張っていきましょう！\n",
        "\n",
        "<br>\n",
        "<hr>\n"
      ]
    },
    {
      "cell_type": "markdown",
      "metadata": {
        "id": "VL2p6QFsATjl"
      },
      "source": [
        "# 2.Pythonの環境構築\n",
        "\n",
        "「Pythonの勉強をしよう」と思ったとき、まずはPythonを使える状態にする必要があります。\n",
        "（このことを環境構築と呼びます。）\n",
        "\n",
        "\n",
        "そして、Pythonの環境構築をする方法は、大きく4つほどあります。\n",
        "\n",
        "- オフライン\n",
        "  - Python(Pure Python)\n",
        "  - Anaconda\n",
        "\n",
        "- オンライン\n",
        "  - Google Colaboratory(いま使っているやつです！) \n",
        "  - AWS Cloud9\n",
        "\n",
        "<br>\n",
        "\n",
        "こんな感じです。オフラインで環境構築しておけば、ネットに繋いでいないときでもPythonを勉強できます。代わりに、OSの違い(WindowsとMac)などがあり、動画で紹介しているとおりに動かない場合があります。\n",
        "\n",
        "<br>\n",
        "\n",
        "その反面、オンラインで環境構築しておけば、ネットを繋ぐ必要はあるものの、OSの違いを気にせず、さらに自分のパソコンを汚すことなく勉強できます。\n",
        "\n",
        "よって、今回のレクチャーでは、**オンライン**でPythonを勉強していきます。\n",
        "\n",
        "さらに、AWS Cloud9ではなく、**Google Colaboratory**を使っていきたいと思います。\n",
        "\n",
        "Google Colaboratoryは、Googleアカウントを持っていれば、無料で使えてしまいます...！\n",
        "\n",
        "<br>\n",
        "\n",
        "Google Colaboratoryの使い方は、動画で解説していきますね！\n",
        "\n",
        "\n",
        "<br>\n",
        "<hr>\n"
      ]
    },
    {
      "cell_type": "markdown",
      "metadata": {
        "id": "MdE-6ZrgBWb2"
      },
      "source": [
        "# 3.プログラミングの基本！変数と出力\n",
        "\n",
        "さっそく、Pythonプログラミングの世界に入っていきます。\n",
        "\n",
        "まずは、プログラミングの基本にもなる、\"**変数**\"について学習していきましょう。"
      ]
    },
    {
      "cell_type": "markdown",
      "metadata": {
        "id": "FBKhtIrHZ8G-"
      },
      "source": [
        "## 3.1. 変数\n",
        " 変数というのは、「数値や文字を入れておく箱」のイメージです。\n",
        "\n",
        "つべこべ言わず、さっさと書いてしまった方が分かりやすいかもしれないですね。\n"
      ]
    },
    {
      "cell_type": "code",
      "metadata": {
        "id": "3r5mJQAyBWZT"
      },
      "source": [
        "# aという変数に、数字の1を入れる\n",
        "a = 1"
      ],
      "execution_count": null,
      "outputs": []
    },
    {
      "cell_type": "markdown",
      "metadata": {
        "id": "tp-22YBiYdQ8"
      },
      "source": [
        "こんな感じで、変数を書いていきます。(#で始まっている部分は、プログラムで実行されません。)\n",
        "\n",
        "*※ちなみに、コードを実行するには、shift + Enterです。*\n",
        "\n",
        "なお、変数内に数値や文字を入れるときは、入れたいもの(今回でいうと\"1\")を右側に書きます。\n",
        "\n",
        "<br>\n",
        "\n",
        "もう少し、書いてみましょう。"
      ]
    },
    {
      "cell_type": "code",
      "metadata": {
        "id": "Gk_ZGpGLBWWo"
      },
      "source": [
        "# bという変数に、数字の3を入れる\n",
        "b = 3\n",
        "\n",
        "# fiveという変数に、数字の5を入れる\n",
        "five = 5"
      ],
      "execution_count": null,
      "outputs": []
    },
    {
      "cell_type": "markdown",
      "metadata": {
        "id": "27K97S_-BWTX"
      },
      "source": [
        "こんな感じです。**変数名(=変数の名前)は、自分で決められます。**\n",
        "\n",
        "<br>\n",
        "\n",
        "aとかbのように、単純な名前でも大丈夫ですし、fiveのように\"意味がわかるような変数名\"にしておくのもアリです。\n",
        "\n",
        "(`five`という変数名にしておけば、「\"5\"が入っているんだな」と分かりやすいですよね！)\n",
        "\n",
        "\n",
        "<br>\n",
        "\n",
        "今回の講義では、単純な変数名を使うことが多いですが、可能であれば分かりやすい変数名をつけてあげると良いですよ！\n",
        "\n",
        "<br>\n",
        "\n",
        "自分がプログラムを書いていて分かりやすいってのもありますが、もしエンジニア転職をするのであれば、「他人が読んでも分かりやすいコード」というのは、非常に大事です。\n"
      ]
    },
    {
      "cell_type": "markdown",
      "metadata": {
        "id": "9-oLQD0zZ_4I"
      },
      "source": [
        "## 3.2. 出力\n",
        "\n",
        "いまa, b, fiveに、それぞれ1,3,5を入れてあげました。\n",
        "\n",
        "今度は、入れた数字を表示してみたいと思います。\n",
        "\n",
        "<br>\n",
        "\n",
        "Pythonで表示するには、`print()`を使ってあげます。"
      ]
    },
    {
      "cell_type": "code",
      "metadata": {
        "id": "L3eNls5maC6b",
        "colab": {
          "base_uri": "https://localhost:8080/"
        },
        "outputId": "4f6073c6-b52f-403f-960f-59847984dda9"
      },
      "source": [
        "# aを表示\n",
        "print(a)\n",
        "\n",
        "# bを表示\n",
        "print(b)\n",
        "\n",
        "# fiveを表示\n",
        "print(five)\n"
      ],
      "execution_count": null,
      "outputs": [
        {
          "output_type": "stream",
          "text": [
            "1\n",
            "3\n",
            "5\n"
          ],
          "name": "stdout"
        }
      ]
    },
    {
      "cell_type": "markdown",
      "metadata": {
        "id": "MCpMADocaC4R"
      },
      "source": [
        "こんな感じですね。\n",
        "\n",
        "先ほど入れておいた変数が、出力できているかと思います。\n",
        "\n",
        "<br>\n",
        "\n",
        "なお、変数名だけでなく、普通に数字を出力することも可能です。"
      ]
    },
    {
      "cell_type": "code",
      "metadata": {
        "id": "RLXfyC7lajWX",
        "colab": {
          "base_uri": "https://localhost:8080/"
        },
        "outputId": "a530d13a-cec7-49b6-ae99-bf9c94402866"
      },
      "source": [
        "# 数字の1を表示\n",
        "print(1)\n"
      ],
      "execution_count": null,
      "outputs": [
        {
          "output_type": "stream",
          "text": [
            "1\n"
          ],
          "name": "stdout"
        }
      ]
    },
    {
      "cell_type": "markdown",
      "metadata": {
        "id": "12Q-cKUYajYi"
      },
      "source": [
        "さらに、`print()`の中身は、複数選択できます。"
      ]
    },
    {
      "cell_type": "code",
      "metadata": {
        "id": "kI652PLBajTu",
        "colab": {
          "base_uri": "https://localhost:8080/"
        },
        "outputId": "ea2e3d8e-ee6c-4f46-cb15-356463662924"
      },
      "source": [
        "# a, b, fiveを全て表示\n",
        "print(a, b, five)\n"
      ],
      "execution_count": null,
      "outputs": [
        {
          "output_type": "stream",
          "text": [
            "1 3 5\n"
          ],
          "name": "stdout"
        }
      ]
    },
    {
      "cell_type": "markdown",
      "metadata": {
        "id": "mMFePpUTavXZ"
      },
      "source": [
        "## 3.3. 出力の補足\n",
        "\n",
        "なお、いまは`print()`を使って出力しましたが、Google Colaboratoryでは、変数名を書いて、実行するだけで中身を表示できます。"
      ]
    },
    {
      "cell_type": "code",
      "metadata": {
        "id": "CFuVYluaa-dU",
        "colab": {
          "base_uri": "https://localhost:8080/"
        },
        "outputId": "8c30b254-0e8e-462c-f97d-9c6231d0727a"
      },
      "source": [
        "# aを表示\n",
        "a"
      ],
      "execution_count": null,
      "outputs": [
        {
          "output_type": "execute_result",
          "data": {
            "text/plain": [
              "1"
            ]
          },
          "metadata": {
            "tags": []
          },
          "execution_count": 7
        }
      ]
    },
    {
      "cell_type": "markdown",
      "metadata": {
        "id": "nI4dSP5vbLDE"
      },
      "source": [
        "上記のとおりです。ただし、`print()`のように、複数出力することはできません。\n",
        "\n"
      ]
    },
    {
      "cell_type": "code",
      "metadata": {
        "id": "V6yv2pJubU7R",
        "colab": {
          "base_uri": "https://localhost:8080/"
        },
        "outputId": "ecec8f5a-ca5e-4ca4-9c46-107590bfc5fa"
      },
      "source": [
        "# aを表示\n",
        "a\n",
        "\n",
        "# bを表示\n",
        "b\n",
        "\n",
        "# fiveを表示\n",
        "five\n"
      ],
      "execution_count": null,
      "outputs": [
        {
          "output_type": "execute_result",
          "data": {
            "text/plain": [
              "5"
            ]
          },
          "metadata": {
            "tags": []
          },
          "execution_count": 10
        }
      ]
    },
    {
      "cell_type": "markdown",
      "metadata": {
        "id": "LcHZMeBIbU4i"
      },
      "source": [
        "`print()`を使わない場合であれば、最後の1つが出力されるようになっています。\n",
        "\n",
        "どちらで出力を確認しても良いですが、あくまでも「最後の1行しか出力されない」ということをおさえておきましょう。\n",
        "\n",
        "\n",
        "<br>\n",
        "<hr>\n",
        "\n",
        "\n"
      ]
    },
    {
      "cell_type": "markdown",
      "metadata": {
        "id": "tbFVX6GxAiVi"
      },
      "source": [
        "# 4.Pythonの基本\n",
        "\n",
        "Pythonの文法を、より具体的に確認していきたいと思います。"
      ]
    },
    {
      "cell_type": "markdown",
      "metadata": {
        "id": "nPuQPWCPA3VL"
      },
      "source": [
        "## 4.1. 数値と演算\n",
        "\n",
        "数値と演算を習得することで、Pythonを使った電卓計算をできるようになります。\n",
        "\n",
        "<br>\n",
        "\n",
        "数値というのは、読んで字のごとく「数字」のことです。先ほど変数にいれてあげたのが、数値でしたね。"
      ]
    },
    {
      "cell_type": "code",
      "metadata": {
        "id": "eKoEmb_XA3vo"
      },
      "source": [
        "# aという変数に、数字の1を入れる\n",
        "a = 1\n",
        "\n",
        "# bという変数に、数字の3を入れる\n",
        "b = 3\n"
      ],
      "execution_count": 1,
      "outputs": []
    },
    {
      "cell_type": "markdown",
      "metadata": {
        "id": "npi15Kh6A305"
      },
      "source": [
        "Pythonでは、以下のようにすると、数値同士の計算ができます。\n"
      ]
    },
    {
      "cell_type": "code",
      "metadata": {
        "id": "Gp00Oetjc4Ij",
        "colab": {
          "base_uri": "https://localhost:8080/"
        },
        "outputId": "d0a462ef-6231-4a1f-adde-baa9a78de6cd"
      },
      "source": [
        "# 1と3の足し算\n",
        "print(1 + 3)\n",
        "\n",
        "# 1と3の引き算\n",
        "print(1 - 3)\n",
        "\n",
        "# 1と3の掛け算\n",
        "print(1 * 3)\n",
        "\n",
        "# 1と3の割り算\n",
        "print(1 / 3)\n"
      ],
      "execution_count": 6,
      "outputs": [
        {
          "output_type": "stream",
          "text": [
            "4\n",
            "-2\n",
            "3\n",
            "0.3333333333333333\n"
          ],
          "name": "stdout"
        }
      ]
    },
    {
      "cell_type": "markdown",
      "metadata": {
        "id": "cbJCcnpfc4KO"
      },
      "source": [
        "さらに、変数aには1が、変数bには3が入っていたので、上記の計算は以下のように書き換え可能です。"
      ]
    },
    {
      "cell_type": "code",
      "metadata": {
        "id": "LTlyph3KdSdN",
        "colab": {
          "base_uri": "https://localhost:8080/"
        },
        "outputId": "c9b617ec-c2e8-46da-cd3e-c6ddf86fb2a7"
      },
      "source": [
        "# aとbの足し算\n",
        "print(a + b)\n",
        "\n",
        "# aとbの引き算\n",
        "print(a - b)\n",
        "\n",
        "# aとbの掛け算\n",
        "print(a * b)\n",
        "\n",
        "# aとbの割り算\n",
        "print(a / b)\n"
      ],
      "execution_count": 7,
      "outputs": [
        {
          "output_type": "stream",
          "text": [
            "4\n",
            "-2\n",
            "3\n",
            "0.3333333333333333\n"
          ],
          "name": "stdout"
        }
      ]
    },
    {
      "cell_type": "markdown",
      "metadata": {
        "id": "B-gu79wtdSaV"
      },
      "source": [
        "また、計算結果を別の変数に入れて、それを表示することも可能です。"
      ]
    },
    {
      "cell_type": "code",
      "metadata": {
        "id": "DyDAoTjTdmam",
        "colab": {
          "base_uri": "https://localhost:8080/"
        },
        "outputId": "af5dcd1b-d95d-4f1f-b86e-db9e6a02b3d9"
      },
      "source": [
        "# tasuという変数に、足し算の結果を入れる\n",
        "tasu = a + b\n",
        "\n",
        "# hikuという変数に、引き算の結果を入れる\n",
        "hiku = a - b\n",
        "\n",
        "# kakeruという変数に、掛け算の結果を入れる\n",
        "kakeru = a * b\n",
        "\n",
        "# waruという変数に、割り算の結果を入れる\n",
        "waru = a / b\n",
        "\n",
        "# 計算結果の表示\n",
        "print(tasu)\n",
        "print(hiku)\n",
        "print(kakeru)\n",
        "print(waru)\n"
      ],
      "execution_count": 8,
      "outputs": [
        {
          "output_type": "stream",
          "text": [
            "4\n",
            "-2\n",
            "3\n",
            "0.3333333333333333\n"
          ],
          "name": "stdout"
        }
      ]
    },
    {
      "cell_type": "markdown",
      "metadata": {
        "id": "CLE6k69FdmYU"
      },
      "source": [
        "こんな感じですね。\n",
        "\n",
        "ちなみに、割り算の結果だけ、小数になっています。\n",
        "\n",
        "これを商と余り(=小数を使わない形)にするには、以下のように記述します。"
      ]
    },
    {
      "cell_type": "code",
      "metadata": {
        "id": "qThS6NJIc4Fz",
        "colab": {
          "base_uri": "https://localhost:8080/"
        },
        "outputId": "048ba238-5843-47f2-ccf5-48630520885f"
      },
      "source": [
        "# 1 ÷ 3 の商を計算\n",
        "print(1 // 3)\n",
        "\n",
        "# 1 ÷ 3 の余りを計算\n",
        "print(1 % 3)"
      ],
      "execution_count": 17,
      "outputs": [
        {
          "output_type": "stream",
          "text": [
            "0\n",
            "1\n"
          ],
          "name": "stdout"
        }
      ]
    },
    {
      "cell_type": "markdown",
      "metadata": {
        "id": "EjVHd1f5f42O"
      },
      "source": [
        "整数の範囲で割り算をしたいときは、`/`ではなく`//`を使うんですね。\n",
        "\n",
        "また余りを計算したいときは、`%`を使ってあげます。\n",
        "\n",
        "<br>\n",
        "\n",
        "ここまで分かると、Pythonを使って自由に数値計算できるようになりますね。"
      ]
    },
    {
      "cell_type": "markdown",
      "metadata": {
        "id": "L8yILrQ1A36f"
      },
      "source": [
        "## 4.2. 文字列とインデックス\n",
        "\n",
        "Pythonを含むプログラミング言語では、数値だけでなく文字も扱えます。\n",
        "\n",
        "文字を扱う方法はカンタンで、`\"\"`または`''`で囲ってあげるだけです。"
      ]
    },
    {
      "cell_type": "code",
      "metadata": {
        "id": "KX2bLvHSA3_z",
        "colab": {
          "base_uri": "https://localhost:8080/"
        },
        "outputId": "0b387bd2-1f90-493f-99c2-039c259b0690"
      },
      "source": [
        "# \"これは文字です\"を表示\n",
        "print('これは文字です')"
      ],
      "execution_count": 1,
      "outputs": [
        {
          "output_type": "stream",
          "text": [
            "これは文字です\n"
          ],
          "name": "stdout"
        }
      ]
    },
    {
      "cell_type": "markdown",
      "metadata": {
        "id": "0pswnUkUA4Fq"
      },
      "source": [
        "もちろん、文字列を変数に入れてあげることも可能です。"
      ]
    },
    {
      "cell_type": "code",
      "metadata": {
        "id": "nyE9-mHBhqVH",
        "colab": {
          "base_uri": "https://localhost:8080/"
        },
        "outputId": "f18bfe45-f3b0-4260-94ff-662873e3f951"
      },
      "source": [
        "# \"これは文字です\"を変数sに代入\n",
        "s = 'これは文字です'\n",
        "\n",
        "# sを表示\n",
        "print(s)"
      ],
      "execution_count": 2,
      "outputs": [
        {
          "output_type": "stream",
          "text": [
            "これは文字です\n"
          ],
          "name": "stdout"
        }
      ]
    },
    {
      "cell_type": "markdown",
      "metadata": {
        "id": "GT6XvxbyhqTN"
      },
      "source": [
        "さらに、文字列の場合、インデックスを指定することで、特定の文字を取得できます。\n",
        "\n",
        "(インデックスというのは、番号という意味です。要するに、取得したい文字の番号を選んであげれば良いってことですね。)\n",
        "\n",
        "<br>\n",
        "\n",
        "たとえば、先ほど書いた文字列の1文字目「こ」を取得したいと思ったら、以下のように書いてあげます。\n"
      ]
    },
    {
      "cell_type": "code",
      "metadata": {
        "id": "_OICpOZchqQO",
        "colab": {
          "base_uri": "https://localhost:8080/"
        },
        "outputId": "eb4dbc95-6766-4c6a-f1ff-1df2501318d9"
      },
      "source": [
        "# sから「こ」だけ取得する\n",
        "print(s[0]) "
      ],
      "execution_count": 3,
      "outputs": [
        {
          "output_type": "stream",
          "text": [
            "こ\n"
          ],
          "name": "stdout"
        }
      ]
    },
    {
      "cell_type": "markdown",
      "metadata": {
        "id": "u8K4nYKGgwt5"
      },
      "source": [
        "プログラムの場合、**1ではなく0からスタートします。**\n",
        "\n",
        "なので、文字列から「こ」を取得したいと思ったら、`s[0]`と書いてあげるわけですね。\n",
        "\n",
        "<br>\n",
        "\n",
        "```\n",
        "0 こ\n",
        "1 れ\n",
        "2 は\n",
        "3 文\n",
        "4 字\n",
        "5 で\n",
        "6 す\n",
        "```\n",
        "\n",
        "<br>\n",
        "\n",
        "ちなみに、文字列から「これは」と3文字まとめて取得したいときは、以下のように書きます。"
      ]
    },
    {
      "cell_type": "code",
      "metadata": {
        "id": "WBQvf5neix81",
        "colab": {
          "base_uri": "https://localhost:8080/"
        },
        "outputId": "50cb7bea-93ec-42be-935e-7e6afd9b6ca0"
      },
      "source": [
        "# sから「これは」を取得する\n",
        "print(s[0:3])"
      ],
      "execution_count": 4,
      "outputs": [
        {
          "output_type": "stream",
          "text": [
            "これは\n"
          ],
          "name": "stdout"
        }
      ]
    },
    {
      "cell_type": "markdown",
      "metadata": {
        "id": "iNqpNz2Oix5L"
      },
      "source": [
        "感覚的には`s[0:2]`のように書いて「これは」が表示されそうですが、実際には`[開始:終了+1]`と書いてあげます。\n",
        "\n",
        "少しややこしいですが、これは慣れるしかないですね。\n",
        "\n",
        "慣れるまでは`s[0:2]`と`s[0:3]`の両方を書いて試してみるんで良いと思います。\n",
        "\n",
        "<br>\n",
        "\n",
        "なお、`s[0:3]`は、以下のように省略可能です。"
      ]
    },
    {
      "cell_type": "code",
      "metadata": {
        "id": "YPHizVt9jyP4",
        "colab": {
          "base_uri": "https://localhost:8080/"
        },
        "outputId": "e53311f9-c012-4126-a7ea-e131b7b6190d"
      },
      "source": [
        "# sから「これは」を取得する\n",
        "print(s[:3])"
      ],
      "execution_count": 7,
      "outputs": [
        {
          "output_type": "stream",
          "text": [
            "これは\n"
          ],
          "name": "stdout"
        }
      ]
    },
    {
      "cell_type": "markdown",
      "metadata": {
        "id": "b97hk4X-j3ij"
      },
      "source": [
        "`:`の位置を逆にすれば、インデックスが3(=「文」)から最後まで取得できます。\n"
      ]
    },
    {
      "cell_type": "code",
      "metadata": {
        "id": "eTs9jeTyj3fu",
        "colab": {
          "base_uri": "https://localhost:8080/"
        },
        "outputId": "5c67b960-c66a-4f5f-daf7-24c2a9527333"
      },
      "source": [
        "# sからインデックス3以降を取得する\n",
        "print(s[3:])"
      ],
      "execution_count": 6,
      "outputs": [
        {
          "output_type": "stream",
          "text": [
            "文字です\n"
          ],
          "name": "stdout"
        }
      ]
    },
    {
      "cell_type": "markdown",
      "metadata": {
        "id": "J4h1jXgSR9ma"
      },
      "source": [
        "さらに、最後の文字だけ出力するには、以下のように書いてあげます。"
      ]
    },
    {
      "cell_type": "code",
      "metadata": {
        "id": "TJC9EW5fSBKR",
        "colab": {
          "base_uri": "https://localhost:8080/"
        },
        "outputId": "a4fad0bc-4f73-466a-da6e-24c9c400ff01"
      },
      "source": [
        "# sから最後の文字「す」を取得する\n",
        "print(s[-1])"
      ],
      "execution_count": 8,
      "outputs": [
        {
          "output_type": "stream",
          "text": [
            "す\n"
          ],
          "name": "stdout"
        }
      ]
    },
    {
      "cell_type": "markdown",
      "metadata": {
        "id": "6yzauk0xDtxx"
      },
      "source": [
        "## 4.3. bool値と比較演算子\n",
        "\n",
        "bool値とは、TrueやFalseのような論理値のことです。\n",
        "\n",
        "bool値を使うことで、あとで学習する制御構文が理解しやすくなります。\n",
        "\n",
        "<br>\n",
        "\n",
        "たとえば、変数`a`に数値2を入れてあげましょう。"
      ]
    },
    {
      "cell_type": "code",
      "metadata": {
        "id": "4DzJcGS2DtvD"
      },
      "source": [
        "# 変数aに、数値2を代入\n",
        "a = 2"
      ],
      "execution_count": 9,
      "outputs": []
    },
    {
      "cell_type": "markdown",
      "metadata": {
        "id": "4Uc6uV5zCvRm"
      },
      "source": [
        "その後、aが2であるか判断するときに、bool値を使います。\n",
        "\n",
        "<br>\n",
        "\n",
        "aが2であるか判断するには、以下のように書いてあげます。"
      ]
    },
    {
      "cell_type": "code",
      "metadata": {
        "id": "Wq4AUoEqCvIL",
        "colab": {
          "base_uri": "https://localhost:8080/"
        },
        "outputId": "181b0eb7-ed07-40e5-8239-39988c4b3d34"
      },
      "source": [
        "# aが２であるか判定する\n",
        "print(a == 2)"
      ],
      "execution_count": 10,
      "outputs": [
        {
          "output_type": "stream",
          "text": [
            "True\n"
          ],
          "name": "stdout"
        }
      ]
    },
    {
      "cell_type": "markdown",
      "metadata": {
        "id": "MmxJmplHC9G-"
      },
      "source": [
        "変数への代入には`=`を使いましたが、合っているか否か判断するには`==`を使います。\n",
        "\n",
        "そして今回、変数`a`には2を入れてあったので、`a == 2`の結果はTrueになりました。\n",
        "\n",
        "<br>\n",
        "\n",
        "「Trueであれば正しい、Falseであれば間違っている」ということですね。\n",
        "\n",
        "実際に、aが3であるか判断してみます。"
      ]
    },
    {
      "cell_type": "code",
      "metadata": {
        "id": "Z761ObVxC9BN",
        "colab": {
          "base_uri": "https://localhost:8080/"
        },
        "outputId": "0b47223b-11a4-4dc5-e3a4-31a8a1fbdd2d"
      },
      "source": [
        "# aが3であるか判定する\n",
        "print(a == 3)"
      ],
      "execution_count": 11,
      "outputs": [
        {
          "output_type": "stream",
          "text": [
            "False\n"
          ],
          "name": "stdout"
        }
      ]
    },
    {
      "cell_type": "markdown",
      "metadata": {
        "id": "9SbudvimDcEm"
      },
      "source": [
        "判断結果は、False。つまり、正しくないということになりますね。\n",
        "\n",
        "さらに、完全一致だけでなく、比較結果で判断することもできます。\n",
        "\n",
        "<br>\n",
        "\n",
        "たとえば、aが3以上か判断するには、以下のように書きます。"
      ]
    },
    {
      "cell_type": "code",
      "metadata": {
        "id": "KZQ9Y4HKDtWT",
        "colab": {
          "base_uri": "https://localhost:8080/"
        },
        "outputId": "5c082c69-2bfa-4ef1-8816-c41843afe9a2"
      },
      "source": [
        "# aが3以上か判定する\n",
        "print(a >= 3)"
      ],
      "execution_count": 12,
      "outputs": [
        {
          "output_type": "stream",
          "text": [
            "False\n"
          ],
          "name": "stdout"
        }
      ]
    },
    {
      "cell_type": "markdown",
      "metadata": {
        "id": "5rFZHGrqEC3X"
      },
      "source": [
        "日本語で書くなら、a ≧ 3ということになりますね。\n",
        "\n",
        "<br>\n",
        "\n",
        "このように、等しい(`=`)とか、〇〇以上(`>=`)、〇〇未満(`<`)といったときに使う演算記号を、**比較演算子**と言います。\n",
        "\n",
        "a ≧ 3であれば、≧はaと3を比較するために使っているから、「比較演算子」と呼ぶんですね。\n",
        "\n",
        "<br>\n",
        "\n",
        "他にも、比較演算子は、以下のようなものがあります。\n"
      ]
    },
    {
      "cell_type": "code",
      "metadata": {
        "id": "Xu1NBr7yErIi",
        "colab": {
          "base_uri": "https://localhost:8080/"
        },
        "outputId": "aa93263c-46a5-4bf1-d35b-e933b7230501"
      },
      "source": [
        "# aは2以上\n",
        "print(a >= 2)\n",
        "\n",
        "# aは2より大きい\n",
        "print(a > 2)\n",
        "\n",
        "# aは2より小さい\n",
        "print(a < 2)\n",
        "\n",
        "# aは2以下\n",
        "print(a <= 2)"
      ],
      "execution_count": 14,
      "outputs": [
        {
          "output_type": "stream",
          "text": [
            "True\n",
            "False\n",
            "False\n",
            "True\n"
          ],
          "name": "stdout"
        }
      ]
    },
    {
      "cell_type": "markdown",
      "metadata": {
        "id": "QJBz0w8tErFQ"
      },
      "source": [
        "〇〇以上とか〇〇未満といった場合には、その値も含みます。\n",
        "\n",
        "「aは2以上」といったら、2も含んでいるので、`print(a >= 2)`の実行結果が`True`になるんですね。\n",
        "\n",
        "<br>\n",
        "\n",
        "ちなみに、bool値は、変数に入れることも可能です。\n"
      ]
    },
    {
      "cell_type": "code",
      "metadata": {
        "id": "2X1jpnlhErCJ"
      },
      "source": [
        "# is_okという変数名にTrueを入れる\n",
        "is_ok = True"
      ],
      "execution_count": 15,
      "outputs": []
    },
    {
      "cell_type": "markdown",
      "metadata": {
        "id": "RBaPdVbIFa3L"
      },
      "source": [
        "\n",
        "上記は、「変数名`is_ok`にTrueが入っている」ということになります。\n",
        "\n",
        "もちろん、`is_ok`もただの変数なので、以下のように一致するか判定できます。"
      ]
    },
    {
      "cell_type": "code",
      "metadata": {
        "id": "jWqnMiZKEq8g",
        "colab": {
          "base_uri": "https://localhost:8080/"
        },
        "outputId": "5e67f91a-4418-45fa-9496-0e58c2e3d645"
      },
      "source": [
        "# is_okがTrueか判定する\n",
        "print(is_ok == True)\n",
        "\n",
        "# is_okがFalseか判定する\n",
        "print(is_ok == False)"
      ],
      "execution_count": 18,
      "outputs": [
        {
          "output_type": "stream",
          "text": [
            "True\n",
            "False\n"
          ],
          "name": "stdout"
        }
      ]
    },
    {
      "cell_type": "markdown",
      "metadata": {
        "id": "bEngrE9Zg0DK"
      },
      "source": [
        "## 4.4. 型とキャスト\n",
        "\n",
        "ここまで学習してきた数値や文字列、bool値は、それぞれ「型(かた)」と呼びます。\n",
        "\n",
        "- 数値 : int(またはfloat)\n",
        "- 文字列 : str\n",
        "- bool値 : bool"
      ]
    },
    {
      "cell_type": "markdown",
      "metadata": {
        "id": "uxFjskGbJkz6"
      },
      "source": [
        "### 4.4.1. type()\n",
        "\n",
        "目で見ていれば2が数値であることは分かりますが、変数の中に入っていると、それが何型なのか分からなくなってきます。\n",
        "\n",
        "この変数の型を調べるために使うのが`type()`です。\n",
        "\n",
        "実際に`a`に対して、`type()`を使ってみましょう。"
      ]
    },
    {
      "cell_type": "code",
      "metadata": {
        "id": "ZlyeR9uzg0OI",
        "colab": {
          "base_uri": "https://localhost:8080/"
        },
        "outputId": "fbcaafe4-3155-4c94-a370-5819524ee9c4"
      },
      "source": [
        "# 変数aに、数値2を代入\n",
        "a = 2\n",
        "\n",
        "# aの型を確認する\n",
        "print(type(a))"
      ],
      "execution_count": 19,
      "outputs": [
        {
          "output_type": "stream",
          "text": [
            "<class 'int'>\n"
          ],
          "name": "stdout"
        }
      ]
    },
    {
      "cell_type": "markdown",
      "metadata": {
        "id": "P3d3RpheHAd9"
      },
      "source": [
        "すると、intという出力結果になりました。\n",
        "\n",
        "これは、integer(整数)の略です。確かに、aの中には2が入っていたので、正しいですね。\n",
        "\n",
        "<br>\n",
        "\n",
        "他のパターンも試したいので、新しい変数の中に色々と入れてみましょう。\n"
      ]
    },
    {
      "cell_type": "code",
      "metadata": {
        "id": "fUUsGaV_HAf8"
      },
      "source": [
        "# 変数名sixの中に、数値6を代入\n",
        "six = 6\n",
        "\n",
        "# 変数名piの中に、数値3.14を代入\n",
        "pi = 3.14\n",
        "\n",
        "# 変数名textの中に、テキストという文字列を代入\n",
        "text = 'テキスト'\n",
        "\n",
        "# 変数名is_falseの中に、bool値Falseを代入\n",
        "is_false = False"
      ],
      "execution_count": 20,
      "outputs": []
    },
    {
      "cell_type": "markdown",
      "metadata": {
        "id": "2XycY3KaHAbO"
      },
      "source": [
        "その後、`type()`で型を確認してみます。"
      ]
    },
    {
      "cell_type": "code",
      "metadata": {
        "id": "87fGMwj2I4pf",
        "colab": {
          "base_uri": "https://localhost:8080/"
        },
        "outputId": "fb4a28ef-e6fa-4280-eff6-bb4a08352502"
      },
      "source": [
        "# sixの型を確認\n",
        "print(type(six))\n",
        "\n",
        "# piの型を確認\n",
        "print(type(pi))\n",
        "\n",
        "# textの型を確認\n",
        "print(type(text))\n",
        "\n",
        "# is_falseの型を確認\n",
        "print(type(is_false))"
      ],
      "execution_count": 21,
      "outputs": [
        {
          "output_type": "stream",
          "text": [
            "<class 'int'>\n",
            "<class 'float'>\n",
            "<class 'str'>\n",
            "<class 'bool'>\n"
          ],
          "name": "stdout"
        }
      ]
    },
    {
      "cell_type": "markdown",
      "metadata": {
        "id": "lvww-2KFJQkY"
      },
      "source": [
        "以上のような結果になりました。\n",
        "\n",
        "<br>\n",
        "\n",
        "`pi`はfloat型になっていますが、これは小数(正確には実数)のことです。\n",
        "\n",
        "なので「数」であることに変わりありません。"
      ]
    },
    {
      "cell_type": "markdown",
      "metadata": {
        "id": "Pvmz391zJpL8"
      },
      "source": [
        "### 4.4.2. キャスト\n",
        "\n",
        "型を変換することをキャスト(型変換)と呼びます。\n",
        "\n",
        "要するに、strをintに変換したり、intをstrに変換することですね。\n",
        "\n",
        "<br>\n",
        "\n",
        "ここでは、実際に数字の3をstrにキャストしてみたいと思います。"
      ]
    },
    {
      "cell_type": "code",
      "metadata": {
        "id": "qa0twpoAJQf-",
        "colab": {
          "base_uri": "https://localhost:8080/"
        },
        "outputId": "16a5bcec-e89c-44c5-f25b-db6a41a0aa2f"
      },
      "source": [
        "# 変数threeに3を代入\n",
        "three = 3\n",
        "\n",
        "# 元の変数と型を確認\n",
        "print('元の変数と型を確認')\n",
        "print(three)\n",
        "print(type(three))\n",
        "\n",
        "# 文字型にキャスト\n",
        "three_str = str(three)\n",
        "\n",
        "# 変数と型を確認\n",
        "print('変数と型を確認')\n",
        "print(three_str)\n",
        "print(type(three_str))"
      ],
      "execution_count": 34,
      "outputs": [
        {
          "output_type": "stream",
          "text": [
            "元の変数と型を確認\n",
            "3\n",
            "<class 'int'>\n",
            "変数と型を確認\n",
            "3\n",
            "<class 'str'>\n"
          ],
          "name": "stdout"
        }
      ]
    },
    {
      "cell_type": "markdown",
      "metadata": {
        "id": "5K-IYOhdKSo-"
      },
      "source": [
        "このように、数字の3だったのが、文字列の3に変換できました。\n",
        "\n",
        "<br>\n",
        "\n",
        "`str()`を使ってあげることで、数字を文字列に変換できます。\n",
        "\n",
        "逆に、int型へ変換したいときは、`int()`を使ってあげます。"
      ]
    },
    {
      "cell_type": "code",
      "metadata": {
        "id": "ZZpjkq6mKnPd",
        "colab": {
          "base_uri": "https://localhost:8080/"
        },
        "outputId": "d6068b8d-0778-4927-9887-38bacf874f5a"
      },
      "source": [
        "# 先ほど変換した変数と型を確認\n",
        "print(three_str)\n",
        "print(type(three_str))\n",
        "\n",
        "# int型にキャスト\n",
        "three_int = int(three_str)\n",
        "\n",
        "# 変数と型を確認\n",
        "print(three_int)\n",
        "print(type(three_int))"
      ],
      "execution_count": 36,
      "outputs": [
        {
          "output_type": "stream",
          "text": [
            "3\n",
            "<class 'str'>\n",
            "3\n",
            "<class 'int'>\n"
          ],
          "name": "stdout"
        }
      ]
    },
    {
      "cell_type": "markdown",
      "metadata": {
        "id": "CApHqCjBKzYu"
      },
      "source": [
        "こうですね。無事int型になって、帰ってきました。\n",
        "\n",
        "実際に、比較演算子を使って判定してあげると、Trueになるはずです。"
      ]
    },
    {
      "cell_type": "code",
      "metadata": {
        "id": "zoc_UeU8LLTt",
        "colab": {
          "base_uri": "https://localhost:8080/"
        },
        "outputId": "1a7ffee3-ce9b-49a5-d80e-91126caf05dc"
      },
      "source": [
        "# 最初のint→str変換では、一致しないことを確認\n",
        "print(three == three_str)\n",
        "\n",
        "# int→str→intができていることを確認\n",
        "print(three == three_str)\n",
        "print(three_str == three_int)\n",
        "print(three_int == three)"
      ],
      "execution_count": 39,
      "outputs": [
        {
          "output_type": "stream",
          "text": [
            "False\n",
            "False\n",
            "False\n",
            "True\n"
          ],
          "name": "stdout"
        }
      ]
    },
    {
      "cell_type": "markdown",
      "metadata": {
        "id": "y8-kDCvdLXvl"
      },
      "source": [
        "こんな感じです。\n",
        "\n",
        "ちゃんとキャストできたことが分かりますね。\n",
        "\n",
        "\n",
        "<br>\n",
        "<hr>\n"
      ]
    },
    {
      "cell_type": "markdown",
      "metadata": {
        "id": "4QIoFdB_CrNW"
      },
      "source": [
        "# 5.制御構文\n",
        "\n",
        "次は制御構文について学習していきます。制御構文というのは、if文やfor文のことです。\n",
        "\n",
        "ここまで学習すると、いよいよプログラミングっぽくなってきます。"
      ]
    },
    {
      "cell_type": "markdown",
      "metadata": {
        "id": "fM9QXia3DGpT"
      },
      "source": [
        "## 5.1.if文\n",
        "\n",
        "if文は、条件を分岐するときに使います。\n",
        "\n",
        "「もし〇〇だったら、処理A。そうでなく△△だったら、処理B。」といったように、条件によって処理を変更できます。\n",
        "\n",
        "<br>\n",
        "\n",
        "たとえば、「もし変数xが、ゼロより小さかったら」という処理を書いてみましょう。"
      ]
    },
    {
      "cell_type": "code",
      "metadata": {
        "id": "j5DG8TaCDGuu",
        "colab": {
          "base_uri": "https://localhost:8080/"
        },
        "outputId": "b1e2d875-9bdb-4cfb-aa3e-22aba62bd356"
      },
      "source": [
        "# xに好きな数字を代入\n",
        "x = -1\n",
        "\n",
        "# xがゼロより小さかったら...\n",
        "if x < 0:\n",
        "    print('xはゼロより小さいです')"
      ],
      "execution_count": 2,
      "outputs": [
        {
          "output_type": "stream",
          "text": [
            "xはゼロより小さいです\n"
          ],
          "name": "stdout"
        }
      ]
    },
    {
      "cell_type": "markdown",
      "metadata": {
        "id": "83VDsJwxDJY6"
      },
      "source": [
        "上記のように書きます。\n",
        "\n",
        "`x`にゼロより小さい数字を代入してあげれば、「ゼロより小さいです。」と出力されるはずです。\n",
        "\n",
        "ちなみに、if文の下に書く条件は、4文字分の空白(=インデント)を空けます。\n",
        "\n",
        "```\n",
        "if x < 0:\n",
        "    処理A\n",
        "```\n",
        "\n",
        "<br>\n",
        "\n",
        "さらに条件を増やしてあげるには、`elif`を使ってあげます。"
      ]
    },
    {
      "cell_type": "code",
      "metadata": {
        "id": "wnGyXJugXvJr",
        "colab": {
          "base_uri": "https://localhost:8080/"
        },
        "outputId": "fb03e78c-ec76-4f02-b3f1-4a5d88111f3b"
      },
      "source": [
        "# xに好きな数字を代入\n",
        "x = 10\n",
        "\n",
        "# xによって条件分岐\n",
        "if x < 0:\n",
        "    print('xはゼロより小さいです')\n",
        "elif x > 0:\n",
        "    print('ゼロより大きいです')\n"
      ],
      "execution_count": 4,
      "outputs": [
        {
          "output_type": "stream",
          "text": [
            "ゼロより大きいです\n"
          ],
          "name": "stdout"
        }
      ]
    },
    {
      "cell_type": "markdown",
      "metadata": {
        "id": "f0nQRDoPXvG9"
      },
      "source": [
        "上記のとおりです。\n",
        "\n",
        "\n",
        "ただ、この場合だとxが0の場合を取りこぼしてしまいます。"
      ]
    },
    {
      "cell_type": "markdown",
      "metadata": {
        "id": "P99KcBFIYemP"
      },
      "source": [
        "いずれの条件のも当てはまらない場合には、`else`を使って処理してあげます。"
      ]
    },
    {
      "cell_type": "code",
      "metadata": {
        "id": "oqYopwVGYqGs",
        "colab": {
          "base_uri": "https://localhost:8080/"
        },
        "outputId": "7398eb8d-7c0f-49b2-cb55-8031d211cc96"
      },
      "source": [
        "# xに好きな数字を代入\n",
        "x = 0\n",
        "\n",
        "# xによって条件分岐\n",
        "if x < 0:\n",
        "    print('xはゼロより小さいです')\n",
        "elif x == 0:\n",
        "    print('xはゼロです')\n",
        "else:\n",
        "    print('xはゼロより大きいです')"
      ],
      "execution_count": 7,
      "outputs": [
        {
          "output_type": "stream",
          "text": [
            "xはゼロです\n"
          ],
          "name": "stdout"
        }
      ]
    },
    {
      "cell_type": "markdown",
      "metadata": {
        "id": "uNQPJxqIYqDn"
      },
      "source": [
        "elseを追加したことで、しっかりと処理が実行されましたね。\n",
        "\n",
        "if文を使うと、条件に応じた処理を簡単に書けます。頻出単元なので、しっかり復習しておきましょう。"
      ]
    },
    {
      "cell_type": "markdown",
      "metadata": {
        "id": "5IrnDSVWgJ9m"
      },
      "source": [
        "## 5.1-A. 演習(FizzBuzz)\n",
        "\n",
        "さっそく、if文を使った演習をやっていきましょう。\n",
        "\n",
        "```\n",
        "[演習内容]\n",
        "\n",
        "3で割り切れるときはFizz、5で割り切れるときはBuzz、3と5の両方で割り切れるときはFizzBuzz、いずれにも該当しない場合は、その数字を出力するプログラムを作成しよう。\n",
        "\n",
        "```\n",
        "\n",
        "上記です。\n",
        "\n",
        "ここまで学習した内容で作成できるプログラムなので、頑張ってやってみましょう。"
      ]
    },
    {
      "cell_type": "code",
      "metadata": {
        "id": "SJGjPURJgJ6Z",
        "colab": {
          "base_uri": "https://localhost:8080/"
        },
        "outputId": "df141560-b3d7-4c92-e3b1-daa5f2c0005c"
      },
      "source": [
        "# まずは文字で書いてみるのが大事！\n",
        "x = 100\n",
        "# 3と５の最小公倍数で割り切れる場合　「FizzBuzz」と出力\n",
        "if x % 15 == 0:\n",
        "    print('FizzBuzz')\n",
        "\n",
        "# 3で割り切れる場合「Fizz」と出力\n",
        "elif x % 3 == 0:\n",
        "    print('Fizz')\n",
        "\n",
        "# 5で割り切れる場合「Buzz」と出力\n",
        "elif x % 5 == 0:\n",
        "    print('Buzz')\n",
        "\n",
        "# 非該当の場合は「数字」を出力\n",
        "else:\n",
        "    print(x)\n"
      ],
      "execution_count": 10,
      "outputs": [
        {
          "output_type": "stream",
          "text": [
            "Buzz\n"
          ],
          "name": "stdout"
        }
      ]
    },
    {
      "cell_type": "markdown",
      "metadata": {
        "id": "AMRSXXDbDJd-"
      },
      "source": [
        "## 5.2.for文\n",
        "\n",
        "for文は、繰り返し処理をするための文法です。\n",
        "\n",
        "<br>\n",
        "\n",
        "たとえば、数字の0〜4を出力するプログラムを考えてみましょう。\n",
        "\n",
        "今まで学習した内容を使うと、以下のように書けますね。"
      ]
    },
    {
      "cell_type": "code",
      "metadata": {
        "id": "l1RWAiyyT4ws"
      },
      "source": [
        "# 0から4を表示する\n",
        "\n"
      ],
      "execution_count": 13,
      "outputs": []
    },
    {
      "cell_type": "markdown",
      "metadata": {
        "id": "DEPPlTCHT8OZ"
      },
      "source": [
        "ただこれだと、プログラム感が全くありません...！笑\n",
        "\n",
        "足し算を使うことで、もう少しプログラムチックにしましょう。"
      ]
    },
    {
      "cell_type": "code",
      "metadata": {
        "id": "5iprNPkZDJjY"
      },
      "source": [
        "# iに0を入れる\n",
        "\n",
        "\n",
        "# iに1を足す\n",
        "\n",
        "\n",
        "# iに1を足す\n",
        "\n",
        "\n",
        "# iに1を足す\n",
        "\n",
        "\n",
        "# iに1を足す\n",
        "\n"
      ],
      "execution_count": null,
      "outputs": []
    },
    {
      "cell_type": "markdown",
      "metadata": {
        "id": "2WMrSF01DGzS"
      },
      "source": [
        "この場合、`i = 0`から始まって、そのあとは、すべて同じ処理を繰り返しています。\n",
        "\n",
        "こういった、単純に数値を繰り返す処理は、for文を使ってあげると良いです。"
      ]
    },
    {
      "cell_type": "markdown",
      "metadata": {
        "id": "8R0rjGrODzYI"
      },
      "source": [
        "### 5.2.1. range()\n",
        "\n",
        "for文の中でも、`range()`を使うと、数字の0〜4を出力するプログラムは以下のように書けます。"
      ]
    },
    {
      "cell_type": "code",
      "metadata": {
        "id": "oEcvlol_D1my",
        "colab": {
          "base_uri": "https://localhost:8080/"
        },
        "outputId": "0c30260b-b226-41f1-d087-fece6e6ee050"
      },
      "source": [
        "# 0〜4を表示するfor文を作成する\n",
        "for i in range(5):\n",
        "    print(i)\n"
      ],
      "execution_count": 29,
      "outputs": [
        {
          "output_type": "stream",
          "text": [
            "0\n",
            "1\n",
            "2\n",
            "3\n",
            "4\n"
          ],
          "name": "stdout"
        }
      ]
    },
    {
      "cell_type": "markdown",
      "metadata": {
        "id": "OrOD8umCD1ku"
      },
      "source": [
        "なんと、先ほどまで12行もプログラムを書いていたのが、2行で完結してしまいました...。\n",
        "\n",
        "しかも、こっちの方が、35倍は見やすいですね。\n",
        "\n",
        "<br>\n",
        "\n",
        "`range()`を使ってあげると、0からスタートして、\n",
        "カッコ内の数字だけ繰り返し処理を実施します。\n",
        "\n",
        "0からではなく、1からスタートしたい場合には、以下のように書きます。"
      ]
    },
    {
      "cell_type": "code",
      "metadata": {
        "id": "Ehd8YozG0-jv",
        "colab": {
          "base_uri": "https://localhost:8080/"
        },
        "outputId": "95abc3e3-f83d-45e6-ca93-754de104c884"
      },
      "source": [
        "# 1〜4を表示するfor文を作成する\n",
        "for i in range(1,5):\n",
        "    print(i)\n"
      ],
      "execution_count": 14,
      "outputs": [
        {
          "output_type": "stream",
          "text": [
            "1\n",
            "2\n",
            "3\n",
            "4\n"
          ],
          "name": "stdout"
        }
      ]
    },
    {
      "cell_type": "markdown",
      "metadata": {
        "id": "n0vc8zab0-hQ"
      },
      "source": [
        "`range(1, 5)`と書くと、1〜5まで出力されそうですが、1〜4までです。\n",
        "\n",
        "文字列のインデックスでもそうでしたが、「**後ろの数字指定は、基本的に1つ減る**」と認識しておくと良いかもしれないですね。\n",
        "\n",
        "<br>\n",
        "\n",
        "また、1つ飛ばしをすることも可能です。"
      ]
    },
    {
      "cell_type": "code",
      "metadata": {
        "id": "CoYYWq3k1gcU",
        "colab": {
          "base_uri": "https://localhost:8080/"
        },
        "outputId": "b995cb41-3d95-4d64-9e08-db9b216ef0b9"
      },
      "source": [
        "# 1〜4で、1つ飛ばしにして出力する\n",
        "for i in range(1,5,2):\n",
        "    print(i)\n"
      ],
      "execution_count": 18,
      "outputs": [
        {
          "output_type": "stream",
          "text": [
            "1\n",
            "3\n"
          ],
          "name": "stdout"
        }
      ]
    },
    {
      "cell_type": "markdown",
      "metadata": {
        "id": "0_YlYxHy1ge8"
      },
      "source": [
        "3つ目に書いた数字の部分が、飛ばす幅を選択できるので、他の数字も試してみると面白いですね。"
      ]
    },
    {
      "cell_type": "code",
      "metadata": {
        "id": "KeQgwrSH1gnh",
        "colab": {
          "base_uri": "https://localhost:8080/"
        },
        "outputId": "260c2f2a-12bd-4bfa-d922-f09e308104ae"
      },
      "source": [
        "# 1〜９で3つ飛ばしで表示する\n",
        "for i in range(1,10,3):\n",
        "    print(i)\n"
      ],
      "execution_count": 19,
      "outputs": [
        {
          "output_type": "stream",
          "text": [
            "1\n",
            "4\n",
            "7\n"
          ],
          "name": "stdout"
        }
      ]
    },
    {
      "cell_type": "markdown",
      "metadata": {
        "id": "Q-H39p3l2snn"
      },
      "source": [
        "文字列のインデックスを指定すると、該当箇所の文字を取り出せることを応用して、1文字ずつ出力するプログラムですね。\n",
        "\n",
        "いま`range()`の中身は数字の6をダイレクトに書いてしまいましたが、`len()`を使えば以下のように書けます。"
      ]
    },
    {
      "cell_type": "code",
      "metadata": {
        "id": "3fq-_rCO3a_M",
        "colab": {
          "base_uri": "https://localhost:8080/"
        },
        "outputId": "7dec3f43-32c4-4379-e4dd-4bffe5435abd"
      },
      "source": [
        "# wordに\"python\"という文字列を入れる\n",
        "word = 'python'\n",
        "\n",
        "# 文字列の長さを、len()を使って指定する\n",
        "for i in range(len(word)):\n",
        "    print(word[i])\n"
      ],
      "execution_count": 33,
      "outputs": [
        {
          "output_type": "stream",
          "text": [
            "p\n",
            "y\n",
            "t\n",
            "h\n",
            "o\n",
            "n\n"
          ],
          "name": "stdout"
        }
      ]
    },
    {
      "cell_type": "markdown",
      "metadata": {
        "id": "qmyd9-SB3ma3"
      },
      "source": [
        "`len()`は、lengthの略で、長さを調べるときに使います。\n",
        "\n",
        "`len()`は、あとで学習するリストでも使うので、このタイミングで覚えておきましょう！"
      ]
    },
    {
      "cell_type": "markdown",
      "metadata": {
        "id": "ya_KGHXN19gy"
      },
      "source": [
        "### 5.2.2. インデックス指定しないfor(拡張for)\n",
        "\n",
        "`range()`と文字列のインデックスを指定することで、1文字ずつ出力するプログラムを作成しました。\n",
        "\n",
        "ですが、インデックスを指定しなくても、for文を使って1文字ずつ出力するプログラムを作成できます。"
      ]
    },
    {
      "cell_type": "code",
      "metadata": {
        "id": "ZHxJfFWf19e0",
        "colab": {
          "base_uri": "https://localhost:8080/"
        },
        "outputId": "9fc67d07-2a92-4e3d-ec3b-93bf292ac6b2"
      },
      "source": [
        "# wordという変数に、\"python\"という文字列を入れる\n",
        "word = 'python'\n",
        "\n",
        "# range()を使わずにfor文で出力する\n",
        "for i in word:\n",
        "    print(i)\n"
      ],
      "execution_count": 27,
      "outputs": [
        {
          "output_type": "stream",
          "text": [
            "p\n",
            "y\n",
            "t\n",
            "h\n",
            "o\n",
            "n\n"
          ],
          "name": "stdout"
        }
      ]
    },
    {
      "cell_type": "markdown",
      "metadata": {
        "id": "RMSySqtc19bq"
      },
      "source": [
        "これは文字列を直接参照して、for文を適応しています。\n",
        "\n",
        "ちょっと先の話になりますが、Pythonには数字や文字をたくさん入れておける「リスト」というものがあり、その場合も同じ書き方で中身を1つずつ取り出せます。"
      ]
    },
    {
      "cell_type": "code",
      "metadata": {
        "id": "5DhKF2op7W9B",
        "colab": {
          "base_uri": "https://localhost:8080/"
        },
        "outputId": "2afd9192-1428-49e2-a55e-c0b916e5e3f8"
      },
      "source": [
        "# リストにPython, Java, Golangを入れる\n",
        "list = ['Pythton', 'Java', 'Golang']\n",
        "\n",
        "# for文で出力する\n",
        "for i in list:\n",
        "    print(i)\n"
      ],
      "execution_count": 28,
      "outputs": [
        {
          "output_type": "stream",
          "text": [
            "Pythton\n",
            "Java\n",
            "Golang\n"
          ],
          "name": "stdout"
        }
      ]
    },
    {
      "cell_type": "markdown",
      "metadata": {
        "id": "8nRETTlC7W-p"
      },
      "source": [
        "こんな感じですね。\n",
        "\n",
        "基本的に、文字列やリストの中身を参照するときは、こちらの「インデックスを指定しないfor」を使っていきます。\n",
        "\n",
        "*※インデックスを指定しない理由は、第一に読みやすさです。range(len(x))と書いていると、、、for文の条件指定が長くなって読みにくくなります。*"
      ]
    },
    {
      "cell_type": "markdown",
      "metadata": {
        "id": "mMB1iTuoEGBS"
      },
      "source": [
        "## 5.3. while文\n",
        "\n",
        "while文を学習する前に、1を3回足し合わせるプログラムを作成しましょう。"
      ]
    },
    {
      "cell_type": "code",
      "metadata": {
        "id": "NuilswlqEF-q",
        "colab": {
          "base_uri": "https://localhost:8080/"
        },
        "outputId": "279946de-2b63-4129-b617-bd43686a5eb2"
      },
      "source": [
        "# iに1を代入\n",
        "i = 1\n",
        "\n",
        "# 1を3回足し合わせる\n",
        "i = i + 1\n",
        "i = i + 1\n",
        "i = i + 1\n",
        "\n",
        "# 結果の表示\n",
        "print(i)"
      ],
      "execution_count": 40,
      "outputs": [
        {
          "output_type": "stream",
          "text": [
            "4\n"
          ],
          "name": "stdout"
        }
      ]
    },
    {
      "cell_type": "markdown",
      "metadata": {
        "id": "Xqac8uieEKak"
      },
      "source": [
        "こうなりますよね。\n",
        "\n",
        "では、1を100回足し合わせるプログラムを作成しましょう。"
      ]
    },
    {
      "cell_type": "markdown",
      "metadata": {
        "id": "4PAWXxhT9DN9"
      },
      "source": [
        "途中で表示したように、1を100回足し合わせるプログラムを書いていたら、日が暮れてしまいます。\n",
        "\n",
        "このように、同じ処理を繰り返しおこなうには、while文を使ってあげます。"
      ]
    },
    {
      "cell_type": "code",
      "metadata": {
        "id": "0AGQ2Crw9DLl",
        "colab": {
          "base_uri": "https://localhost:8080/"
        },
        "outputId": "2e0e3118-f9ac-43ef-cd02-5d630e93a118"
      },
      "source": [
        "# iに0を入れる\n",
        "i = 0\n",
        "\n",
        "# iが100未満の間、実行する\n",
        "while i < 100:\n",
        "    i += 1\n",
        "    print(i)\n",
        "\n",
        "# 最終結果を出力する\n",
        "print('****************')\n",
        "print(i)\n"
      ],
      "execution_count": 46,
      "outputs": [
        {
          "output_type": "stream",
          "text": [
            "1\n",
            "2\n",
            "3\n",
            "4\n",
            "5\n",
            "6\n",
            "7\n",
            "8\n",
            "9\n",
            "10\n",
            "11\n",
            "12\n",
            "13\n",
            "14\n",
            "15\n",
            "16\n",
            "17\n",
            "18\n",
            "19\n",
            "20\n",
            "21\n",
            "22\n",
            "23\n",
            "24\n",
            "25\n",
            "26\n",
            "27\n",
            "28\n",
            "29\n",
            "30\n",
            "31\n",
            "32\n",
            "33\n",
            "34\n",
            "35\n",
            "36\n",
            "37\n",
            "38\n",
            "39\n",
            "40\n",
            "41\n",
            "42\n",
            "43\n",
            "44\n",
            "45\n",
            "46\n",
            "47\n",
            "48\n",
            "49\n",
            "50\n",
            "51\n",
            "52\n",
            "53\n",
            "54\n",
            "55\n",
            "56\n",
            "57\n",
            "58\n",
            "59\n",
            "60\n",
            "61\n",
            "62\n",
            "63\n",
            "64\n",
            "65\n",
            "66\n",
            "67\n",
            "68\n",
            "69\n",
            "70\n",
            "71\n",
            "72\n",
            "73\n",
            "74\n",
            "75\n",
            "76\n",
            "77\n",
            "78\n",
            "79\n",
            "80\n",
            "81\n",
            "82\n",
            "83\n",
            "84\n",
            "85\n",
            "86\n",
            "87\n",
            "88\n",
            "89\n",
            "90\n",
            "91\n",
            "92\n",
            "93\n",
            "94\n",
            "95\n",
            "96\n",
            "97\n",
            "98\n",
            "99\n",
            "100\n",
            "****************\n",
            "100\n"
          ],
          "name": "stdout"
        }
      ]
    },
    {
      "cell_type": "markdown",
      "metadata": {
        "id": "SRgcgu1p9XDO"
      },
      "source": [
        "これは、「iが100未満のあいだ、while以下の処理を繰り返す」という意味です。\n",
        "\n",
        "よって、iに1が100回足されていることになります。\n",
        "\n",
        "<br>\n",
        "\n",
        "本来だったら、100行同じ処理を書く必要があったけど、while文を使ってあげることで、かなり簡潔に書けるようになりましたね！\n",
        "\n",
        "なお、`i = i + 1`の部分は、`i += 1`と省略できます。"
      ]
    },
    {
      "cell_type": "markdown",
      "metadata": {
        "id": "60xDu-sI9zdI"
      },
      "source": [
        "こちらの方が、読みやすいですね。\n",
        "\n"
      ]
    },
    {
      "cell_type": "markdown",
      "metadata": {
        "id": "tTBugsf59zZw"
      },
      "source": [
        "#### 5.3.1. while文の注意点\n",
        "\n",
        "while文は、条件を満たす間、無限に実行してしまいます。\n",
        "\n",
        "今回でいうと、`i < 100`という条件を付けてあります。\n",
        "\n",
        "これは`i += 1`を書いていたので途中で処理が終了しましたが、もし書き忘れてしまうと..."
      ]
    },
    {
      "cell_type": "code",
      "metadata": {
        "id": "jIa_2gSC-lJj",
        "colab": {
          "base_uri": "https://localhost:8080/",
          "height": 137
        },
        "outputId": "05cb0a27-783c-438d-f2bb-b1e684e1c829"
      },
      "source": [
        "# iに0を入れる\n",
        "i = 0\n",
        "\n",
        "# iが100未満の間、実行する\n",
        "while i < 100:\n",
        "    #print(i)\n",
        "\n",
        "# 最終結果を出力する\n",
        "print(i)"
      ],
      "execution_count": 50,
      "outputs": [
        {
          "output_type": "error",
          "ename": "IndentationError",
          "evalue": "ignored",
          "traceback": [
            "\u001b[0;36m  File \u001b[0;32m\"<ipython-input-50-f7114395ea73>\"\u001b[0;36m, line \u001b[0;32m8\u001b[0m\n\u001b[0;31m    print(i)\u001b[0m\n\u001b[0m        ^\u001b[0m\n\u001b[0;31mIndentationError\u001b[0m\u001b[0;31m:\u001b[0m expected an indented block\n"
          ]
        }
      ]
    },
    {
      "cell_type": "markdown",
      "metadata": {
        "id": "wL7IHBep-lHH"
      },
      "source": [
        "このように、大変なことになってしまいます...！\n",
        "\n",
        "なので、無限ループを回避するためにも、`i += 1`を書き忘れたり、`while True`(ずっと処理を実行してしまう)と書くのは控えましょう。"
      ]
    },
    {
      "cell_type": "markdown",
      "metadata": {
        "id": "zWDdThf2EKkb"
      },
      "source": [
        "## 5.4. breakとcontinue\n",
        "\n",
        "while文やfor文のような繰り返し処理をしていると、特定の条件になったら処理を中断したり、特定の処理だけスキップしたいときが出てきます。\n",
        "\n",
        "そこで使うのが、breakとcontinueです。"
      ]
    },
    {
      "cell_type": "markdown",
      "metadata": {
        "id": "gmMiH9jsA2K-"
      },
      "source": [
        "### 5.4.1. break\n",
        "\n",
        "途中で繰り返し処理を中断したいときには、breakを使ってあげます。"
      ]
    },
    {
      "cell_type": "code",
      "metadata": {
        "id": "4E1gyG8rXxDK",
        "colab": {
          "base_uri": "https://localhost:8080/"
        },
        "outputId": "606f2804-fad1-4280-c693-31894bea1fbf"
      },
      "source": [
        "# 動画で紹介した方法\n",
        "# 0〜9まで出力するとき、数字の5になったら中断する\n",
        "i = 0\n",
        "while i < 10:\n",
        "    print(i)\n",
        "    i += 1\n",
        "    if i == 5:\n",
        "        break\n"
      ],
      "execution_count": 55,
      "outputs": [
        {
          "output_type": "stream",
          "text": [
            "0\n",
            "1\n",
            "2\n",
            "3\n",
            "4\n"
          ],
          "name": "stdout"
        }
      ]
    },
    {
      "cell_type": "code",
      "metadata": {
        "id": "p7MtTJOkA4Pl",
        "colab": {
          "base_uri": "https://localhost:8080/"
        },
        "outputId": "b52a373b-38e1-442f-d61c-192ce773a183"
      },
      "source": [
        "# for文で作成\n",
        "# 0〜9まで出力するとき、数字の5になったら中断する\n",
        "i = 0\n",
        "for i in range(10):\n",
        "    print(i)\n",
        "    i += 1\n",
        "    if i == 5:\n",
        "        break\n",
        "\n"
      ],
      "execution_count": 59,
      "outputs": [
        {
          "output_type": "stream",
          "text": [
            "0\n",
            "1\n",
            "2\n",
            "3\n",
            "4\n"
          ],
          "name": "stdout"
        }
      ]
    },
    {
      "cell_type": "markdown",
      "metadata": {
        "id": "IMZrfSryA4Mz"
      },
      "source": [
        "この場合、「もし`i = 5`になったら、for文を中断する」というプログラムを作成しました。\n",
        "\n",
        "while文でも同様で、以前に作成した1を100回足すプログラムは、以下のように書き換え可能です。"
      ]
    },
    {
      "cell_type": "code",
      "metadata": {
        "id": "YoMEDePbEKp_",
        "colab": {
          "base_uri": "https://localhost:8080/"
        },
        "outputId": "8f720abd-c270-4e34-8fc7-c93f718f2944"
      },
      "source": [
        "# 今までの書き方\n",
        "i = 0\n",
        "while i < 100:\n",
        "    i += 1\n",
        "    print(i)"
      ],
      "execution_count": 60,
      "outputs": [
        {
          "output_type": "stream",
          "text": [
            "1\n",
            "2\n",
            "3\n",
            "4\n",
            "5\n"
          ],
          "name": "stdout"
        }
      ]
    },
    {
      "cell_type": "code",
      "metadata": {
        "id": "QimEFrVlENi1",
        "colab": {
          "base_uri": "https://localhost:8080/"
        },
        "outputId": "f610838a-5bf7-45d3-9c19-f51338e3986b"
      },
      "source": [
        "# breakを使った書き方\n",
        "\n",
        "i = 0\n",
        "while True:\n",
        "    i += 1\n",
        "    print(i)\n",
        "    if i == 100:\n",
        "        break"
      ],
      "execution_count": 61,
      "outputs": [
        {
          "output_type": "stream",
          "text": [
            "1\n",
            "2\n",
            "3\n",
            "4\n",
            "5\n",
            "6\n",
            "7\n",
            "8\n",
            "9\n",
            "10\n",
            "11\n",
            "12\n",
            "13\n",
            "14\n",
            "15\n",
            "16\n",
            "17\n",
            "18\n",
            "19\n",
            "20\n",
            "21\n",
            "22\n",
            "23\n",
            "24\n",
            "25\n",
            "26\n",
            "27\n",
            "28\n",
            "29\n",
            "30\n",
            "31\n",
            "32\n",
            "33\n",
            "34\n",
            "35\n",
            "36\n",
            "37\n",
            "38\n",
            "39\n",
            "40\n",
            "41\n",
            "42\n",
            "43\n",
            "44\n",
            "45\n",
            "46\n",
            "47\n",
            "48\n",
            "49\n",
            "50\n",
            "51\n",
            "52\n",
            "53\n",
            "54\n",
            "55\n",
            "56\n",
            "57\n",
            "58\n",
            "59\n",
            "60\n",
            "61\n",
            "62\n",
            "63\n",
            "64\n",
            "65\n",
            "66\n",
            "67\n",
            "68\n",
            "69\n",
            "70\n",
            "71\n",
            "72\n",
            "73\n",
            "74\n",
            "75\n",
            "76\n",
            "77\n",
            "78\n",
            "79\n",
            "80\n",
            "81\n",
            "82\n",
            "83\n",
            "84\n",
            "85\n",
            "86\n",
            "87\n",
            "88\n",
            "89\n",
            "90\n",
            "91\n",
            "92\n",
            "93\n",
            "94\n",
            "95\n",
            "96\n",
            "97\n",
            "98\n",
            "99\n",
            "100\n"
          ],
          "name": "stdout"
        }
      ]
    },
    {
      "cell_type": "markdown",
      "metadata": {
        "id": "TU6bdfY4BdkL"
      },
      "source": [
        "`break`を使ったwhile文は、if文と併用して「もし100になったら、処理をやめる」ということになります。\n",
        "\n",
        "*この場合、どちらでも処理は同じですが、`while i < 100`の書き方が推奨です。それくらい、while Trueは使用を控えるのが無難ですね。*"
      ]
    },
    {
      "cell_type": "markdown",
      "metadata": {
        "id": "eNKyWVtBCQmG"
      },
      "source": [
        "### 5.4.2. continue\n",
        "\n",
        "特定の条件だけ処理をスキップしたい場合には、continueを使います。"
      ]
    },
    {
      "cell_type": "code",
      "metadata": {
        "id": "C4RcGE1kCQr2",
        "colab": {
          "base_uri": "https://localhost:8080/"
        },
        "outputId": "0d484dc7-ea8b-46b6-8553-db818620e1e9"
      },
      "source": [
        "# 0〜9まで出力するとき、数字の5だったらスキップする\n",
        "for i in range(10):\n",
        "    if i == 5:\n",
        "        continue\n",
        "    print(i)\n"
      ],
      "execution_count": 64,
      "outputs": [
        {
          "output_type": "stream",
          "text": [
            "0\n",
            "1\n",
            "2\n",
            "3\n",
            "4\n",
            "6\n",
            "7\n",
            "8\n",
            "9\n"
          ],
          "name": "stdout"
        }
      ]
    },
    {
      "cell_type": "markdown",
      "metadata": {
        "id": "3DiORmahCQy7"
      },
      "source": [
        "iが5のときに`continue`を使っているので、`print()`が実行されませんでした。\n",
        "\n",
        "もう少し応用すると、「3の倍数だけスキップする」といった処理もできるようになりますね。\n"
      ]
    },
    {
      "cell_type": "code",
      "metadata": {
        "id": "YyC2P_fJC1Sf",
        "colab": {
          "base_uri": "https://localhost:8080/"
        },
        "outputId": "8d5cd4fb-64ad-417a-ee7c-7d760c658c56"
      },
      "source": [
        "# 0〜9まで出力するとき、3の倍数だったらスキップする\n",
        "for i in range(10):\n",
        "    if i % 3 == 0:\n",
        "        continue\n",
        "    print(i)\n",
        "\n"
      ],
      "execution_count": 66,
      "outputs": [
        {
          "output_type": "stream",
          "text": [
            "1\n",
            "2\n",
            "4\n",
            "5\n",
            "7\n",
            "8\n"
          ],
          "name": "stdout"
        }
      ]
    },
    {
      "cell_type": "markdown",
      "metadata": {
        "id": "iDjxQ_CNC1QR"
      },
      "source": [
        "このように、3, 6, 9だけスキップされました。\n",
        "\n",
        "breakやcontinueも、ときどき使いますので、頭に入れておきましょう。"
      ]
    },
    {
      "cell_type": "markdown",
      "metadata": {
        "id": "aUyh0VKICKMR"
      },
      "source": [
        "# 6.データ構造\n",
        "\n",
        "いままで扱ってきたデータ型は、int型やstr型など、言うなれば1つの値でした。\n",
        "\n",
        "`a = 1`のように、1つの変数に1つの値を入れてきましたよね。\n",
        "\n",
        "<br>\n",
        "\n",
        "でも、プログラムを書いていく上で、「複数の値を入れておける箱」のようなものがあると、かなり便利になります。\n",
        "\n",
        "<br>\n",
        "\n",
        "この章では、そんな複数の値を一度の扱う方法を学習していきます。"
      ]
    },
    {
      "cell_type": "markdown",
      "metadata": {
        "id": "8TmkIaoSBdqX"
      },
      "source": [
        "## 6.1. リスト\n",
        "\n",
        "複数の値を扱いたいとなったとき、一番ポピュラーなのが「リスト」です。\n",
        "\n",
        "たとえば、数字の1〜5を格納するリストを作成するには、以下のように書きます。"
      ]
    },
    {
      "cell_type": "code",
      "metadata": {
        "id": "x5caKWufByNC",
        "colab": {
          "base_uri": "https://localhost:8080/"
        },
        "outputId": "e4d2c456-3a53-4992-aa6f-78609a255e51"
      },
      "source": [
        "# 変数lに1, 2, 3, 4, 5を格納したリストを作成する\n",
        "l = [1, 2, 3, 4, 5]\n",
        "\n",
        "# lを表示する\n",
        "print(l)\n",
        "\n",
        "# lの型を確認する\n",
        "print(type(l))"
      ],
      "execution_count": 67,
      "outputs": [
        {
          "output_type": "stream",
          "text": [
            "[1, 2, 3, 4, 5]\n",
            "<class 'list'>\n"
          ],
          "name": "stdout"
        }
      ]
    },
    {
      "cell_type": "markdown",
      "metadata": {
        "id": "iHvmMufEByKn"
      },
      "source": [
        "このように、いままで1つの値しか変数に格納できませんでしたが、リストを使うことで一度に複数の値を扱えるようになりました。\n",
        "\n",
        "<br>\n",
        "\n",
        "リストの中身は、数値だけでなく、文字列も格納できます。"
      ]
    },
    {
      "cell_type": "code",
      "metadata": {
        "id": "uybRksh5CJgm",
        "colab": {
          "base_uri": "https://localhost:8080/"
        },
        "outputId": "5e55cf1a-7c55-454a-aeba-7fa665ad0814"
      },
      "source": [
        "# 変数l2に、Python, Java, Golangを格納したリストを入れる\n",
        "l2 = ['Python', 'Java', 'Golang']\n",
        "\n",
        "# l2を表示\n",
        "print(l2)"
      ],
      "execution_count": 68,
      "outputs": [
        {
          "output_type": "stream",
          "text": [
            "['Python', 'Java', 'Golang']\n"
          ],
          "name": "stdout"
        }
      ]
    },
    {
      "cell_type": "markdown",
      "metadata": {
        "id": "Q5FKlZU3GG-C"
      },
      "source": [
        "数値と文字列、またbool値を併用することも可能です。"
      ]
    },
    {
      "cell_type": "code",
      "metadata": {
        "id": "xUzUvngMGG_T",
        "colab": {
          "base_uri": "https://localhost:8080/"
        },
        "outputId": "16ffd6de-fe90-4108-e660-97a4269e5e2d"
      },
      "source": [
        "# 変数l3に、1, \"Python\", True, 33を格納したリストを入れる\n",
        "l3 = [1, 'Python', True, 33]\n",
        "\n",
        "# l3を表示する\n",
        "print(l3)"
      ],
      "execution_count": 69,
      "outputs": [
        {
          "output_type": "stream",
          "text": [
            "[1, 'Python', True, 33]\n"
          ],
          "name": "stdout"
        }
      ]
    },
    {
      "cell_type": "markdown",
      "metadata": {
        "id": "dSWkKsPiGG61"
      },
      "source": [
        "中身にアクセスするときは、文字列と同様でインデックス番号を指定してあげます。"
      ]
    },
    {
      "cell_type": "code",
      "metadata": {
        "id": "AiF06GcFNx7b",
        "colab": {
          "base_uri": "https://localhost:8080/"
        },
        "outputId": "1075cdae-4d25-4967-8bb3-ac584322770b"
      },
      "source": [
        "# l3の0番目を表示\n",
        "print(l3[0])\n",
        "\n",
        "# l3の3番目を表示\n",
        "print(l3[3])\n"
      ],
      "execution_count": 70,
      "outputs": [
        {
          "output_type": "stream",
          "text": [
            "1\n",
            "33\n"
          ],
          "name": "stdout"
        }
      ]
    },
    {
      "cell_type": "markdown",
      "metadata": {
        "id": "KWtMtticNx48"
      },
      "source": [
        "インデックス番号を指定できるということは、for文を組み合わせることで、簡単にすべての中身を表示するプログラムを書けます。"
      ]
    },
    {
      "cell_type": "code",
      "metadata": {
        "id": "zevERFAeNx1N",
        "colab": {
          "base_uri": "https://localhost:8080/"
        },
        "outputId": "cc904ca8-5238-44e8-e5ae-f27e9437aa0a"
      },
      "source": [
        "# l3を表示する\n",
        "print(l3)\n",
        "\n",
        "# l3をfor文(インデックス指定)で出力する\n",
        "for i in range(len(l3)):\n",
        "    print(l3[i])\n"
      ],
      "execution_count": 78,
      "outputs": [
        {
          "output_type": "stream",
          "text": [
            "[1, 'Python', True, 33]\n",
            "1\n",
            "Python\n",
            "True\n",
            "33\n"
          ],
          "name": "stdout"
        }
      ]
    },
    {
      "cell_type": "markdown",
      "metadata": {
        "id": "DQwekyGoOYD0"
      },
      "source": [
        "文字列のとき同様で、`len()`を使ってあげることで、リストの長さを取得できます。\n",
        "\n",
        "さらに、文字列同様に、インデックス番号を指定しない方法も使えます。"
      ]
    },
    {
      "cell_type": "code",
      "metadata": {
        "id": "bOcfl479OX97",
        "colab": {
          "base_uri": "https://localhost:8080/"
        },
        "outputId": "0feb8db7-0349-40e3-d3ae-eff456e657b2"
      },
      "source": [
        "# インデックス指定せずに、for文で出力する\n",
        "for i in l3:\n",
        "    print(i)\n"
      ],
      "execution_count": 79,
      "outputs": [
        {
          "output_type": "stream",
          "text": [
            "1\n",
            "Python\n",
            "True\n",
            "33\n"
          ],
          "name": "stdout"
        }
      ]
    },
    {
      "cell_type": "markdown",
      "metadata": {
        "id": "pUifBqwwOoYW"
      },
      "source": [
        "やはり、インデックス番号を指定しない方がメジャーですね。\n",
        "\n",
        "かなり読みやすいコードを書けます。"
      ]
    },
    {
      "cell_type": "markdown",
      "metadata": {
        "id": "b1SQEoanOoU_"
      },
      "source": [
        "## 6.2. enumerate()\n",
        "\n",
        "リストの中身を確認しつつ、インデックス番号を取得したい時もあると思います。\n",
        "\n",
        "そんなとき、思いつくのは以下の方法ですよね。\n"
      ]
    },
    {
      "cell_type": "code",
      "metadata": {
        "id": "WzGYI_psOzIh",
        "colab": {
          "base_uri": "https://localhost:8080/"
        },
        "outputId": "b61feb61-f6ba-4e2c-88f4-1ca6ce3f22df"
      },
      "source": [
        "# l2に\"Python\", \"Java\", \"Golang\"を出力する\n",
        "l2 = ['Python', 'Java', 'Golang']\n",
        "\n",
        "# インデックス指定で(インデックス, 中身)を出力する\n",
        "for i in range(len(l2)):\n",
        "    print(i, l2[i])\n"
      ],
      "execution_count": 81,
      "outputs": [
        {
          "output_type": "stream",
          "text": [
            "0 Python\n",
            "1 Java\n",
            "2 Golang\n"
          ],
          "name": "stdout"
        }
      ]
    },
    {
      "cell_type": "markdown",
      "metadata": {
        "id": "YD60jzrgOzOc"
      },
      "source": [
        "インデックス番号を指定する方法なら、何番目の要素なのか確認するのも簡単です。\n",
        "\n",
        "<br>\n",
        "\n",
        "ただ、インデックスを指定しないfor文でも、`enumerate()`を使えば何番目の要素なのか確認できます。"
      ]
    },
    {
      "cell_type": "code",
      "metadata": {
        "id": "c5UyrGrNPkAr",
        "colab": {
          "base_uri": "https://localhost:8080/"
        },
        "outputId": "fbe579fc-ab8b-4bf5-d2ed-d6e9e6650a32"
      },
      "source": [
        "# enumerate()を使って出力する\n",
        "for i , j in enumerate(l2):\n",
        "    print(i, j)"
      ],
      "execution_count": 84,
      "outputs": [
        {
          "output_type": "stream",
          "text": [
            "0 Python\n",
            "1 Java\n",
            "2 Golang\n"
          ],
          "name": "stdout"
        }
      ]
    },
    {
      "cell_type": "markdown",
      "metadata": {
        "id": "mC3UAVGmPj99"
      },
      "source": [
        "上記のとおりです。\n",
        "\n",
        "なので、基本的に、`range(len(l))`のような書き方をしなくても、リストに対する繰り返し処理は実行できます。\n",
        "\n",
        "*※range(len(l))だと、なんだか読みにくくなるので、できるだけインデックスを指定しないfor文を使いましょう。*"
      ]
    },
    {
      "cell_type": "markdown",
      "metadata": {
        "id": "uTm876skGVKS"
      },
      "source": [
        "## 6.3. リストとメソッド\n",
        "\n",
        "\n",
        "なお、リストを作成したあと、要素を追加したり削除したりと、色々な操作を加えたい機会が出てきます。\n",
        "\n",
        "<br>\n",
        "\n",
        "そんなときに使うのが、メソッド(振る舞いという意味)です。"
      ]
    },
    {
      "cell_type": "markdown",
      "metadata": {
        "id": "Sw5fw_p2G8gn"
      },
      "source": [
        "### 6.3.1. 要素の追加(append)\n",
        "\n",
        "作成したリストに要素を追加するには、`append()`を使います。"
      ]
    },
    {
      "cell_type": "code",
      "metadata": {
        "id": "MvJF-QKLG8d5",
        "colab": {
          "base_uri": "https://localhost:8080/"
        },
        "outputId": "ad218e28-3d8f-4326-f841-3eda4414cb66"
      },
      "source": [
        "# 1, 2, 3を格納したリストを作成する\n",
        "l = [1, 2, 3]\n",
        "\n",
        "# リストに4を追加する\n",
        "l.append(4)\n",
        "\n",
        "# 結果の確認\n",
        "print(l)\n"
      ],
      "execution_count": 85,
      "outputs": [
        {
          "output_type": "stream",
          "text": [
            "[1, 2, 3, 4]\n"
          ],
          "name": "stdout"
        }
      ]
    },
    {
      "cell_type": "markdown",
      "metadata": {
        "id": "geFQOFOtG8Y-"
      },
      "source": [
        "しっかり要素を追加できていますね。\n",
        "\n",
        "この`append()`とfor文を応用すると、以下のようなリストの作成ができます。"
      ]
    },
    {
      "cell_type": "code",
      "metadata": {
        "id": "oZqQpypNGVIB",
        "colab": {
          "base_uri": "https://localhost:8080/"
        },
        "outputId": "8c504bd5-5c56-44fc-e8a6-db9dd2febe6f"
      },
      "source": [
        "# 空のリストを作成する\n",
        "L = []\n",
        "\n",
        "# for文とappend()でリストの中身を追加する\n",
        "for i in range(10):\n",
        "    L.append(i)\n",
        "\n",
        "# 結果の確認\n",
        "print(L)\n"
      ],
      "execution_count": 86,
      "outputs": [
        {
          "output_type": "stream",
          "text": [
            "[0, 1, 2, 3, 4, 5, 6, 7, 8, 9]\n"
          ],
          "name": "stdout"
        }
      ]
    },
    {
      "cell_type": "markdown",
      "metadata": {
        "id": "G3JN9dKwHibC"
      },
      "source": [
        "まず空のリストを用意しておき、その後for文を使って`append()`を繰り返しているんですね。"
      ]
    },
    {
      "cell_type": "markdown",
      "metadata": {
        "id": "BN-ulRVnIsL_"
      },
      "source": [
        "### 6.3.2. 要素の追加(insert)\n",
        "\n",
        "`append()`ではリストの末尾に要素が追加されましたが、`insert(index, value)`を使えば場所を指定して、要素を追加できます。"
      ]
    },
    {
      "cell_type": "code",
      "metadata": {
        "id": "zowLpDjjIsDm",
        "colab": {
          "base_uri": "https://localhost:8080/"
        },
        "outputId": "5347875d-ae80-49b4-aadb-1af337a2dbc7"
      },
      "source": [
        "# 1, 2, 3を格納したリストの作成\n",
        "l = [1, 2, 3]\n",
        "\n",
        "# インデックス1に10を追加する\n",
        "l.insert(1, 10)\n",
        "\n",
        "# 結果確認\n",
        "print(l)"
      ],
      "execution_count": 88,
      "outputs": [
        {
          "output_type": "stream",
          "text": [
            "[1, 10, 2, 3]\n"
          ],
          "name": "stdout"
        }
      ]
    },
    {
      "cell_type": "markdown",
      "metadata": {
        "id": "8tEKEOWmIsBF"
      },
      "source": [
        "このように、指定したインデックスに対して、要素を追加できています。"
      ]
    },
    {
      "cell_type": "markdown",
      "metadata": {
        "id": "aRfFTtauHs0Y"
      },
      "source": [
        "### 6.3.3. リストの拡張(extend)\n",
        "\n",
        "`extend()`を使うと、リストを拡張できます。\n",
        "\n",
        "*※足し合わせるのではなく、元々存在するリストを\"拡張\"しています。*"
      ]
    },
    {
      "cell_type": "code",
      "metadata": {
        "id": "qzcofhO_HsyB",
        "colab": {
          "base_uri": "https://localhost:8080/"
        },
        "outputId": "23426e5f-979f-421c-957d-9dcacbada372"
      },
      "source": [
        "# l1に1, 2, 3を格納したリストを入れる\n",
        "l1 = [1, 2, 3]\n",
        "\n",
        "# l2に4, 5, 6を格納したリストを入れる\n",
        "l2 = [4, 5, 6]\n",
        "\n",
        "# l1を拡張する\n",
        "l1.extend(l2)\n",
        "\n",
        "# 結果の表示\n",
        "print(l1)\n"
      ],
      "execution_count": 89,
      "outputs": [
        {
          "output_type": "stream",
          "text": [
            "[1, 2, 3, 4, 5, 6]\n"
          ],
          "name": "stdout"
        }
      ]
    },
    {
      "cell_type": "markdown",
      "metadata": {
        "id": "7EJzORaXIUh7"
      },
      "source": [
        "`append()`ほど使用頻度は高くないですが、時折使うメソッドです。"
      ]
    },
    {
      "cell_type": "markdown",
      "metadata": {
        "id": "8dJx2iPRIUe3"
      },
      "source": [
        "### 6.3.4. 要素の削除(remove)\n",
        "\n",
        "リストから要素を削除したいときは、`remove()`を使ってあげます。"
      ]
    },
    {
      "cell_type": "code",
      "metadata": {
        "id": "SDXDjmUUKRCS",
        "colab": {
          "base_uri": "https://localhost:8080/"
        },
        "outputId": "5fd3b4b5-0257-4fc7-a4a8-d943e45cfdaa"
      },
      "source": [
        "# lに1, 2, 3, 10を格納したリストを入れる\n",
        "l = [1, 2, 3, 10]\n",
        "\n",
        "# 元のリストを確認\n",
        "print(l)\n",
        "\n",
        "# リストから10を削除\n",
        "l.remove(10)\n",
        "\n",
        "# 結果確認\n",
        "print(l)"
      ],
      "execution_count": 92,
      "outputs": [
        {
          "output_type": "stream",
          "text": [
            "[1, 2, 3, 10]\n",
            "[1, 2, 3]\n"
          ],
          "name": "stdout"
        }
      ]
    },
    {
      "cell_type": "markdown",
      "metadata": {
        "id": "jhLcdOEcJwPO"
      },
      "source": [
        "ちなみに、削除される要素は、「最初に該当したもの」です。\n",
        "\n",
        "同じ数字が2回出てくると、最初にヒットする方だけ削除されます。"
      ]
    },
    {
      "cell_type": "code",
      "metadata": {
        "id": "ZQet3cnzKaAc",
        "colab": {
          "base_uri": "https://localhost:8080/"
        },
        "outputId": "7709d825-af96-4c56-a584-0471049c44c8"
      },
      "source": [
        "# lに1, 10, 2, 3, 10を格納したリストを入れる\n",
        "l = [1, 10, 2, 3, 10]\n",
        "\n",
        "# 元のリストを確認\n",
        "print(l)\n",
        "\n",
        "# リストから10を削除\n",
        "l.remove(10)\n",
        "\n",
        "# 結果確認\n",
        "print(l)"
      ],
      "execution_count": 93,
      "outputs": [
        {
          "output_type": "stream",
          "text": [
            "[1, 10, 2, 3, 10]\n",
            "[1, 2, 3, 10]\n"
          ],
          "name": "stdout"
        }
      ]
    },
    {
      "cell_type": "markdown",
      "metadata": {
        "id": "M6jvGlsGKi8A"
      },
      "source": [
        "以上がリストのメソッドになります。\n",
        "\n",
        "他にもメソッドはありますが、、、とりあえずよく使うものだけ紹介しました。"
      ]
    },
    {
      "cell_type": "markdown",
      "metadata": {
        "id": "Q71jCl_4GfAN"
      },
      "source": [
        "## 6.4. リスト内包表記\n",
        "\n",
        "for文と`append()`を使うと、自分で数字を手入力しなくてもリストを作成できました。\n"
      ]
    },
    {
      "cell_type": "code",
      "metadata": {
        "id": "5VYNuytbGhK2"
      },
      "source": [
        "# 空のリストを作成する\n",
        "\n",
        "\n",
        "# for文とappend()で0〜4まで格納されたリストを作成する\n",
        "\n",
        "\n",
        "# 結果の表示\n",
        "\n"
      ],
      "execution_count": null,
      "outputs": []
    },
    {
      "cell_type": "markdown",
      "metadata": {
        "id": "CCOpQIufGhIN"
      },
      "source": [
        "ただ、Pythonで同様のリストを作成するときのベストプラクティスは以下です。"
      ]
    },
    {
      "cell_type": "code",
      "metadata": {
        "id": "w5VixOOsLKi9"
      },
      "source": [
        "# 内包表記で0〜4まで格納されたリストを作成\n",
        "\n"
      ],
      "execution_count": null,
      "outputs": []
    },
    {
      "cell_type": "markdown",
      "metadata": {
        "id": "RJORnp10LKgk"
      },
      "source": [
        "このPython特有の書き方を、(リスト)内包表記と言います。\n",
        "\n",
        "「書き方のコツ」としては、まず`for i in range(5)`だけ書いてあげるのが良いかなと思います。\n",
        "\n",
        "```\n",
        "1. 空のリストを準備\n",
        "l = []\n",
        "\n",
        "2. for文だけ書く\n",
        "l = [for i in range(5)]\n",
        "\n",
        "3. 追加する要素(for文で使っている変数)を最初に書く\n",
        "l = [i for i in range(5)]\n",
        "```\n",
        "\n",
        "こんな感じですね。\n",
        "\n",
        "もちろん`append()`を使ってもリストは作成できるのですが、リスト内包表記を使った方が高速な処理を実現できます。\n"
      ]
    },
    {
      "cell_type": "code",
      "metadata": {
        "id": "Tp9WpsCsXjIf"
      },
      "source": [
        "%%timeit\n",
        "l_v1 = []\n",
        "for i in range(5):\n",
        "    l_v1.append(i)"
      ],
      "execution_count": null,
      "outputs": []
    },
    {
      "cell_type": "code",
      "metadata": {
        "id": "8P2sQsC7X0nc"
      },
      "source": [
        "%%timeit\n",
        "l_v2 = [i for i in range(5)]"
      ],
      "execution_count": null,
      "outputs": []
    },
    {
      "cell_type": "markdown",
      "metadata": {
        "id": "ziDP1XokXjEp"
      },
      "source": [
        "高速かつシンプルがゆえに、内包表記はリスト作成するとき、非常によく使われます。\n",
        "\n",
        "しっかりと習得しておきましょう。\n",
        "\n"
      ]
    },
    {
      "cell_type": "markdown",
      "metadata": {
        "id": "MewlQKFEByIG"
      },
      "source": [
        "## 6.5. タプル\n",
        "\n",
        "タプルもリスト同様に、複数の要素を格納できます。"
      ]
    },
    {
      "cell_type": "code",
      "metadata": {
        "id": "DyJ79Yq6BdwX"
      },
      "source": [
        "# 変数tに1, 2, 3を格納したタプルを入れる\n",
        "\n",
        "\n",
        "# tを出力\n",
        "\n",
        "\n",
        "# tの型を確認する\n"
      ],
      "execution_count": null,
      "outputs": []
    },
    {
      "cell_type": "markdown",
      "metadata": {
        "id": "tNbqFtZaGlNe"
      },
      "source": [
        "ただし、タプルでは要素の追加・変更や、要素の削除ができません。"
      ]
    },
    {
      "cell_type": "code",
      "metadata": {
        "id": "GyvpmA8Zngsl"
      },
      "source": [
        "# 0番目の数字を10に変更\n"
      ],
      "execution_count": null,
      "outputs": []
    },
    {
      "cell_type": "markdown",
      "metadata": {
        "id": "pdkQvFU4nffD"
      },
      "source": [
        "\n",
        "「*そんな使いにくいもの、どのタイミングで使うんだよ...*」といったクレームが来そうですが、逆に要素を変更したくないときに有効です。\n",
        "\n",
        "<br>\n",
        "\n",
        "たとえば、Pythonファイルの上部分に書いておくような設定系ですね。\n",
        "\n",
        "設定部分は、中身を取り出したいけど、途中で内容が変わると困ってしまいます。\n",
        "\n",
        "<br>\n",
        "\n",
        "なお、タプルから要素を取り出すときには、以下のように書けます。"
      ]
    },
    {
      "cell_type": "code",
      "metadata": {
        "id": "3XE-zsVdkOIZ"
      },
      "source": [
        "# tに(1, 2)を代入\n",
        "\n",
        "\n",
        "# 要素を取り出す\n",
        "\n"
      ],
      "execution_count": null,
      "outputs": []
    },
    {
      "cell_type": "markdown",
      "metadata": {
        "id": "nAxgepcPkiQ2"
      },
      "source": [
        "ひとまとまりになっていたタプルから、各変数に代入(=unpackと言います)しているんですね。\n",
        "\n",
        "もちろん、以下のように要素を取り出すことも可能です。"
      ]
    },
    {
      "cell_type": "code",
      "metadata": {
        "id": "Xv1TNlOok5Bt"
      },
      "source": [
        "# インデックスを指定してタプルの中身を取り出す\n",
        "\n"
      ],
      "execution_count": null,
      "outputs": []
    },
    {
      "cell_type": "markdown",
      "metadata": {
        "id": "2gAYF13Sk7i3"
      },
      "source": [
        "ただ、複数の要素から値を取り出すときは、アンパックしてあげるのが自然かなと思います。\n",
        "\n",
        "*※`t[0]`とか書かれていると、、、コードを読んでいるとき分かりづらいので...！*"
      ]
    },
    {
      "cell_type": "markdown",
      "metadata": {
        "id": "hoQ6AlWBkQL0"
      },
      "source": [
        "## 演習\n",
        "\n",
        "`t1 = (1, 2)`と`t2 = (3, 4)`があったとき、\n",
        "\n",
        "```\n",
        "t1 = t1 + t2\n",
        "```\n",
        "\n",
        "上記の演算結果は、どうなるでしょうか？"
      ]
    },
    {
      "cell_type": "code",
      "metadata": {
        "id": "gJmzB1Szk-oa"
      },
      "source": [
        "t1 = (1, 2)\n",
        "t2 = (3, 4)"
      ],
      "execution_count": null,
      "outputs": []
    },
    {
      "cell_type": "code",
      "metadata": {
        "id": "mqkiuTFckQIl"
      },
      "source": [
        "t1 = t1 + t2\n",
        "print(t1)"
      ],
      "execution_count": null,
      "outputs": []
    },
    {
      "cell_type": "markdown",
      "metadata": {
        "id": "eWU8-n60lCVt"
      },
      "source": [
        "もしかしたら、「タプルは変更できないから、エラーになるに違いない」と思われていたかもしれません。\n",
        "\n",
        "でも実際には、t1とt2は連結できてしまいました。\n",
        "\n",
        "<br>\n",
        "\n",
        "もう一度、t1とt2の値を戻してあげます。\n"
      ]
    },
    {
      "cell_type": "code",
      "metadata": {
        "id": "b1da5jv3lREO"
      },
      "source": [
        "t1 = (1, 2)\n",
        "t2 = (3, 4)\n",
        "\n",
        "print(t1)\n",
        "print(t2)"
      ],
      "execution_count": null,
      "outputs": []
    },
    {
      "cell_type": "markdown",
      "metadata": {
        "id": "sRUMfM6dlRBQ"
      },
      "source": [
        "`id()`を使うと、各タプルのidを調べることができるので、演算前の状況を確認しておきましょう。"
      ]
    },
    {
      "cell_type": "code",
      "metadata": {
        "id": "wMcSMbColoJY"
      },
      "source": [
        "print('t1: ', id(t1))\n",
        "print('t2: ', id(t2))"
      ],
      "execution_count": null,
      "outputs": []
    },
    {
      "cell_type": "markdown",
      "metadata": {
        "id": "K66JAGZ9loK7"
      },
      "source": [
        "t1とt2のidは、上記のようになりました。\n",
        "\n",
        "それでは、`t1 + t2`を代入した`t1`のidも確認してみたいと思います。"
      ]
    },
    {
      "cell_type": "code",
      "metadata": {
        "id": "aB30-OAsloFm"
      },
      "source": [
        "t1 = t1 + t2\n",
        "print(t1)\n",
        "print(id(t1))"
      ],
      "execution_count": null,
      "outputs": []
    },
    {
      "cell_type": "markdown",
      "metadata": {
        "id": "POZ2i58tozWX"
      },
      "source": [
        "こうしてみると分かりますが、`t1 + t2`が代入された左辺の`t1`は、**新しく作成されたタプル**になります。\n",
        "\n",
        "なので、タプルの編集ができたわけではなく、以下のように新しいタプルを作成するのと同じ意味合いになるんですね。"
      ]
    },
    {
      "cell_type": "code",
      "metadata": {
        "id": "S7XtWFk5pFdO"
      },
      "source": [
        "t = (1, 2, 3, 4)\n",
        "\n",
        "print(t)"
      ],
      "execution_count": null,
      "outputs": []
    },
    {
      "cell_type": "markdown",
      "metadata": {
        "id": "-V1AtOQEpFZe"
      },
      "source": [
        "少し複雑ですが、こういったコンピューターチックな部分もおさえておくと、理解不能なバグが発生しなくて済みます。"
      ]
    },
    {
      "cell_type": "markdown",
      "metadata": {
        "id": "ALUbbGYmB5XB"
      },
      "source": [
        "## 6.6. 辞書\n",
        "\n",
        "リストやタプルのように、純粋に値をいれておくのではなく、「リンゴが100円」のように**何かに紐づけて値を保存しておきたいとき、辞書(dictionary)を使います。**"
      ]
    },
    {
      "cell_type": "code",
      "metadata": {
        "id": "th47nH3JB5dw"
      },
      "source": [
        "# apple : 80, banana : 100の辞書をdに入れる\n",
        "\n",
        "\n",
        "# dを表示する\n",
        "\n",
        "\n",
        "# dの型を確認する\n",
        "\n"
      ],
      "execution_count": null,
      "outputs": []
    },
    {
      "cell_type": "markdown",
      "metadata": {
        "id": "c9BCTMamB8jU"
      },
      "source": [
        "上記のリストに格納されている**'apple'や'banana'のことを「key」と呼び、80や100を「value」と呼びます。**\n",
        "\n",
        "つまり、辞書型は以下のように書いてあげます。\n",
        "\n",
        "```\n",
        "d = {key1:value1, key2:value2, ..., }\n",
        "```\n",
        "\n",
        "\n",
        "各値を取り出すときは、以下のように書いてあげます。"
      ]
    },
    {
      "cell_type": "code",
      "metadata": {
        "id": "qyAHUmGOB8o_"
      },
      "source": [
        "# appleに対応する値を取り出す\n",
        "\n",
        "\n",
        "# bananaに対応する値を取り出す\n",
        "\n"
      ],
      "execution_count": null,
      "outputs": []
    },
    {
      "cell_type": "markdown",
      "metadata": {
        "id": "7Am4Tci_a-C_"
      },
      "source": [
        "上記のとおりですね。\n",
        "\n",
        "さらに、たとえば「バナナの値段が高騰して120円に変更したい」といったときには、以下のように書いてあげます。"
      ]
    },
    {
      "cell_type": "code",
      "metadata": {
        "id": "NjwJX-7Xa-AS"
      },
      "source": [
        "# bananaのvalueを120に変更する\n"
      ],
      "execution_count": null,
      "outputs": []
    },
    {
      "cell_type": "markdown",
      "metadata": {
        "id": "9l_nAsOZbTol"
      },
      "source": [
        "これで、もう一度、辞書の中身を見てみましょう。"
      ]
    },
    {
      "cell_type": "code",
      "metadata": {
        "id": "FsvFpCEJbX7R"
      },
      "source": [
        "# dを表示\n"
      ],
      "execution_count": null,
      "outputs": []
    },
    {
      "cell_type": "markdown",
      "metadata": {
        "id": "6WRIYd1QbZDE"
      },
      "source": [
        "#ちゃんとバナナの値上げに対応できています。\n",
        "\n",
        "また、新しく桃を150円で入荷した場合、以下のようにして要素を追加できます。"
      ]
    },
    {
      "cell_type": "code",
      "metadata": {
        "id": "xpumQqOUbY-8"
      },
      "source": [
        "# dに新しくpeach : 150を追加する\n",
        "\n",
        "\n",
        "# dを表示する\n"
      ],
      "execution_count": null,
      "outputs": []
    },
    {
      "cell_type": "markdown",
      "metadata": {
        "id": "4Fj11JzSbY8c"
      },
      "source": [
        "こうですね。\n",
        "\n",
        "このように、新しい要素を追加したいときにも、中身の書き換えと同じような書き方をします。"
      ]
    },
    {
      "cell_type": "markdown",
      "metadata": {
        "id": "LZMPihTIdK1G"
      },
      "source": [
        "## 6.7. 辞書とメソッド\n",
        "\n",
        "辞書型にも、リスト同様にメソッドが準備されています。\n",
        "\n",
        "ここではよく使うメソッドだけ紹介していきます。\n",
        "\n",
        "<br>\n",
        "\n",
        "まずは、以下の辞書を作成しておきましょう。"
      ]
    },
    {
      "cell_type": "code",
      "metadata": {
        "id": "nhRN2icue_EC"
      },
      "source": [
        "# apple:80, banana:100, peach:150の辞書を作成\n",
        "\n",
        "\n",
        "# dを表示する\n"
      ],
      "execution_count": null,
      "outputs": []
    },
    {
      "cell_type": "markdown",
      "metadata": {
        "id": "4NWnAPXJeTpQ"
      },
      "source": [
        "### 6.7.1. keyをすべて取得\n",
        "\n",
        "辞書に入っているkeyをすべて取得するには、`keys()`を使います。"
      ]
    },
    {
      "cell_type": "code",
      "metadata": {
        "id": "vAg4imzPeWPs"
      },
      "source": [
        "# 辞書に入っているkeyをすべて取得\n"
      ],
      "execution_count": null,
      "outputs": []
    },
    {
      "cell_type": "markdown",
      "metadata": {
        "id": "QxuojqGkjY4z"
      },
      "source": [
        "for文を使ってあげると、以下のように表示できますね。"
      ]
    },
    {
      "cell_type": "code",
      "metadata": {
        "id": "2yERn4avjUMl"
      },
      "source": [
        "# 辞書に入っているkeyをfor文で取り出す\n"
      ],
      "execution_count": null,
      "outputs": []
    },
    {
      "cell_type": "markdown",
      "metadata": {
        "id": "P3jBj_T-i691"
      },
      "source": [
        "### 6.7.2. valueをすべて取得\n",
        "\n",
        "反対に、valueをすべて取得したいときには、`values()`を使います。"
      ]
    },
    {
      "cell_type": "code",
      "metadata": {
        "id": "8O4M6PQUjGHG"
      },
      "source": [
        "# 辞書に入っているvalueをすべて取得\n"
      ],
      "execution_count": null,
      "outputs": []
    },
    {
      "cell_type": "markdown",
      "metadata": {
        "id": "KMDhhfdUje_1"
      },
      "source": [
        "こちらも`keys()`同様に、for文を使って中身を表示できます。"
      ]
    },
    {
      "cell_type": "code",
      "metadata": {
        "id": "4lac6clqjj_B"
      },
      "source": [
        "# 辞書に入っているvalueをfor文で取り出す\n"
      ],
      "execution_count": null,
      "outputs": []
    },
    {
      "cell_type": "markdown",
      "metadata": {
        "id": "gX6zznytjnQU"
      },
      "source": [
        "こうですね。\n",
        "\n",
        "valueだけ取り出す機会は少ないですが、一応おさえておきましょう。"
      ]
    },
    {
      "cell_type": "markdown",
      "metadata": {
        "id": "XyzMn1DmjtvW"
      },
      "source": [
        "### 6.7.3. keyとvalueをすべて取得\n",
        "\n",
        "少し欲張って、「keyもvalueも取得したい」といったときには、`items()`を使います。"
      ]
    },
    {
      "cell_type": "code",
      "metadata": {
        "id": "zRjd6wwwjQ4G"
      },
      "source": [
        "# 辞書に入っているkeyとvalueをすべて取得\n"
      ],
      "execution_count": null,
      "outputs": []
    },
    {
      "cell_type": "markdown",
      "metadata": {
        "id": "Np_CMNCDlYo1"
      },
      "source": [
        "上記のとおりですね。\n",
        "\n",
        "これも`keys()`や`values()`同様に、for文を使えば中身を取得できますが、ちょっと工夫が必要になります。"
      ]
    },
    {
      "cell_type": "code",
      "metadata": {
        "id": "7VgqFZVtljiF"
      },
      "source": [
        "# 辞書に入っているkeyとvalueをfor文で取り出す\n"
      ],
      "execution_count": null,
      "outputs": []
    },
    {
      "cell_type": "markdown",
      "metadata": {
        "id": "rTEmfaeUljeL"
      },
      "source": [
        "`items()`を使うときは、forの後に、`key, value`と書く必要があります。\n",
        "\n",
        "なぜ、このように書くのかというと、それは`d.items()`の結果を見てみると分かります。"
      ]
    },
    {
      "cell_type": "code",
      "metadata": {
        "id": "lWHLVNb0l7S_"
      },
      "source": [
        "# 辞書に入っているkeyをとvalueを確認\n"
      ],
      "execution_count": null,
      "outputs": []
    },
    {
      "cell_type": "markdown",
      "metadata": {
        "id": "HYB4JYbRl8z1"
      },
      "source": [
        "それぞれの要素を見てみると、**`(key, value)`のように、タプルの形になっていますよね。**\n",
        "\n",
        "そして、タプルから要素を取り出すときには、以下のように書いていました。\n"
      ]
    },
    {
      "cell_type": "code",
      "metadata": {
        "id": "7QyFi9yEmKlw"
      },
      "source": [
        "# 1, 2を格納したタプルをtに入れる\n",
        "\n",
        "\n",
        "# タプルの要素を取り出す\n",
        "\n",
        "\n",
        "# 結果の表示\n"
      ],
      "execution_count": null,
      "outputs": []
    },
    {
      "cell_type": "markdown",
      "metadata": {
        "id": "FMCVBSd8mO-R"
      },
      "source": [
        "これを、`d.items()`でも応用してあげたんですね。\n",
        "\n",
        "もうちょっと詳しく書くと、以下のようになります。\n",
        "\n",
        "```\n",
        "1. d.items()でfor文を使うと、以下の順番で要素を取得できる\n",
        "- ('apple', 80)\n",
        "- ('banana', 120)\n",
        "- ('peach', 150)\n",
        "\n",
        "2. 取得した要素はタプルになっているので、以下のようにアンパックされる\n",
        "t = ('apple', 80)\n",
        "key, value = t\n",
        "\n",
        "3. なので、for文の条件式の部分で、keyとvalueの2つを準備しておく\n",
        "\n",
        "for key, value in d.items():\n",
        "    print(key, value)\n"
      ]
    },
    {
      "cell_type": "markdown",
      "metadata": {
        "id": "xMSHCglMnuxh"
      },
      "source": [
        "### 6.7.4. valueの取り出し\n",
        "\n",
        "keyを指定したvalueの取り出し方法は、以下のように書きました。"
      ]
    },
    {
      "cell_type": "code",
      "metadata": {
        "id": "aeAzar1hn5Dg"
      },
      "source": [
        "# apple:80, banana:100, peach:150の辞書を作成\n",
        "\n",
        "\n",
        "# \"apple\"に該当するvalueを取得する\n"
      ],
      "execution_count": null,
      "outputs": []
    },
    {
      "cell_type": "markdown",
      "metadata": {
        "id": "tDHzbsaHn-jl"
      },
      "source": [
        "これをメソッドを使って書くことも可能です。"
      ]
    },
    {
      "cell_type": "markdown",
      "metadata": {
        "id": "CMn1ttByoBjx"
      },
      "source": [
        "#### 6.7.4.1. get()\n",
        "\n",
        "`get()`を使うと、以下のように辞書内の要素を取得できます。"
      ]
    },
    {
      "cell_type": "code",
      "metadata": {
        "id": "00y4Z02VoJNH"
      },
      "source": [
        "# 元の辞書\n",
        "\n",
        "\n",
        "# \"apple\"に該当するvalueを、get()を使って取得\n"
      ],
      "execution_count": null,
      "outputs": []
    },
    {
      "cell_type": "markdown",
      "metadata": {
        "id": "U5S71megoq_n"
      },
      "source": [
        "上記のとおりです。\n",
        "\n",
        "**`get()`と`d['key']`の違いは、該当するkeyがなかったときの処理方法です。**\n",
        "\n",
        "<br>\n",
        "\n",
        "たとえば、今回辞書に入っていない`meron`を指定してみましょう。"
      ]
    },
    {
      "cell_type": "code",
      "metadata": {
        "id": "DJEGCg_oo9Sc"
      },
      "source": [
        "# \"meron\"に該当するvalueを、get()を使って取得する\n"
      ],
      "execution_count": null,
      "outputs": []
    },
    {
      "cell_type": "markdown",
      "metadata": {
        "id": "GtexRdmQo_g2"
      },
      "source": [
        "取得結果は、Noneになっています。\n",
        "\n",
        "では、`d['key']`の形で取得してみます。"
      ]
    },
    {
      "cell_type": "code",
      "metadata": {
        "id": "6vUoyHz2pF0g"
      },
      "source": [
        "# \"meron\"に該当するvalueを取得する\n"
      ],
      "execution_count": null,
      "outputs": []
    },
    {
      "cell_type": "markdown",
      "metadata": {
        "id": "6r23KEhPpH48"
      },
      "source": [
        "このように、KeyErrorになってしまいました。\n",
        "\n",
        "それもそのはずで、辞書にmeronは登録されていないからですね。\n",
        "\n",
        "<br>\n",
        "\n",
        "`get()`と`d[key]`の違いは、ここにあります。\n",
        "\n",
        "- `get()` : 指定したkeyがないと、Noneを返す\n",
        "- `d[key]` : 指定したkeyがないと、エラーになる\n",
        "\n",
        "\n",
        "「もし存在するのであれば取得する。なければ、ない(=None)という事実を取得する、」といった場合には、`get()`を使いましょう。"
      ]
    },
    {
      "cell_type": "markdown",
      "metadata": {
        "id": "hyEz_jU4pckX"
      },
      "source": [
        "#### 6.7.4.2. pop()\n",
        "\n",
        "`get()`以外にも、`pop()`を使えば辞書から要素を取得できます。"
      ]
    },
    {
      "cell_type": "code",
      "metadata": {
        "id": "9oJn8dvgqDbR"
      },
      "source": [
        "# apple:80, banana:100, peach:150の辞書を作成\n",
        "\n",
        "\n",
        "# appleに該当するvalueを取得する\n"
      ],
      "execution_count": null,
      "outputs": []
    },
    {
      "cell_type": "markdown",
      "metadata": {
        "id": "jLOr8qnuqGk-"
      },
      "source": [
        "では`pop()`と今まで紹介した方法の違いは、どこにあるのかというと、、、もう一度元のリストを見れば分かります。"
      ]
    },
    {
      "cell_type": "code",
      "metadata": {
        "id": "TYQP8G1vqR8U"
      },
      "source": [
        "# 辞書dを表示する\n"
      ],
      "execution_count": null,
      "outputs": []
    },
    {
      "cell_type": "markdown",
      "metadata": {
        "id": "hql1jCkaqS3_"
      },
      "source": [
        "このように、`pop()`を使うと、辞書から\"apple\"が消えています。\n",
        "\n",
        "`pop()`は取得した要素を「完全に取り出す」というニュアンスです。"
      ]
    },
    {
      "cell_type": "markdown",
      "metadata": {
        "id": "AeNbkOKnB8uQ"
      },
      "source": [
        "## 6.8. 集合\n",
        "\n",
        "集合は、数学の集合と同じ意味です。\n",
        "\n",
        "使用頻度はそこまで高くないですが、簡単に触れていきたいと思います"
      ]
    },
    {
      "cell_type": "code",
      "metadata": {
        "id": "dw_N3aRnCjjo"
      },
      "source": [
        "# 1, 2, 3, 4, 5を格納した集合をaに入れる\n",
        "\n",
        "\n",
        "# aを表示\n",
        "\n",
        "\n",
        "# aの型を確認する\n"
      ],
      "execution_count": null,
      "outputs": []
    },
    {
      "cell_type": "markdown",
      "metadata": {
        "id": "zQfgh9nmCrHh"
      },
      "source": [
        "集合を作成するには、上記のように書きます。\n",
        "\n",
        "さらに他の集合も作成してみます。"
      ]
    },
    {
      "cell_type": "code",
      "metadata": {
        "id": "S_ZgzRiSCrKZ"
      },
      "source": [
        "# 2, 3, 4, 5, 7, 9を格納した集合を、bに格納する\n",
        "\n",
        "\n",
        "# bを表示する\n",
        "\n",
        "\n",
        "# bの型を確認する\n"
      ],
      "execution_count": null,
      "outputs": []
    },
    {
      "cell_type": "markdown",
      "metadata": {
        "id": "SIGd61q6ENoA"
      },
      "source": [
        "3を2回書いて集合を作成したのですが、、、集合では重複が削除されます。\n",
        "\n",
        "集合は、リストやタプルと違って、以下のような特徴があります。\n",
        "\n",
        "- 重複を許さない\n",
        "- 順序を保たない\n",
        "\n",
        "順序を保たないというのは、たとえば、以下のような集合を作成してあげると分かります。"
      ]
    },
    {
      "cell_type": "code",
      "metadata": {
        "id": "aLtCGiSMoYZV"
      },
      "source": [
        "# 1, 4, 3, 2を格納した集合を、変数cに入れる\n",
        "\n",
        "\n",
        "# cを表示する\n",
        "\n",
        "\n",
        "# cの型を確認する\n"
      ],
      "execution_count": null,
      "outputs": []
    },
    {
      "cell_type": "markdown",
      "metadata": {
        "id": "7Bj9NMJSoYby"
      },
      "source": [
        "上記のように、数値の順序が変わってしまいました。\n",
        "\n",
        "集合では、このように順番を保たない状態で、要素を扱っていく点に注意しましょう。"
      ]
    },
    {
      "cell_type": "markdown",
      "metadata": {
        "id": "hbnTMlZwo0DW"
      },
      "source": [
        "## 6.9.　集合の演算\n",
        "\n",
        "先ほど作成した集合`a`と`b`に対して、演算をおこなっていきます。"
      ]
    },
    {
      "cell_type": "code",
      "metadata": {
        "id": "VFjQ9n9vF9Ds"
      },
      "source": [
        "# 1, 2, 3, 4, 5を含む集合aを作成\n",
        "\n",
        "\n",
        "# 2, 3, 5, 7, 9を含む集合bを作成\n",
        "\n",
        "\n",
        "# aを表示する\n",
        "\n",
        "\n",
        "# bを表示する\n",
        "\n",
        "\n",
        "# aとbの差集合\n",
        "\n",
        "\n",
        "# bとaの差集合\n",
        "\n",
        "\n",
        "# aとbの積集合\n",
        "\n",
        "\n",
        "# aとbの和集合\n",
        "\n",
        "\n",
        "# aとbの排他的論理和\n"
      ],
      "execution_count": null,
      "outputs": []
    },
    {
      "cell_type": "markdown",
      "metadata": {
        "id": "qTY95lUGF9Ay"
      },
      "source": [
        "こんな感じです。\n",
        "\n",
        "集合は、ベン図を用意してあげると理解しやすくなります。"
      ]
    },
    {
      "cell_type": "markdown",
      "metadata": {
        "id": "qshDZFJ1ENs9"
      },
      "source": [
        "# 7.関数\n",
        "\n",
        "今までnotebookのセルにコードを書いてきましたが、何回も使う処理については、ひとまとまりにしておくのが得策です。\n",
        "\n",
        "今回は処理をまとめておける「関数」について学習していきましょう。"
      ]
    },
    {
      "cell_type": "markdown",
      "metadata": {
        "id": "6REAnU34Hf3N"
      },
      "source": [
        "## 7.1. 組み込み関数\n",
        "\n",
        "Pythonで最初から準備されている関数のことを、組み込み関数と言います。\n",
        "\n",
        "組み込み関数には、以下のようなものがあります。\n",
        "\n",
        "```\n",
        "print()\n",
        "type()\n",
        "len()\n",
        "id()\n",
        "range()\n",
        "enumerate()\n",
        "```\n",
        "\n",
        "今まで使っていたようなものが、実は組み込み関数だったわけです。\n",
        "\n",
        "組み込み関数は、他にも以下のようなものがあります。\n",
        "\n",
        "\n",
        "```\n",
        "min()\n",
        "max()\n",
        "```\n",
        "\n",
        "想像つくかもしれないですが、最大値と最小値を求めるための関数ですね。\n",
        "\n",
        "試しに、リストを作成して実行してみましょう。\n"
      ]
    },
    {
      "cell_type": "code",
      "metadata": {
        "id": "cMf7TmIWHf0g"
      },
      "source": [
        "# 1, 2, 3が入っているリストを作成\n",
        "\n",
        "\n",
        "# 最大値を表示\n",
        "\n",
        "\n",
        "# 最小値を表示\n"
      ],
      "execution_count": null,
      "outputs": []
    },
    {
      "cell_type": "markdown",
      "metadata": {
        "id": "0i-e2KBHHfxR"
      },
      "source": [
        "このように、リスト内の最大値と最小値を取得できます。\n",
        "\n",
        "組み込み関数は、種類がたくさんあるので、分からないときに調べてみるのが良いですね。\n",
        "\n",
        "*※一応、公式ドキュメントが以下です。*\n",
        "\n",
        "https://docs.python.org/ja/3/library/functions.html"
      ]
    },
    {
      "cell_type": "markdown",
      "metadata": {
        "id": "zAhtH7HHEYNL"
      },
      "source": [
        "## 7.2. 関数の定義\n",
        "\n",
        "自分で関数を作成するには、以下のように書いてあげます。"
      ]
    },
    {
      "cell_type": "code",
      "metadata": {
        "id": "0RiGXirvEYP6"
      },
      "source": [
        "# 'Hello!!!'を出力する関数を作成する\n"
      ],
      "execution_count": null,
      "outputs": []
    },
    {
      "cell_type": "markdown",
      "metadata": {
        "id": "eZt8-zZbEYTG"
      },
      "source": [
        "いま作成した関数を使うには、`関数名()`で呼び出すだけです。"
      ]
    },
    {
      "cell_type": "code",
      "metadata": {
        "id": "PxHucuEYGC4X"
      },
      "source": [
        "# 関数を実行する\n"
      ],
      "execution_count": null,
      "outputs": []
    },
    {
      "cell_type": "markdown",
      "metadata": {
        "id": "4vSjISBWGC7A"
      },
      "source": [
        "こうですね。\n",
        "\n",
        "いま関数内で`print()`を実行するプログラムを作成しましたが、\"Hello!!!\"という値を返すこともできます。"
      ]
    },
    {
      "cell_type": "code",
      "metadata": {
        "id": "RqCPLHYtG9Dx"
      },
      "source": [
        "# 'Hello!!!'を返す関数を作成する\n"
      ],
      "execution_count": null,
      "outputs": []
    },
    {
      "cell_type": "markdown",
      "metadata": {
        "id": "ZWtKkkeIG9Av"
      },
      "source": [
        "この場合、値(具体的には、\"Hello!!!\"という文字列)が返ってくるので、関数を実行した結果を変数に入れてあげます。"
      ]
    },
    {
      "cell_type": "code",
      "metadata": {
        "id": "Z8hut6IYHLxu"
      },
      "source": [
        "# returned_sに関数の実行結果を格納\n",
        "\n",
        "\n",
        "# returned_sを表示\n"
      ],
      "execution_count": null,
      "outputs": []
    },
    {
      "cell_type": "markdown",
      "metadata": {
        "id": "xRLwH_bmG0B_"
      },
      "source": [
        "こうですね。\n",
        "\n",
        "基本的には、`return`を使って、何かしらの値を返してあげることが多いです。\n"
      ]
    },
    {
      "cell_type": "markdown",
      "metadata": {
        "id": "NdOtx9IGEYVc"
      },
      "source": [
        "### 7.2.1. 関数と引数\n",
        "\n",
        "関数は、引数を使ってあげると、より強力になります。\n",
        "\n",
        "たとえば、以前の演習で学習したFizzBuzz問題を関数で作成してみましょう。"
      ]
    },
    {
      "cell_type": "code",
      "metadata": {
        "id": "TNQbWvxqGC9N"
      },
      "source": [
        "# FizzBuzzを実行する関数を作成\n",
        "\n"
      ],
      "execution_count": null,
      "outputs": []
    },
    {
      "cell_type": "markdown",
      "metadata": {
        "id": "TLqtFfVFIBIn"
      },
      "source": [
        "関数を使うと、上記のように書けます。\n",
        "\n",
        "いま`x = 3`が入っているので、この関数を実行した結果を変数に入れると、'Fizz'が入っているはずですよね。\n",
        "\n",
        "<br>\n",
        "\n",
        "実際に、関数を実行して、変数に入れた結果を出力してみます。"
      ]
    },
    {
      "cell_type": "code",
      "metadata": {
        "id": "VA4YCoUVIN3X"
      },
      "source": [
        "# 関数の実行結果をrに入れる\n",
        "\n",
        "\n",
        "# rを表示\n"
      ],
      "execution_count": null,
      "outputs": []
    },
    {
      "cell_type": "markdown",
      "metadata": {
        "id": "F1EKGRE9IXo5"
      },
      "source": [
        "予想していたとおり、'Fizz'が返ってきました。\n",
        "\n",
        "ただ、今のままだと、関数の中で`x = 3`にしているので、他の数字を判断できません。\n",
        "\n",
        "<br>\n",
        "\n",
        "**これを解決するのが、引数になります。**\n",
        "\n",
        "引数を使うと、関数の外から値を渡せるようになります。\n"
      ]
    },
    {
      "cell_type": "code",
      "metadata": {
        "id": "1oIMAvV1IsIT"
      },
      "source": [
        "# 引数に応じて結果を変えられるように変更する\n"
      ],
      "execution_count": null,
      "outputs": []
    },
    {
      "cell_type": "code",
      "metadata": {
        "id": "uU2nLQBZIsKm"
      },
      "source": [
        "# 引数を指定して、処理結果をrに格納する\n",
        "\n",
        "\n",
        "# rを出力する\n"
      ],
      "execution_count": null,
      "outputs": []
    },
    {
      "cell_type": "markdown",
      "metadata": {
        "id": "Dz0QvsjrIsFf"
      },
      "source": [
        "関数のカッコ内に`x`を入れて、実際に関数を使うとき数字の3を渡すようにしました。\n",
        "\n",
        "数字を関数の外側で決めているので、これなら同じ関数の使い回しがラクですよね。"
      ]
    },
    {
      "cell_type": "code",
      "metadata": {
        "id": "VctHRcXwJJDn"
      },
      "source": [
        "# 引数=3の実行結果を確認する\n",
        "\n",
        "\n",
        "# 引数=5の実行結果を確認する\n",
        "\n",
        "\n",
        "# 引数=30の実行結果を確認する\n",
        "\n",
        "\n",
        "# 引数=49の実行結果を確認する\n",
        "\n",
        "\n",
        "# すべての結果を確認する\n"
      ],
      "execution_count": null,
      "outputs": []
    },
    {
      "cell_type": "markdown",
      "metadata": {
        "id": "-M5dFPxqJJF-"
      },
      "source": [
        "このように、色々な値でFizzBuzzを判定できるようになりました。**これが関数のパワーです。**\n",
        "\n",
        "同じ処理を何度もしたいとき、関数を使って処理をまとめてあげます。"
      ]
    },
    {
      "cell_type": "markdown",
      "metadata": {
        "id": "xGaZnlWVJJA6"
      },
      "source": [
        "### 7.2.2. 関数のイメージ\n",
        "\n",
        "もし、関数や`return`について腑に落ちない場合には、中学校の数学で習った関数をイメージすると良いかもしれないです。\n",
        "\n",
        "たとえば、$f(x) = x + 3$という関数をPythonで作ってみましょう。"
      ]
    },
    {
      "cell_type": "code",
      "metadata": {
        "id": "W6ZNiUp-EYYD"
      },
      "source": [
        "# x + 3に該当する関数を作成する\n",
        "def f(x):\n",
        "    return x + 3"
      ],
      "execution_count": null,
      "outputs": []
    },
    {
      "cell_type": "markdown",
      "metadata": {
        "id": "3xE0gX_rKJKL"
      },
      "source": [
        "このようになります。\n",
        "\n",
        "$x = 2$を入れると$f(2) = 5$という結果になるわけですが、、、Pythonの関数もまったく同じ考え方です。\n",
        "\n",
        "<br>\n",
        "\n",
        "Pythonで出てくる`return`というのは、「$x + 3$を計算して答えを出す」と同義になります。\n",
        "\n",
        "なので、「関数に何かしらの変数を入れて、その結果を渡してほしいな〜」といったとき、`return`を使ってあげるんですね。\n",
        "\n",
        "*※`return`しないと、機械が計算した結果を、我々が取得できなくなります...><!*"
      ]
    },
    {
      "cell_type": "markdown",
      "metadata": {
        "id": "o0VUuXRgOV9j"
      },
      "source": [
        "### 7.2.3. キーワード引数\n",
        "\n",
        "引数は何も1つだけでなく、複数渡せます。\n",
        "\n",
        "実際に、苗字と名前を渡して、フルネームを返す関数を作成しましょう。"
      ]
    },
    {
      "cell_type": "code",
      "metadata": {
        "id": "WMdeFYV9OVyz"
      },
      "source": [
        "# 苗字 + 名前を返す関数を作成する\n"
      ],
      "execution_count": null,
      "outputs": []
    },
    {
      "cell_type": "markdown",
      "metadata": {
        "id": "10Rabz2qOuKP"
      },
      "source": [
        "こうですね。\n",
        "\n",
        "これを実行すると、以下のようになります。"
      ]
    },
    {
      "cell_type": "code",
      "metadata": {
        "id": "7yR2l15NOuNZ"
      },
      "source": [
        "# 引数に佐藤と太郎を入れて、関数を実行する\n",
        "\n",
        "\n",
        "# 結果の表示\n"
      ],
      "execution_count": null,
      "outputs": []
    },
    {
      "cell_type": "markdown",
      "metadata": {
        "id": "d0VwSUtmOuG9"
      },
      "source": [
        "しっかりと「佐藤 太郎」さんを取得できました。\n",
        "\n",
        "では、この引数の順番を変更すると、どうなるでしょうか。"
      ]
    },
    {
      "cell_type": "code",
      "metadata": {
        "id": "20i9260mO9VY"
      },
      "source": [
        "# 引数に太郎と佐藤を入れて、関数を実行する\n",
        "\n",
        "\n",
        "# 結果の確認\n"
      ],
      "execution_count": null,
      "outputs": []
    },
    {
      "cell_type": "markdown",
      "metadata": {
        "id": "vknsXmSnO9YU"
      },
      "source": [
        "引数の順番を逆にしてしまうと、アメリカンな名前になってしまいます。\n",
        "\n",
        "これを対策するのが、**キーワード引数**です。\n",
        "\n",
        "<br>\n",
        "\n",
        "以下のように引数を指定して関数に渡すことで、順番が逆にならずに済みます。"
      ]
    },
    {
      "cell_type": "code",
      "metadata": {
        "id": "uiBeEowkO9ZD"
      },
      "source": [
        "# キーワード引数を指定して、関数を実行\n",
        "\n",
        "\n",
        "# 結果の確認\n"
      ],
      "execution_count": null,
      "outputs": []
    },
    {
      "cell_type": "markdown",
      "metadata": {
        "id": "Bjrmti31O9SE"
      },
      "source": [
        "キーワード引数を準備しておけば、紛らわしい思いをしなくて済みますね。"
      ]
    },
    {
      "cell_type": "markdown",
      "metadata": {
        "id": "PNyAelliEYaq"
      },
      "source": [
        "## 7.3. lambda(ラムダ)式\n",
        "\n",
        "たとえば、関数に渡した引数を2で割る(つまり、半分にする)とき、以下のような関数を作成して、実行するかと思います。"
      ]
    },
    {
      "cell_type": "code",
      "metadata": {
        "id": "mx_dLxHKEYc9"
      },
      "source": [
        "# 引数値を半分にする関数を作成\n",
        "\n",
        "\n",
        "# 引数に2を渡して、関数を実行\n",
        "\n",
        "\n",
        "# 結果の出力\n"
      ],
      "execution_count": null,
      "outputs": []
    },
    {
      "cell_type": "markdown",
      "metadata": {
        "id": "3nFyWoKIR4L9"
      },
      "source": [
        "ただ、このような簡単な関数をいちいち作るのは、少し面倒な気がします。\n",
        "\n",
        "<br>\n",
        "\n",
        "そこで登場するのが、lambda式です。\n",
        "\n",
        "lambda式を使うと、上で作成した関数は、以下のように書き換えできます。"
      ]
    },
    {
      "cell_type": "code",
      "metadata": {
        "id": "9st2t1O_OTTt"
      },
      "source": [
        "# lambda式で書く\n",
        "\n",
        "\n",
        "# lambda式の実行\n",
        "\n",
        "\n",
        "# 結果の確認\n"
      ],
      "execution_count": null,
      "outputs": []
    },
    {
      "cell_type": "markdown",
      "metadata": {
        "id": "7DOeYcR6SXmE"
      },
      "source": [
        "少し難しく見えますが、結局のところ、以下のような書き換えが行われているだけです。\n",
        "\n",
        "\n",
        "```\n",
        "def 関数名(引数):\n",
        "    return 返り値\n",
        "\n",
        "\n",
        "lambda 引数: 返り値\n",
        "```\n",
        "\n",
        "lambda式は無名関数とも呼ばれるのですが、その名のとおりで関数名を定義しなくても関数を使えます。\n",
        "\n",
        "*※`def`のときは、毎回関数名を設定していましたね!!*\n",
        "\n",
        "<br>\n",
        "\n",
        "このように、**わざわざ関数名を付けるまでもないけど、簡単な処理を実行したいとき、lambda式を使います。**\n",
        "\n",
        "<br>\n",
        "\n",
        "さらに、if文も組み合わせると、lambda式の利便性が分かってくるので、\n",
        "\n",
        "```\n",
        "引数が2で割れるとき → そのまま引数を返す\n",
        "引数が2で割れないとき → 2で割り切れないことを知らせる\n",
        "```\n",
        "\n",
        "上記のような関数を作成してみましょう。"
      ]
    },
    {
      "cell_type": "code",
      "metadata": {
        "id": "GKZ4_q5FOTWi"
      },
      "source": [
        "# defを使って関数を作成\n",
        "\n",
        "\n",
        "# 結果の確認\n",
        "\n"
      ],
      "execution_count": null,
      "outputs": []
    },
    {
      "cell_type": "markdown",
      "metadata": {
        "id": "IjTy_jIhOTQY"
      },
      "source": [
        "普通に関数定義をすると上記のようになりますが、lambda式を使うと以下のようになります。"
      ]
    },
    {
      "cell_type": "code",
      "metadata": {
        "id": "11JAJtwURnf4"
      },
      "source": [
        "# lambda式で作成\n",
        "\n",
        "\n",
        "# 結果の確認\n",
        "\n"
      ],
      "execution_count": null,
      "outputs": []
    },
    {
      "cell_type": "markdown",
      "metadata": {
        "id": "-uW_VKk_Rnjx"
      },
      "source": [
        "このように、コード量を減らしつつ、かなりシンプルに書けるようになりました。\n",
        "\n",
        "\n",
        "最初はlambda式の理解に苦労するかと思います。(*僕も苦労しました。*)\n",
        "\n",
        "<br>\n",
        "\n",
        "なので、何回かやってみて、理解を深めていくのが良いですね。\n",
        "\n",
        "もし、Pythonの基礎を習得して、のちにデータサイエンスをやりたいと考えている場合には、lambda式は頻出になります。"
      ]
    },
    {
      "cell_type": "markdown",
      "metadata": {
        "id": "cY14IGK6EYf_"
      },
      "source": [
        "# 8.例外処理（エラーハンドリング）\n",
        "\n",
        "基本的に、コードを実行してエラーになると、プログラムはそこで終了してしまいます。\n",
        "\n"
      ]
    },
    {
      "cell_type": "code",
      "metadata": {
        "id": "oNDy9_N6DUFQ"
      },
      "source": [
        "# 2つの変数を足し合わせる関数を作成する\n",
        "\n",
        "\n",
        "# 数字の1と文字列の\"2\"を引数で渡す\n",
        "\n"
      ],
      "execution_count": null,
      "outputs": []
    },
    {
      "cell_type": "markdown",
      "metadata": {
        "id": "tCrDfGt7HnCj"
      },
      "source": [
        "上記のコードは、数字の1と文字列の2を足し算しようとしたため、エラーになりました。\n",
        "\n",
        "1行目でエラーになったので、2行目で書いていた`print()`が実行されていませんね。\n",
        "\n",
        "<br>\n",
        "\n",
        "このとき例外処理(エラーハンドリング)を使うと、プログラムの実行中にエラーが検出されても、後続の処理が継続されるようになります。"
      ]
    },
    {
      "cell_type": "code",
      "metadata": {
        "id": "WfSnx_BUmFbL"
      },
      "source": [
        "# エラーハンドリングを実装する\n",
        "\n"
      ],
      "execution_count": null,
      "outputs": []
    },
    {
      "cell_type": "markdown",
      "metadata": {
        "id": "zvJeDAi-m05V"
      },
      "source": [
        "エラー原因を`print()`することも可能で、その場合には、以下のように書きます。"
      ]
    },
    {
      "cell_type": "code",
      "metadata": {
        "id": "XZJyiCgim08J"
      },
      "source": [
        "# エラー時には、原因を出力するようにする\n",
        "\n"
      ],
      "execution_count": null,
      "outputs": []
    },
    {
      "cell_type": "markdown",
      "metadata": {
        "id": "P44xKWK-m09U"
      },
      "source": [
        "こうですね。\n",
        "\n",
        "このように、例外処理を使うことで、仮にプログラムにエラーがあったとしても、プログラムの実行を中断せずに処理を続けられるようになります。\n",
        "\n",
        "<br>\n",
        "\n",
        "もちろん、正しい処理がおこなわれた場合には、`except`が実行されません。"
      ]
    },
    {
      "cell_type": "code",
      "metadata": {
        "id": "D5zGRv-3on_0"
      },
      "source": [
        "# 数字の1と数字の2を足し合わせる\n",
        "\n"
      ],
      "execution_count": null,
      "outputs": []
    },
    {
      "cell_type": "markdown",
      "metadata": {
        "id": "gxRNz3ipooDZ"
      },
      "source": [
        "### 8.1. try-except-else\n",
        "\n",
        "正しくコードが動作した場合のみ実行する処理を書きたい場合、例外処理に`else`を追加してあげます。\n"
      ]
    },
    {
      "cell_type": "code",
      "metadata": {
        "id": "7HbIh9OVon8m"
      },
      "source": [
        "# else句を追加する\n",
        "\n"
      ],
      "execution_count": null,
      "outputs": []
    },
    {
      "cell_type": "markdown",
      "metadata": {
        "id": "xl0Rm83Ip065"
      },
      "source": [
        "`else`は、正しく処理が実行された場合のみ機能します。\n",
        "\n",
        "なので、エラーが発生する(`except`に該当する)場合には、実行されません。"
      ]
    },
    {
      "cell_type": "code",
      "metadata": {
        "id": "Z2foKwx9p03q"
      },
      "source": [
        "# 数字の1と文字列の2を足し合わせる\n",
        "\n"
      ],
      "execution_count": null,
      "outputs": []
    },
    {
      "cell_type": "markdown",
      "metadata": {
        "id": "rAaB309sny8n"
      },
      "source": [
        "このとおりです。"
      ]
    },
    {
      "cell_type": "markdown",
      "metadata": {
        "id": "OtWaQzskqaQo"
      },
      "source": [
        "### 8.2. try-except-else-finally\n",
        "\n",
        "成功したか否かに関わらず、エラーハンドリングをした後に実行したい内容は、`finally`の下に書きます。"
      ]
    },
    {
      "cell_type": "code",
      "metadata": {
        "id": "KN9bAxdOqaMO"
      },
      "source": [
        "# finallyを実装する\n",
        "\n"
      ],
      "execution_count": null,
      "outputs": []
    },
    {
      "cell_type": "markdown",
      "metadata": {
        "id": "egTxs-jFq6fK"
      },
      "source": [
        "成功したときだけでなく、エラーになったときも同様に表示されますね。\n"
      ]
    },
    {
      "cell_type": "code",
      "metadata": {
        "id": "DB2y_a2mq6jC"
      },
      "source": [
        "# 数字の1と文字列の2を足し合わせた場合を確認する\n",
        "# finallyを実装する\n",
        "\n"
      ],
      "execution_count": null,
      "outputs": []
    },
    {
      "cell_type": "markdown",
      "metadata": {
        "id": "E3lz5sErq6hw"
      },
      "source": [
        "上記のとおりですね。\n",
        "\n",
        "<br>\n",
        "\n",
        "エラーハンドリングは、たとえばスクレイピングするとき、「もしURLにアクセスできなかったら...」といったときに使えます。\n",
        "\n",
        "たとえば、2019/12/31までアクセスできていたURLが、2020/1/1になるとアクセスできなくなっている場合があります。\n",
        "\n",
        "\n",
        "*※実際に、ネット上の記事を見ていると、削除されていてURLにアクセスできないときがありますよね...??*\n",
        "\n",
        "こういった「**事前にパターンわけできないんだけど、もしかしたらエラーになるかもしれない**」といったときに例外処理を使ってあげます。\n",
        "\n",
        "<br>\n",
        "\n",
        "すぐに使う機会は少ないですが、どこかのタイミングで出てくるはずなので、しっかりおさえておきましょう。"
      ]
    },
    {
      "cell_type": "markdown",
      "metadata": {
        "id": "Y_DbKovIHnHs"
      },
      "source": [
        "# 9.クラス\n",
        "\n",
        "以前に紹介したリストでは、`append()`メソッドを使うことで、リスト内に新しい値を追加できました。"
      ]
    },
    {
      "cell_type": "code",
      "metadata": {
        "id": "tbodx9GnHnRX"
      },
      "source": [
        "# lに1, 2, 3を格納したリストを入れる\n",
        "\n",
        "\n",
        "# lに4を入れる\n",
        "\n",
        "\n",
        "# 結果の確認\n"
      ],
      "execution_count": null,
      "outputs": []
    },
    {
      "cell_type": "markdown",
      "metadata": {
        "id": "lUR5oH-dJ2s2"
      },
      "source": [
        "上記の`l`は、言うまでもなくリスト型ですよね。\n",
        "\n",
        "この`l`に対して、`help()`関数を使うと、「どんな変数なのか」といった詳細が見れるようになっています。"
      ]
    },
    {
      "cell_type": "code",
      "metadata": {
        "id": "fEb7fx_tJ2yF"
      },
      "source": [
        "# help関数でlを確認する\n",
        "help(l)"
      ],
      "execution_count": null,
      "outputs": []
    },
    {
      "cell_type": "markdown",
      "metadata": {
        "id": "I1jJDRq5zP3x"
      },
      "source": [
        "そうすると、たくさん文章が出てきますが、、、必要な部分をピックアップすると以下のようになっています。\n",
        "\n",
        "```\n",
        "Help on list object:\n",
        "\n",
        "class list(object)\n",
        " |  append(...)\n",
        " |      L.append(object) -> None -- append object to end\n",
        "\n",
        "```\n",
        "\n",
        "まず注目して頂きたいのは、`list object`になっていることです。\n",
        "\n",
        "今まで「リスト型」と呼んでいましたが、`help()`で見てみると「**リストオブジェクト**」になっています。\n",
        "\n",
        "\n",
        "<br>\n",
        "\n",
        "さらに、リストがどのように作られているのかと言うと、、、それは`class list(object)`で作成されています。\n",
        "\n",
        "今までなんとなく使っていたリストは、`class`を元に作られていたんですね。\n",
        "\n",
        "<br>\n",
        "\n",
        "\n",
        "\n",
        "実は、今まで扱ってきた数値型、文字型、リスト型などのデータ型は、オブジェクトと呼びます。\n",
        "\n",
        "そして、このオブジェクトを作成するためには、今回学習するクラスを使います。\n",
        "\n",
        "<br>\n",
        "\n",
        "\n",
        "文字列やリストなどはPython側ですでに準備されていたオブジェクトですが、この章で紹介するクラスを使えば**オリジナルのオブジェクトを作成できる**ようになります。\n",
        "\n",
        "<br>\n",
        "\n"
      ]
    },
    {
      "cell_type": "markdown",
      "metadata": {
        "id": "w7BP8SXCzP5N"
      },
      "source": [
        "## 9.1. クラスの定義\n",
        "\n",
        "クラスを作成するには、以下のように書きます。"
      ]
    },
    {
      "cell_type": "code",
      "metadata": {
        "id": "TC0LK2clzP0P"
      },
      "source": [
        "# Childクラスを作成して、say_hello()メソッドを持たせる\n"
      ],
      "execution_count": null,
      "outputs": []
    },
    {
      "cell_type": "markdown",
      "metadata": {
        "id": "8cl0nHvB1-XF"
      },
      "source": [
        "これだけで`Child`というクラスを作成して、`say_hello()`というメソッドを準備したわけです。\n",
        "\n",
        "*※`self`については、いったん「このように書くんだ」と認識して頂けたらと思いますm(_ _)m*\n",
        "\n",
        "<br>\n",
        "\n",
        "このクラスと、そのメソッドを使うには、以下のように書きます。"
      ]
    },
    {
      "cell_type": "code",
      "metadata": {
        "id": "EFO6sYjz1-Yb"
      },
      "source": [
        "# 1. 変数 = クラス名()\n",
        "\n",
        "\n",
        "# 2. 変数.メソッド名()\n"
      ],
      "execution_count": null,
      "outputs": []
    },
    {
      "cell_type": "markdown",
      "metadata": {
        "id": "8WR1OVGn1-TY"
      },
      "source": [
        "これだけですね。\n",
        "\n",
        "クラスとそのメソッドを使うには、基本的に、以下の手順です。\n",
        "\n",
        "- ① 変数 = クラス名()\n",
        "- ② 変数.メソッド名()\n",
        "\n",
        "ここまでは、そんなに難しくないのかなと思います。\n"
      ]
    },
    {
      "cell_type": "markdown",
      "metadata": {
        "id": "SZwFXwtQ3DyU"
      },
      "source": [
        "## 9.2. クラスのイメージ\n",
        "\n",
        "クラスは、**オブジェクトの設計図**です。\n",
        "\n",
        "\n",
        "たとえば、リストに対して`help()`を使ったときのことを思い出してみましょう。\n",
        "\n",
        "```\n",
        "Help on list object:\n",
        "\n",
        "class list(object)\n",
        " |  append(...)\n",
        " |      L.append(object) -> None -- append object to end\n",
        "\n",
        "```\n",
        "\n",
        "上記のようになっていましたよね。\n",
        "\n",
        "これ(=クラス)は、いわば**リストの設計図**になっています。\n",
        "\n",
        "<br>\n",
        "\n",
        "いつもとは違いますが、リストは以下のようにも作成できます。"
      ]
    },
    {
      "cell_type": "code",
      "metadata": {
        "id": "1xRwAHubx6BT"
      },
      "source": [
        "# 空のリストを作成する\n",
        "\n",
        "\n",
        "# 作成したリストを確認\n",
        "\n",
        "\n",
        "# 作成したリストに1を追加\n",
        "\n",
        "\n",
        "# 1が追加できたことを確認\n"
      ],
      "execution_count": null,
      "outputs": []
    },
    {
      "cell_type": "markdown",
      "metadata": {
        "id": "90hFpW-Q30PY"
      },
      "source": [
        "どこかで上記の形に見覚えはないですか？\n",
        "\n",
        "そうです、`Childクラス`のときと、まったく同じです...！\n",
        "\n",
        "```\n",
        "# 1. 変数 = クラス名()\n",
        "child = Child()\n",
        "\n",
        "# 2. 変数.メソッド名()\n",
        "child.say_hello()\n",
        "```\n",
        "\n",
        "今回のリストの場合も、原理原則は変わっていませんね。\n",
        "\n",
        "```\n",
        "# 1. 変数 = クラス名()\n",
        "l = list()\n",
        "\n",
        "# 2. 変数.メソッド名()\n",
        "l.append(1)\n",
        "```\n",
        "\n",
        "ここまでの話をまとめると、以下のようになります。\n",
        "\n",
        "- 0. オブジェクトの設計図(クラス)を作成する\n",
        "  - class クラス名(object)\n",
        "- 1. オブジェクトを生成して、変数に入れる\n",
        "  - 変数 = クラス名()\n",
        "- 2. 目的に応じてメソッドを使う\n",
        "  - 変数.メソッド名()\n",
        "\n",
        "これだけおさえておけば、クラスの理解でややこしくならずに済みます。\n",
        "\n",
        "ぜひ、この3つの手順だけでも覚えておきましょう。"
      ]
    },
    {
      "cell_type": "markdown",
      "metadata": {
        "id": "3oygfyrB4FHq"
      },
      "source": [
        "## 9.3. クラスの初期化\n",
        "\n",
        "クラス内で`__init__(self)`を定義してあげると、オブジェクトを生成するとき常に呼ばれるようになります。"
      ]
    },
    {
      "cell_type": "code",
      "metadata": {
        "id": "Btx0yl_y67HJ"
      },
      "source": [
        "# __init__を追加したクラスの定義\n"
      ],
      "execution_count": null,
      "outputs": []
    },
    {
      "cell_type": "code",
      "metadata": {
        "id": "-OSFxpKqAeMK"
      },
      "source": [
        "# オブジェクトを生成する\n"
      ],
      "execution_count": null,
      "outputs": []
    },
    {
      "cell_type": "markdown",
      "metadata": {
        "id": "_VsgwUjF_bR2"
      },
      "source": [
        "まだメソッドを使うようなコードを書いていませんが、「Wa!!!!!!!!」と出力されました。\n",
        "\n",
        "要するに、`__init__(self)`を書いておくと、(記述がなくても)`__init__(self)`以下が実行されます。\n",
        "\n",
        "<br>\n",
        "\n",
        "このことを応用すると、「子どもが名前を言えるようにしたい」といったとき、以下のように記述できます。"
      ]
    },
    {
      "cell_type": "code",
      "metadata": {
        "id": "HYAFVcP2_bT-"
      },
      "source": [
        "# 変数nameを扱えるようにクラスを定義する\n",
        "\n",
        "\n",
        "# オブジェクトの生成\n"
      ],
      "execution_count": null,
      "outputs": []
    },
    {
      "cell_type": "markdown",
      "metadata": {
        "id": "ybs295dl_bWb"
      },
      "source": [
        "`self`のあとに引数`name`を書いて、オブジェクトを生成するとき'Taro'を渡してあげます。\n",
        "\n",
        "<br>\n",
        "\n",
        "ちなみに、`self.name = name`のように記述しているのは、クラス内で`name`にアクセスするためです。\n",
        "\n",
        "`self.name`と書いておくことで、`say_hello()`でもオブジェクト生成時に渡しておいた'Taro'が使えるようになります。"
      ]
    },
    {
      "cell_type": "code",
      "metadata": {
        "id": "nKsE_R_V_bOl"
      },
      "source": [
        "# nameをsay_hello()メソッドで使えるようにする\n"
      ],
      "execution_count": null,
      "outputs": []
    },
    {
      "cell_type": "markdown",
      "metadata": {
        "id": "EMg9PiQZCYqS"
      },
      "source": [
        "逆に、`self`を付けないと、変数`name`にはアクセスできません。"
      ]
    },
    {
      "cell_type": "code",
      "metadata": {
        "id": "erADXEiYCYs-"
      },
      "source": [
        "# selfを付けずにnameを使おうとしてみる\n",
        "\n",
        "\n",
        "# オブジェクトの生成\n",
        "\n",
        "\n",
        "# say_hello()メソッドの使用\n"
      ],
      "execution_count": null,
      "outputs": []
    },
    {
      "cell_type": "markdown",
      "metadata": {
        "id": "qtW0LiF5CYmf"
      },
      "source": [
        "ここまで学習すると分かってくるかもしれないですが、`self`は「自分自身」という意味です。\n",
        "\n",
        "実際に、`self`をprint`()`してみましょう。"
      ]
    },
    {
      "cell_type": "code",
      "metadata": {
        "id": "KscHju_cCy5s"
      },
      "source": [
        "# selfをprint()する\n",
        "\n",
        "\n",
        "# オブジェクトの生成\n"
      ],
      "execution_count": null,
      "outputs": []
    },
    {
      "cell_type": "markdown",
      "metadata": {
        "id": "ta63QAOQCy-W"
      },
      "source": [
        "さらに、生成したオブジェクト`child`もprint()してみます。"
      ]
    },
    {
      "cell_type": "code",
      "metadata": {
        "id": "c_06GUEaDUVT"
      },
      "source": [
        "# オブジェクトをprint()する\n"
      ],
      "execution_count": null,
      "outputs": []
    },
    {
      "cell_type": "markdown",
      "metadata": {
        "id": "mETl8eYbDUWN"
      },
      "source": [
        "そうすると、オブジェクト`child`と`self`の中身が同じになっていることが分かります。\n",
        "\n",
        "つまり、`self`の正体は呼び出している自分自身だったわけです。\n",
        "\n",
        "<br>\n",
        "\n",
        "クラスを元に作成したオブジェクトに対して、何か変数を加えたいときには、**オブジェクトと一緒に変数を渡してあげる必要がある**んですね。\n",
        "\n",
        "<br>\n",
        "\n",
        "ちょっと難しいかもしれないですが、今は以下のようにおさえておけばOKです。\n",
        "\n",
        "- クラス内のメソッドでは、`self`を必ず付ける\n",
        "- `__init__`で受け取ったデータ(今回ならname)は、`self.name = name`のように記述して、そのクラス内で使えるようにする"
      ]
    },
    {
      "cell_type": "markdown",
      "metadata": {
        "id": "uKP1eC-Z67Y3"
      },
      "source": [
        "## 9.4. クラスの継承\n",
        "\n",
        "「作成したクラスの機能を、別のクラスでも使いたい」といったときに、クラスの継承を使います。\n",
        "\n",
        "たとえば、以前に作成した`Child`クラスを継承する`JapaneseChild`クラスを作成してみましょう。"
      ]
    },
    {
      "cell_type": "code",
      "metadata": {
        "id": "njU-h2vu67eJ"
      },
      "source": [
        "# say_hello()メソッドを持ったChildクラスを作成する\n",
        "\n",
        "\n",
        "# Childクラスを持っているJapaneseChildクラスを作成する\n"
      ],
      "execution_count": null,
      "outputs": []
    },
    {
      "cell_type": "markdown",
      "metadata": {
        "id": "K-HhXlqJ67lU"
      },
      "source": [
        "上記のように書きます。\n",
        "\n",
        "*※`pass`は、なにも処理しないときに使います。*\n",
        "\n",
        "継承したいクラス名を`object`の代わりに記述するだけで、クラスの継承ができるんですね。\n",
        "\n",
        "<br>\n",
        "\n",
        "実際に`JapaneseChild`が`Child`を継承できているか確認するために、`say_hello()`を実行できるか確認してみましょう。\n",
        "\n"
      ]
    },
    {
      "cell_type": "code",
      "metadata": {
        "id": "OhjTUw-Y67rD"
      },
      "source": [
        "# オブジェクトの生成\n",
        "\n",
        "\n",
        "# Childクラスが持っていたsay_hello()メソッドを実行する\n"
      ],
      "execution_count": null,
      "outputs": []
    },
    {
      "cell_type": "markdown",
      "metadata": {
        "id": "4yvbpAMKIbqQ"
      },
      "source": [
        "このように、日本人の子どもなのに、'year!!!!'とアメリカンな言葉を使えるようになりました。\n",
        "\n",
        "このように継承を受けた側(今回なら`JapaneseChild`)のクラスをサブクラスと呼びます。\n",
        "\n",
        "<br>\n",
        "\n",
        "いまサブクラス内で何も処理を書いていないですが、もちろん個別の処理を書くことも可能です。"
      ]
    },
    {
      "cell_type": "code",
      "metadata": {
        "id": "GRtrPlwVIbmi"
      },
      "source": [
        "# JapaneseChildクラスでsay_ohayou()メソッドを追加する\n",
        "\n",
        "\n",
        "# オブジェクトの生成\n",
        "\n",
        "\n",
        "# Childクラスの持っていたsay_hello()を実行\n",
        "\n",
        "\n",
        "# JapaneseChildクラスのsay_ohayou()を実行\n"
      ],
      "execution_count": null,
      "outputs": []
    },
    {
      "cell_type": "markdown",
      "metadata": {
        "id": "i2V2B8cHJCTk"
      },
      "source": [
        "ちゃんと日本人らしい言葉も使えるようになりました。\n",
        "\n",
        "もし「他のクラスでも同じ処理を使いたい」といったときには、クラスの継承を使ってあげましょう。"
      ]
    },
    {
      "cell_type": "markdown",
      "metadata": {
        "id": "ilaKRxim67yS"
      },
      "source": [
        "## 10.ライブラリ(パッケージ)のインポート\n",
        "\n",
        "Pythonはライブラリが豊富なプログラミング言語です。\n",
        "\n",
        "言い方を変えると、「ライブラリを使う」のが必須な言語とも言えます。\n",
        "\n",
        "なので、この章ではライブラリの使い方について学んでいきましょう。\n",
        "\n",
        "<br>\n",
        "\n",
        "といっても、ライブラリを使うには、以下のように書くだけです。"
      ]
    },
    {
      "cell_type": "code",
      "metadata": {
        "id": "lX6KUvOzKsfR"
      },
      "source": [
        "# seabornをインポート\n"
      ],
      "execution_count": null,
      "outputs": []
    },
    {
      "cell_type": "markdown",
      "metadata": {
        "id": "vHyHbFprKt6j"
      },
      "source": [
        "これは、「`seaborn`というライブラリをインポートする」という意味ですね。\n",
        "\n",
        "つまり、seabornというライブラリを使えるようになりました。"
      ]
    },
    {
      "cell_type": "markdown",
      "metadata": {
        "id": "hwT-PE1IK4n3"
      },
      "source": [
        "### 10.1. as\n",
        "\n",
        "いまインポートした`seaborn`を使って、簡単なグラフを表示してみたと思います。"
      ]
    },
    {
      "cell_type": "code",
      "metadata": {
        "id": "AgDCP7jULGQF"
      },
      "source": [
        "# seabornを使ってグラフ作成\n"
      ],
      "execution_count": null,
      "outputs": []
    },
    {
      "cell_type": "markdown",
      "metadata": {
        "id": "4EVJrWT3LKFV"
      },
      "source": [
        "このように書けます。\n",
        "\n",
        "ただ、`seaborn`を使うとき、毎回seabornと書くのは面倒ですよね。\n",
        "\n",
        "そんなときに`as`を使って、ライブラリ読み込み時に別名を付けることができます。"
      ]
    },
    {
      "cell_type": "code",
      "metadata": {
        "id": "QDzxCfB56spT"
      },
      "source": [
        "# asを使ってseabornを利用\n"
      ],
      "execution_count": null,
      "outputs": []
    },
    {
      "cell_type": "markdown",
      "metadata": {
        "id": "ONkf8KKqLaZZ"
      },
      "source": [
        "こっちの方が、はるかにコードが見やすいですよね。\n",
        "\n",
        "\n",
        "なお、今回指定した`sns`は、他の名前でも大丈夫です。ただ、`seaborn`を使うときは慣習的に`sns`を使います。\n",
        "\n",
        "他の主要なライブラリも、だいたい`as`で指定する名前が決まっていますね。\n",
        "\n",
        "- tensorflow : tf\n",
        "- matplotlib.pyplot : plt\n",
        "- pandas : pd\n",
        "- numpy : np"
      ]
    },
    {
      "cell_type": "markdown",
      "metadata": {
        "id": "Ed5UOlrKL75_"
      },
      "source": [
        "### 10.2. ライブラリのインストール\n",
        "\n",
        "今回使っているGoogle Colaboratoryでは、よく使われるライブラリが最初から入っています。\n",
        "\n",
        "ただ、すべてのライブラリが入っているわけではありません。\n",
        "\n",
        "<br>\n",
        "\n",
        "たとえば、wikipediaというライブラリを使おうとすると、エラーになってしまいます。"
      ]
    },
    {
      "cell_type": "code",
      "metadata": {
        "id": "Tbbrvu7b7m13"
      },
      "source": [
        "# wikipediaライブラリをインポート\n"
      ],
      "execution_count": null,
      "outputs": []
    },
    {
      "cell_type": "markdown",
      "metadata": {
        "id": "8UDcMpqeMUpJ"
      },
      "source": [
        "このように、導入されていないライブラリを使うには、自分でライブラリをインストールします。\n",
        "\n",
        "そのときのコマンドは、`pip install ライブラリ名`です。\n",
        "\n",
        "\n"
      ]
    },
    {
      "cell_type": "code",
      "metadata": {
        "id": "3_5joNDt68hc"
      },
      "source": [
        "# wikipediaライブラリをインストール\n"
      ],
      "execution_count": null,
      "outputs": []
    },
    {
      "cell_type": "markdown",
      "metadata": {
        "id": "5l6HlSqFMoSn"
      },
      "source": [
        "一番下の行を見ると、Successfullyになっていますね。\n",
        "\n",
        "これで、wikipediaライブラリを使えるようになりました。"
      ]
    },
    {
      "cell_type": "code",
      "metadata": {
        "id": "jee4x2uk7qS7"
      },
      "source": [
        "# wikipediaライブラリを使ってみる\n",
        "\n"
      ],
      "execution_count": null,
      "outputs": []
    },
    {
      "cell_type": "code",
      "metadata": {
        "id": "5g0hbh_A70pi"
      },
      "source": [
        "# \"Python\"のwikipediaページURLを取得\n",
        "\n"
      ],
      "execution_count": null,
      "outputs": []
    },
    {
      "cell_type": "markdown",
      "metadata": {
        "id": "7Tj00wlP79il"
      },
      "source": [
        "こうですね。\n",
        "\n",
        "\n",
        "Pythonはライブラリを使うことで、一気に開発がラクになります。\n",
        "\n",
        "ぜひ色々なライブラリに触れていきましょう。\n",
        "\n"
      ]
    },
    {
      "cell_type": "markdown",
      "metadata": {
        "id": "maJcY0RfM8ZJ"
      },
      "source": [
        "# 11.まとめ\n",
        "\n",
        "というわけで、今回のPython入門は、これにて終了です。\n",
        "\n",
        "Pythonの基礎について、ガッツリ学べましたね。\n",
        "\n",
        "<br>\n",
        "\n",
        "ただ、Pythonを勉強する目的は、機械学習を勉強したり、自動化を学習する部分ですよね。\n",
        "\n",
        "なので、そういった「Pythonの基礎を応用した部分」は、今後の動画シリーズでしっかりと紹介していきます。\n",
        "\n",
        "<br>\n",
        "\n",
        "ぜひ、また一緒にPythonを勉強できると嬉しいですっ(๑╹ω╹๑ )\n"
      ]
    }
  ]
}