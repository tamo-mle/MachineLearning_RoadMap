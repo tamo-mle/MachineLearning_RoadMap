{
  "nbformat": 4,
  "nbformat_minor": 0,
  "metadata": {
    "colab": {
      "name": "PythonExercise_100question_pack.ipynb",
      "provenance": [],
      "authorship_tag": "ABX9TyM8R4sCM1+mzo0ITfrPixIX"
    },
    "kernelspec": {
      "name": "python3",
      "display_name": "Python 3"
    },
    "language_info": {
      "name": "python"
    }
  },
  "cells": [
    {
      "cell_type": "markdown",
      "metadata": {
        "id": "e5Qwa9MK2lTx"
      },
      "source": [
        "## 問題1"
      ]
    },
    {
      "cell_type": "code",
      "metadata": {
        "colab": {
          "base_uri": "https://localhost:8080/"
        },
        "id": "p1mXyvpk22O3",
        "outputId": "4e72b537-ecda-4e9e-b53f-8fbb1abe49f6"
      },
      "source": [
        "x = 7\n",
        "y = 3\n",
        "\n",
        "print(f'{x} + {y} = {x + y}')\n",
        "print(f'{x} - {y} = {x - y}')\n",
        "print(f'{x} × {y} = {x * y}')\n",
        "print(f'{x} ÷ {y} = {x // y} 余り {x % y}')\n",
        "print(f'{x} ÷ {y} = {x / y}')"
      ],
      "execution_count": 16,
      "outputs": [
        {
          "output_type": "stream",
          "text": [
            "7 + 3 = 10\n",
            "7 - 3 = 4\n",
            "7 × 3 = 21\n",
            "7 ÷ 3 = 2 余り 1\n",
            "7 ÷ 3 = 2.3333333333333335\n"
          ],
          "name": "stdout"
        }
      ]
    },
    {
      "cell_type": "markdown",
      "metadata": {
        "id": "9ovRKFr22pMB"
      },
      "source": [
        "##問題2"
      ]
    },
    {
      "cell_type": "code",
      "metadata": {
        "id": "hXK4bnUw22r2"
      },
      "source": [
        ""
      ],
      "execution_count": null,
      "outputs": []
    },
    {
      "cell_type": "markdown",
      "metadata": {
        "id": "0KNAewDH2skz"
      },
      "source": [
        "##問題3"
      ]
    },
    {
      "cell_type": "code",
      "metadata": {
        "id": "yWRkISoy2wY4"
      },
      "source": [
        ""
      ],
      "execution_count": null,
      "outputs": []
    },
    {
      "cell_type": "markdown",
      "metadata": {
        "id": "4J7YxWdX2xi6"
      },
      "source": [
        "##問題4"
      ]
    },
    {
      "cell_type": "code",
      "metadata": {
        "id": "AqZBMMo0230e"
      },
      "source": [
        ""
      ],
      "execution_count": null,
      "outputs": []
    },
    {
      "cell_type": "markdown",
      "metadata": {
        "id": "I-emR3Tc24UH"
      },
      "source": [
        "##問題5"
      ]
    },
    {
      "cell_type": "code",
      "metadata": {
        "id": "VMAg7VlQ26Ku"
      },
      "source": [
        ""
      ],
      "execution_count": null,
      "outputs": []
    },
    {
      "cell_type": "markdown",
      "metadata": {
        "id": "niF6fydM26dX"
      },
      "source": [
        "##問題6"
      ]
    },
    {
      "cell_type": "code",
      "metadata": {
        "id": "TVfKJQ-F25LS"
      },
      "source": [
        ""
      ],
      "execution_count": null,
      "outputs": []
    },
    {
      "cell_type": "markdown",
      "metadata": {
        "id": "xiAoG0B32-PE"
      },
      "source": [
        "##問題7"
      ]
    },
    {
      "cell_type": "code",
      "metadata": {
        "id": "0-pqXtGt2_8P"
      },
      "source": [
        ""
      ],
      "execution_count": null,
      "outputs": []
    },
    {
      "cell_type": "markdown",
      "metadata": {
        "id": "vuTMe6Oc3Anv"
      },
      "source": [
        "##問題8"
      ]
    },
    {
      "cell_type": "code",
      "metadata": {
        "id": "goBua2ap2944"
      },
      "source": [
        ""
      ],
      "execution_count": null,
      "outputs": []
    },
    {
      "cell_type": "markdown",
      "metadata": {
        "id": "Nvo3272k3DAr"
      },
      "source": [
        "##問題9"
      ]
    },
    {
      "cell_type": "code",
      "metadata": {
        "id": "Ij_kmSk83DyF"
      },
      "source": [
        ""
      ],
      "execution_count": null,
      "outputs": []
    },
    {
      "cell_type": "markdown",
      "metadata": {
        "id": "foDTyc6P3EW7"
      },
      "source": [
        "##問題10"
      ]
    },
    {
      "cell_type": "code",
      "metadata": {
        "id": "EbgxLcC93E7U"
      },
      "source": [
        ""
      ],
      "execution_count": null,
      "outputs": []
    }
  ]
}