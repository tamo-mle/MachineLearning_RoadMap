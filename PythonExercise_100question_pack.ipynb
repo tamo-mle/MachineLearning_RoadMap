{
  "nbformat": 4,
  "nbformat_minor": 0,
  "metadata": {
    "colab": {
      "name": "PythonExercise_100question_pack.ipynb",
      "provenance": [],
      "collapsed_sections": [],
      "authorship_tag": "ABX9TyOfhzsgCJm1pk9zjlGyA7z2"
    },
    "kernelspec": {
      "name": "python3",
      "display_name": "Python 3"
    },
    "language_info": {
      "name": "python"
    }
  },
  "cells": [
    {
      "cell_type": "markdown",
      "metadata": {
        "id": "e5Qwa9MK2lTx"
      },
      "source": [
        "## 問題1　○"
      ]
    },
    {
      "cell_type": "code",
      "metadata": {
        "colab": {
          "base_uri": "https://localhost:8080/"
        },
        "id": "p1mXyvpk22O3",
        "outputId": "63add78f-50b0-4dc7-dc4d-0215c0e8bf20"
      },
      "source": [
        "x = 7\n",
        "y = 3\n",
        "\n",
        "print(f'{x} + {y} = {x + y}')\n",
        "print(f'{x} - {y} = {x - y}')\n",
        "print(f'{x} × {y} = {x * y}')\n",
        "print(f'{x} ÷ {y} = {x // y} 余り {x % y}')\n",
        "print(f'{x} ÷ {y} = {x / y}')"
      ],
      "execution_count": null,
      "outputs": [
        {
          "output_type": "stream",
          "text": [
            "7 + 3 = 10\n",
            "7 - 3 = 4\n",
            "7 × 3 = 21\n",
            "7 ÷ 3 = 2 余り 1\n",
            "7 ÷ 3 = 2.3333333333333335\n"
          ],
          "name": "stdout"
        }
      ]
    },
    {
      "cell_type": "markdown",
      "metadata": {
        "id": "9ovRKFr22pMB"
      },
      "source": [
        "##問題2　○"
      ]
    },
    {
      "cell_type": "code",
      "metadata": {
        "id": "hXK4bnUw22r2",
        "colab": {
          "base_uri": "https://localhost:8080/",
          "height": 593
        },
        "outputId": "3f21f1ec-2e32-43b5-df41-6bc40e836bd6"
      },
      "source": [
        "msg = input('好きな文字を入力してください >　')\n",
        "print(f'入力された文字　：　{msg}')"
      ],
      "execution_count": null,
      "outputs": [
        {
          "output_type": "error",
          "ename": "KeyboardInterrupt",
          "evalue": "ignored",
          "traceback": [
            "\u001b[0;31m---------------------------------------------------------------------------\u001b[0m",
            "\u001b[0;31mKeyboardInterrupt\u001b[0m                         Traceback (most recent call last)",
            "\u001b[0;32m/usr/local/lib/python3.7/dist-packages/ipykernel/kernelbase.py\u001b[0m in \u001b[0;36m_input_request\u001b[0;34m(self, prompt, ident, parent, password)\u001b[0m\n\u001b[1;32m    728\u001b[0m             \u001b[0;32mtry\u001b[0m\u001b[0;34m:\u001b[0m\u001b[0;34m\u001b[0m\u001b[0;34m\u001b[0m\u001b[0m\n\u001b[0;32m--> 729\u001b[0;31m                 \u001b[0mident\u001b[0m\u001b[0;34m,\u001b[0m \u001b[0mreply\u001b[0m \u001b[0;34m=\u001b[0m \u001b[0mself\u001b[0m\u001b[0;34m.\u001b[0m\u001b[0msession\u001b[0m\u001b[0;34m.\u001b[0m\u001b[0mrecv\u001b[0m\u001b[0;34m(\u001b[0m\u001b[0mself\u001b[0m\u001b[0;34m.\u001b[0m\u001b[0mstdin_socket\u001b[0m\u001b[0;34m,\u001b[0m \u001b[0;36m0\u001b[0m\u001b[0;34m)\u001b[0m\u001b[0;34m\u001b[0m\u001b[0;34m\u001b[0m\u001b[0m\n\u001b[0m\u001b[1;32m    730\u001b[0m             \u001b[0;32mexcept\u001b[0m \u001b[0mException\u001b[0m\u001b[0;34m:\u001b[0m\u001b[0;34m\u001b[0m\u001b[0;34m\u001b[0m\u001b[0m\n",
            "\u001b[0;32m/usr/local/lib/python3.7/dist-packages/jupyter_client/session.py\u001b[0m in \u001b[0;36mrecv\u001b[0;34m(self, socket, mode, content, copy)\u001b[0m\n\u001b[1;32m    802\u001b[0m         \u001b[0;32mtry\u001b[0m\u001b[0;34m:\u001b[0m\u001b[0;34m\u001b[0m\u001b[0;34m\u001b[0m\u001b[0m\n\u001b[0;32m--> 803\u001b[0;31m             \u001b[0mmsg_list\u001b[0m \u001b[0;34m=\u001b[0m \u001b[0msocket\u001b[0m\u001b[0;34m.\u001b[0m\u001b[0mrecv_multipart\u001b[0m\u001b[0;34m(\u001b[0m\u001b[0mmode\u001b[0m\u001b[0;34m,\u001b[0m \u001b[0mcopy\u001b[0m\u001b[0;34m=\u001b[0m\u001b[0mcopy\u001b[0m\u001b[0;34m)\u001b[0m\u001b[0;34m\u001b[0m\u001b[0;34m\u001b[0m\u001b[0m\n\u001b[0m\u001b[1;32m    804\u001b[0m         \u001b[0;32mexcept\u001b[0m \u001b[0mzmq\u001b[0m\u001b[0;34m.\u001b[0m\u001b[0mZMQError\u001b[0m \u001b[0;32mas\u001b[0m \u001b[0me\u001b[0m\u001b[0;34m:\u001b[0m\u001b[0;34m\u001b[0m\u001b[0;34m\u001b[0m\u001b[0m\n",
            "\u001b[0;32m/usr/local/lib/python3.7/dist-packages/zmq/sugar/socket.py\u001b[0m in \u001b[0;36mrecv_multipart\u001b[0;34m(self, flags, copy, track)\u001b[0m\n\u001b[1;32m    582\u001b[0m         \"\"\"\n\u001b[0;32m--> 583\u001b[0;31m         \u001b[0mparts\u001b[0m \u001b[0;34m=\u001b[0m \u001b[0;34m[\u001b[0m\u001b[0mself\u001b[0m\u001b[0;34m.\u001b[0m\u001b[0mrecv\u001b[0m\u001b[0;34m(\u001b[0m\u001b[0mflags\u001b[0m\u001b[0;34m,\u001b[0m \u001b[0mcopy\u001b[0m\u001b[0;34m=\u001b[0m\u001b[0mcopy\u001b[0m\u001b[0;34m,\u001b[0m \u001b[0mtrack\u001b[0m\u001b[0;34m=\u001b[0m\u001b[0mtrack\u001b[0m\u001b[0;34m)\u001b[0m\u001b[0;34m]\u001b[0m\u001b[0;34m\u001b[0m\u001b[0;34m\u001b[0m\u001b[0m\n\u001b[0m\u001b[1;32m    584\u001b[0m         \u001b[0;31m# have first part already, only loop while more to receive\u001b[0m\u001b[0;34m\u001b[0m\u001b[0;34m\u001b[0m\u001b[0;34m\u001b[0m\u001b[0m\n",
            "\u001b[0;32mzmq/backend/cython/socket.pyx\u001b[0m in \u001b[0;36mzmq.backend.cython.socket.Socket.recv\u001b[0;34m()\u001b[0m\n",
            "\u001b[0;32mzmq/backend/cython/socket.pyx\u001b[0m in \u001b[0;36mzmq.backend.cython.socket.Socket.recv\u001b[0;34m()\u001b[0m\n",
            "\u001b[0;32mzmq/backend/cython/socket.pyx\u001b[0m in \u001b[0;36mzmq.backend.cython.socket._recv_copy\u001b[0;34m()\u001b[0m\n",
            "\u001b[0;32m/usr/local/lib/python3.7/dist-packages/zmq/backend/cython/checkrc.pxd\u001b[0m in \u001b[0;36mzmq.backend.cython.checkrc._check_rc\u001b[0;34m()\u001b[0m\n",
            "\u001b[0;31mKeyboardInterrupt\u001b[0m: ",
            "\nDuring handling of the above exception, another exception occurred:\n",
            "\u001b[0;31mKeyboardInterrupt\u001b[0m                         Traceback (most recent call last)",
            "\u001b[0;32m<ipython-input-106-465cfe6920fc>\u001b[0m in \u001b[0;36m<module>\u001b[0;34m()\u001b[0m\n\u001b[0;32m----> 1\u001b[0;31m \u001b[0mmsg\u001b[0m \u001b[0;34m=\u001b[0m \u001b[0minput\u001b[0m\u001b[0;34m(\u001b[0m\u001b[0;34m'好きな文字を入力してください >　'\u001b[0m\u001b[0;34m)\u001b[0m\u001b[0;34m\u001b[0m\u001b[0;34m\u001b[0m\u001b[0m\n\u001b[0m\u001b[1;32m      2\u001b[0m \u001b[0mprint\u001b[0m\u001b[0;34m(\u001b[0m\u001b[0;34mf'入力された文字　：　{msg}'\u001b[0m\u001b[0;34m)\u001b[0m\u001b[0;34m\u001b[0m\u001b[0;34m\u001b[0m\u001b[0m\n",
            "\u001b[0;32m/usr/local/lib/python3.7/dist-packages/ipykernel/kernelbase.py\u001b[0m in \u001b[0;36mraw_input\u001b[0;34m(self, prompt)\u001b[0m\n\u001b[1;32m    702\u001b[0m             \u001b[0mself\u001b[0m\u001b[0;34m.\u001b[0m\u001b[0m_parent_ident\u001b[0m\u001b[0;34m,\u001b[0m\u001b[0;34m\u001b[0m\u001b[0;34m\u001b[0m\u001b[0m\n\u001b[1;32m    703\u001b[0m             \u001b[0mself\u001b[0m\u001b[0;34m.\u001b[0m\u001b[0m_parent_header\u001b[0m\u001b[0;34m,\u001b[0m\u001b[0;34m\u001b[0m\u001b[0;34m\u001b[0m\u001b[0m\n\u001b[0;32m--> 704\u001b[0;31m             \u001b[0mpassword\u001b[0m\u001b[0;34m=\u001b[0m\u001b[0;32mFalse\u001b[0m\u001b[0;34m,\u001b[0m\u001b[0;34m\u001b[0m\u001b[0;34m\u001b[0m\u001b[0m\n\u001b[0m\u001b[1;32m    705\u001b[0m         )\n\u001b[1;32m    706\u001b[0m \u001b[0;34m\u001b[0m\u001b[0m\n",
            "\u001b[0;32m/usr/local/lib/python3.7/dist-packages/ipykernel/kernelbase.py\u001b[0m in \u001b[0;36m_input_request\u001b[0;34m(self, prompt, ident, parent, password)\u001b[0m\n\u001b[1;32m    732\u001b[0m             \u001b[0;32mexcept\u001b[0m \u001b[0mKeyboardInterrupt\u001b[0m\u001b[0;34m:\u001b[0m\u001b[0;34m\u001b[0m\u001b[0;34m\u001b[0m\u001b[0m\n\u001b[1;32m    733\u001b[0m                 \u001b[0;31m# re-raise KeyboardInterrupt, to truncate traceback\u001b[0m\u001b[0;34m\u001b[0m\u001b[0;34m\u001b[0m\u001b[0;34m\u001b[0m\u001b[0m\n\u001b[0;32m--> 734\u001b[0;31m                 \u001b[0;32mraise\u001b[0m \u001b[0mKeyboardInterrupt\u001b[0m\u001b[0;34m\u001b[0m\u001b[0;34m\u001b[0m\u001b[0m\n\u001b[0m\u001b[1;32m    735\u001b[0m             \u001b[0;32melse\u001b[0m\u001b[0;34m:\u001b[0m\u001b[0;34m\u001b[0m\u001b[0;34m\u001b[0m\u001b[0m\n\u001b[1;32m    736\u001b[0m                 \u001b[0;32mbreak\u001b[0m\u001b[0;34m\u001b[0m\u001b[0;34m\u001b[0m\u001b[0m\n",
            "\u001b[0;31mKeyboardInterrupt\u001b[0m: "
          ]
        }
      ]
    },
    {
      "cell_type": "markdown",
      "metadata": {
        "id": "0KNAewDH2skz"
      },
      "source": [
        "##問題3　○"
      ]
    },
    {
      "cell_type": "code",
      "metadata": {
        "id": "yWRkISoy2wY4"
      },
      "source": [
        "num = int(input('好きな整数を入力してください　> '))\n",
        "print(f'{num}の二乗値 : {num**2}')"
      ],
      "execution_count": null,
      "outputs": []
    },
    {
      "cell_type": "markdown",
      "metadata": {
        "id": "4J7YxWdX2xi6"
      },
      "source": [
        "##問題4　○"
      ]
    },
    {
      "cell_type": "code",
      "metadata": {
        "id": "AqZBMMo0230e"
      },
      "source": [
        "for i in range(1, 31):\n",
        "    print(i)"
      ],
      "execution_count": null,
      "outputs": []
    },
    {
      "cell_type": "markdown",
      "metadata": {
        "id": "I-emR3Tc24UH"
      },
      "source": [
        "##問題5　○"
      ]
    },
    {
      "cell_type": "code",
      "metadata": {
        "id": "VMAg7VlQ26Ku"
      },
      "source": [
        "i = 0\n",
        "while i < 30:\n",
        "    i += 1\n",
        "    print(i)"
      ],
      "execution_count": null,
      "outputs": []
    },
    {
      "cell_type": "markdown",
      "metadata": {
        "id": "niF6fydM26dX"
      },
      "source": [
        "##問題6　○"
      ]
    },
    {
      "cell_type": "code",
      "metadata": {
        "id": "TVfKJQ-F25LS"
      },
      "source": [
        "for i in range(1, 31):\n",
        "    if i % 3 == 0:\n",
        "        print(i)"
      ],
      "execution_count": null,
      "outputs": []
    },
    {
      "cell_type": "markdown",
      "metadata": {
        "id": "xiAoG0B32-PE"
      },
      "source": [
        "##問題7　○"
      ]
    },
    {
      "cell_type": "code",
      "metadata": {
        "id": "0-pqXtGt2_8P"
      },
      "source": [
        "for i in range(1, 31):\n",
        "    if i % 15 == 0:\n",
        "        print('fizzbuzz')\n",
        "    elif i % 3 == 0:\n",
        "        print('fizz')\n",
        "    elif i % 5 == 0:\n",
        "        print('buzz')\n",
        "    else:\n",
        "        print(i)"
      ],
      "execution_count": null,
      "outputs": []
    },
    {
      "cell_type": "markdown",
      "metadata": {
        "id": "vuTMe6Oc3Anv"
      },
      "source": [
        "##問題8　○"
      ]
    },
    {
      "cell_type": "code",
      "metadata": {
        "id": "goBua2ap2944"
      },
      "source": [
        "l = []\n",
        "for i in range(1, 31):\n",
        "    if i % 3 == 0:\n",
        "        l.append(i)\n",
        "print(f'作成したリスト　：　{l}')"
      ],
      "execution_count": null,
      "outputs": []
    },
    {
      "cell_type": "markdown",
      "metadata": {
        "id": "Nvo3272k3DAr"
      },
      "source": [
        "##問題9　×"
      ]
    },
    {
      "cell_type": "code",
      "metadata": {
        "id": "Ij_kmSk83DyF"
      },
      "source": [
        "d = {}\n",
        "for i in range(1, 31):\n",
        "    if i % 3 == 0:\n",
        "        index = f'{i // 3}番目'\n",
        "        d[index] = i\n",
        "print(f'作成したリスト　：　{d}')\n"
      ],
      "execution_count": null,
      "outputs": []
    },
    {
      "cell_type": "markdown",
      "metadata": {
        "id": "foDTyc6P3EW7"
      },
      "source": [
        "##問題10　×"
      ]
    },
    {
      "cell_type": "code",
      "metadata": {
        "id": "EbgxLcC93E7U"
      },
      "source": [
        "'''\n",
        "l = [i for i in range(1, 31) if i % 3 == 0　in 3]\n",
        "print(l)\n",
        "'''\n",
        "l = []\n",
        "for i in range(1, 31):\n",
        "    if i % 3 == 0 and '3' in str(i):\n",
        "        l.append(i)\n",
        "print(f'作成したリスト　：　{l}')"
      ],
      "execution_count": null,
      "outputs": []
    },
    {
      "cell_type": "markdown",
      "metadata": {
        "id": "74S0fft3CGgQ"
      },
      "source": [
        "##問題11　○"
      ]
    },
    {
      "cell_type": "code",
      "metadata": {
        "id": "_O57oUshCHl4"
      },
      "source": [
        "weight = 60\n",
        "height = 170\n",
        "height2 = height / 100\n",
        "bmi = weight / (height2 ** 2)\n",
        "print(f'bmi = {bmi}')"
      ],
      "execution_count": null,
      "outputs": []
    },
    {
      "cell_type": "markdown",
      "metadata": {
        "id": "LHCKoIitCIGR"
      },
      "source": [
        "##問題12　○"
      ]
    },
    {
      "cell_type": "code",
      "metadata": {
        "id": "vU12AdrVCIwm"
      },
      "source": [
        "height = float(input('身長を入力してください（cm） >'))\n",
        "weight = float(input('体重を入力してください（kg） >'))\n",
        "\n",
        "height2 = height / 100\n",
        "bmi = weight / (height2 ** 2)\n",
        "print(f'bmi = {bmi}')"
      ],
      "execution_count": null,
      "outputs": []
    },
    {
      "cell_type": "markdown",
      "metadata": {
        "id": "QjxPcgPHCJNN"
      },
      "source": [
        "##問題13　○"
      ]
    },
    {
      "cell_type": "code",
      "metadata": {
        "id": "a438QvViCMzx"
      },
      "source": [
        "speed_hr = float(input('時速（km/h）を入力してください　> '))\n",
        "speed_s = speed_hr * 1000 / 3600\n",
        "\n",
        "print(f'秒速 = {speed_s} m/s')"
      ],
      "execution_count": null,
      "outputs": []
    },
    {
      "cell_type": "markdown",
      "metadata": {
        "id": "CqDuaw4QCNaD"
      },
      "source": [
        "##問題14　○"
      ]
    },
    {
      "cell_type": "code",
      "metadata": {
        "id": "UpKQbV2eCOJn"
      },
      "source": [
        "num = int(input('整数を入力してください > '))\n",
        "\n",
        "x = str(num) * 3\n",
        "y = int(x)\n",
        "z = num + y\n",
        "print(f'計算結果 : {z}')\n",
        "\n",
        "#別解\n",
        "a = input('整数を入力してください　> ')\n",
        "x = int(a)\n",
        "y = int(a * 3)\n",
        "print(f'計算結果 : {x + y}')"
      ],
      "execution_count": null,
      "outputs": []
    },
    {
      "cell_type": "markdown",
      "metadata": {
        "id": "kw0HiFXyCOjD"
      },
      "source": [
        "##問題15　○"
      ]
    },
    {
      "cell_type": "code",
      "metadata": {
        "id": "5BPwcu3fCPQs"
      },
      "source": [
        "a = int(input('１つ目の整数を入力してください > '))\n",
        "b = int(input('2つ目の整数を入力してください > '))\n",
        "\n",
        "c = a - b\n",
        "if c < 0:\n",
        "    c *= -1\n",
        "else:\n",
        "    c\n",
        "print(f'計算結果　：　　{c}')"
      ],
      "execution_count": null,
      "outputs": []
    },
    {
      "cell_type": "markdown",
      "metadata": {
        "id": "oOSPRpmlCPyK"
      },
      "source": [
        "##問題16 ○\n"
      ]
    },
    {
      "cell_type": "code",
      "metadata": {
        "id": "5NiN8B0aCTIm"
      },
      "source": [
        "moji = input('文字を入力してください > ')\n",
        "\n",
        "count = 0\n",
        "for i in moji:\n",
        "    count += 1\n",
        "print(f'{moji}の文字数 : {count}')"
      ],
      "execution_count": null,
      "outputs": []
    },
    {
      "cell_type": "markdown",
      "metadata": {
        "id": "BABTqlksCToi"
      },
      "source": [
        "##問題17 ○"
      ]
    },
    {
      "cell_type": "code",
      "metadata": {
        "id": "dMdojHwjCUWQ"
      },
      "source": [
        "moji2 = input('文字を入力してください > ')\n",
        "print(f'{moji}の最初の文字 : {moji[0]}')\n",
        "print(f'{moji}の最後の文字 : {moji[-1]}')"
      ],
      "execution_count": null,
      "outputs": []
    },
    {
      "cell_type": "markdown",
      "metadata": {
        "id": "oAB6ACzZCU6u"
      },
      "source": [
        "##問題18 ×"
      ]
    },
    {
      "cell_type": "code",
      "metadata": {
        "id": "SaRKVqkGCV5U"
      },
      "source": [
        "'''\n",
        "moji3 = input('文字列を入力してください > ') \n",
        "l = {}\n",
        "i = 0\n",
        "for i in moji3:\n",
        "    l = moji3.count(len(moji3))\n",
        "    print(l)\n",
        "    i += 1\n",
        "'''\n",
        "#解答\n",
        "moji = input('文字列を入力してください')\n",
        "\n",
        "d = {}\n",
        "for i in moji:\n",
        "    if i in d.keys():\n",
        "        d[i] += 1\n",
        "    else:\n",
        "        d[i] = 1\n",
        "print(d)"
      ],
      "execution_count": null,
      "outputs": []
    },
    {
      "cell_type": "markdown",
      "metadata": {
        "id": "Bzs2H7tRCWVC"
      },
      "source": [
        "##問題19 ×"
      ]
    },
    {
      "cell_type": "code",
      "metadata": {
        "id": "DXOZdz4OCW-T"
      },
      "source": [
        "'''\n",
        "moji4 = input('文字列を入力してください > ')\n",
        "moji4.strip('aiueo')\n",
        "'''\n",
        "#解答\n",
        "voweles = ['a','i','u','e','o']\n",
        "\n",
        "moji = input('文字列を入力してください')\n",
        "new_moji = ' '\n",
        "for i in moji:\n",
        "    if i in voweles:\n",
        "        continue\n",
        "    new_moji += i\n",
        "\n",
        "print(f'作成した文字列 : {new_moji}')\n"
      ],
      "execution_count": null,
      "outputs": []
    },
    {
      "cell_type": "markdown",
      "metadata": {
        "id": "ClOpaXl_CXVA"
      },
      "source": [
        "###問題20 ○"
      ]
    },
    {
      "cell_type": "code",
      "metadata": {
        "id": "cdbapcmMCYA_"
      },
      "source": [
        "'''\n",
        "moji5 =  input('文字列を入力してください > ')\n",
        "print(f'変換後の文字列 : {str.upper(moji5)}')\n",
        "'''\n",
        "#別解\n",
        "moji = input('文字列を入力してください >')\n",
        "moji = moji.upper()\n",
        "print(f'変換後の文字列 : {moji}')"
      ],
      "execution_count": null,
      "outputs": []
    },
    {
      "cell_type": "markdown",
      "metadata": {
        "id": "QBbqgdoJCYsn"
      },
      "source": [
        "###問題21 ○\n",
        "\n"
      ]
    },
    {
      "cell_type": "code",
      "metadata": {
        "id": "mgTFyRDeL3U4"
      },
      "source": [
        "\n",
        "moji6 =  input('文字列を入力してください > ')\n",
        "result = moji6.istitle()\n",
        "if result == False:\n",
        "    print(f'変換後の文字列 : {moji6.capitalize()}')\n",
        "else:\n",
        "    print(f'変換後の文字列 : {moji6 * 2}')\n",
        "    \n",
        "'''\n",
        "#別解\n",
        "moji = input('文字列を入力してください')\n",
        "\n",
        "if moji[0].islower():\n",
        "    moji = moji[0].upper() + moji[1:]\n",
        "elif moji[0].isupper():\n",
        "    moji = moji * 2\n",
        "\n",
        "print(f'変換後の文字列 : {moji}')\n",
        "'''"
      ],
      "execution_count": null,
      "outputs": []
    },
    {
      "cell_type": "markdown",
      "metadata": {
        "id": "Z0CTsqvBL4El"
      },
      "source": [
        "###問題22 ×"
      ]
    },
    {
      "cell_type": "code",
      "metadata": {
        "id": "iHSEqSXVL4-S"
      },
      "source": [
        "'''\n",
        "moji7 =  [input('１つ目の文字列を入力してください > ')]\n",
        "moji8 =  [input('２つ目の文字列を入力してください > ')]\n",
        "\n",
        "print(f'重複する文字列 : {}')\n",
        "\n",
        "'''\n",
        "#別解\n",
        "word1 = input('1つ目の文字列を入力してください > ')\n",
        "word2 = input('2つ目の文字列を入力してください > ')\n",
        "\n",
        "r = ''\n",
        "for ch in word1:\n",
        "    if ch in word2 and not ch in r:\n",
        "        r += ch\n",
        "\n",
        "print(f'重複する文字列 : {r}')"
      ],
      "execution_count": null,
      "outputs": []
    },
    {
      "cell_type": "markdown",
      "metadata": {
        "id": "zda6SScKL5eZ"
      },
      "source": [
        "###問題23 ×"
      ]
    },
    {
      "cell_type": "code",
      "metadata": {
        "id": "WuZ4FIG2L6UJ"
      },
      "source": [
        "'''\n",
        "moji9 =  input('１つ目の英文を入力してください > ')\n",
        "moji10 =  input('２つ目の英文を入力してください > ')\n",
        "\n",
        "result = []\n",
        "result = moji9 & moji10\n",
        "print(f'重複する英単語 : {result}')\n",
        "\n",
        "'''\n",
        "#解答\n",
        "sentence1 = input('1つ目の英文を入力してください > ')\n",
        "sentence2 = input('2つ目の英文を入力してください > ')\n",
        "\n",
        "sentence1 = sentence1.split()\n",
        "sentence2 = sentence2.split()\n",
        "\n",
        "r = []\n",
        "for word in sentence1:\n",
        "    if word in sentence2 and not word in r:\n",
        "        r.append(word)\n",
        "\n",
        "print(f'重複する英単語 : {r}')"
      ],
      "execution_count": null,
      "outputs": []
    },
    {
      "cell_type": "markdown",
      "metadata": {
        "id": "QJxEoGbcL6u4"
      },
      "source": [
        "###問題24 ×"
      ]
    },
    {
      "cell_type": "code",
      "metadata": {
        "id": "Nw1gm6_xL7dc"
      },
      "source": [
        "#解答\n",
        "word = input('英単語を入力してください > ')\n",
        "count = 0\n",
        "\n",
        "for _ in word:\n",
        "    count += 1\n",
        "\n",
        "index = count // 2\n",
        "\n",
        "if count % 2 == 0:\n",
        "    word = word[:index] + '@' + word[index:]\n",
        "else:\n",
        "    word = word[:index] + '@' + word[index+1:]\n",
        "\n",
        "print(f'変換した英単語 : {word}')"
      ],
      "execution_count": null,
      "outputs": []
    },
    {
      "cell_type": "markdown",
      "metadata": {
        "id": "vb_kAzoDL74j"
      },
      "source": [
        "###問題25 ×"
      ]
    },
    {
      "cell_type": "code",
      "metadata": {
        "id": "whbzyQQGL8x8"
      },
      "source": [
        "#解答\n",
        "word1 = input('1つ目の英単語を入力してください > ')\n",
        "word2 = input('2つ目の英単語を入力してください > ')\n",
        "word3 = input('3つ目の英単語を入力してください > ')\n",
        "\n",
        "words = [word1, word2, word3]\n",
        "\n",
        "words.sort()\n",
        "sord_words = ', '.join(words)\n",
        "print(f'並び替えた英単語 : {sord_words}')"
      ],
      "execution_count": null,
      "outputs": []
    },
    {
      "cell_type": "markdown",
      "metadata": {
        "id": "zQhbkBrUJl07"
      },
      "source": [
        "## 問題26 ○"
      ]
    },
    {
      "cell_type": "code",
      "metadata": {
        "id": "jP4eW6Qo2aKD",
        "colab": {
          "base_uri": "https://localhost:8080/"
        },
        "outputId": "f6fbe38b-a6af-4bc1-bab0-5547c84c6c2f"
      },
      "source": [
        "l = [1, 2, 3, 4, 5]\n",
        "\n",
        "num = 0\n",
        "for i in l:\n",
        "    num += i\n",
        "print(f'リスト内の合計 : {num}')"
      ],
      "execution_count": null,
      "outputs": [
        {
          "output_type": "stream",
          "text": [
            "リスト内の合計 : 15\n"
          ],
          "name": "stdout"
        }
      ]
    },
    {
      "cell_type": "markdown",
      "metadata": {
        "id": "uMKm55fyJpt5"
      },
      "source": [
        "## 問題27 ○"
      ]
    },
    {
      "cell_type": "code",
      "metadata": {
        "id": "Q9CWRYZTJq3_",
        "colab": {
          "base_uri": "https://localhost:8080/"
        },
        "outputId": "dff88ec0-dddf-4b6e-9177-7fc6125e28b0"
      },
      "source": [
        "l = [1, 2, 3, 4, 5]\n",
        "\n",
        "num = sum(l)\n",
        "print(f'リスト内の合計 : {num}')"
      ],
      "execution_count": null,
      "outputs": [
        {
          "output_type": "stream",
          "text": [
            "リスト内の合計 : 15\n"
          ],
          "name": "stdout"
        }
      ]
    },
    {
      "cell_type": "markdown",
      "metadata": {
        "id": "8NfkvW1AJr-L"
      },
      "source": [
        "## 問題28 ○"
      ]
    },
    {
      "cell_type": "code",
      "metadata": {
        "id": "OOywQdMpJsq5",
        "colab": {
          "base_uri": "https://localhost:8080/"
        },
        "outputId": "0b087cf9-36c1-41d7-909b-fb07f837882a"
      },
      "source": [
        "l = [1, 5, 3, 4, 2]\n",
        "\n",
        "num_max = 0\n",
        "for num in l:\n",
        "    if num_max > num:\n",
        "        continue\n",
        "    else:\n",
        "        num_max = num\n",
        "print(f'リスト内の最大値 : {num_max}')\n",
        "\n",
        "#別解\n",
        "l = [1, 5, 3, 2, 4]\n",
        "max_value = l[0]\n",
        "\n",
        "for i in l:\n",
        "    if i > max_value:\n",
        "        max_value = i\n",
        "\n",
        "print(f'リスト内の最大値 : {max_value}')"
      ],
      "execution_count": null,
      "outputs": [
        {
          "output_type": "stream",
          "text": [
            "リスト内の最大値 : 5\n",
            "リスト内の最大値 : 5\n"
          ],
          "name": "stdout"
        }
      ]
    },
    {
      "cell_type": "markdown",
      "metadata": {
        "id": "mB9KHuW7Jtg5"
      },
      "source": [
        "## 問題29 ○"
      ]
    },
    {
      "cell_type": "code",
      "metadata": {
        "id": "SaNoEQk2Juvv",
        "colab": {
          "base_uri": "https://localhost:8080/"
        },
        "outputId": "e6b4514d-ef9a-4b4a-d578-ff0f5801c3fc"
      },
      "source": [
        "l = [1, 5, 3, 4, 2]\n",
        "\n",
        "num_max = max(l)\n",
        "print(f'リスト内の最大値 : {num_max}')"
      ],
      "execution_count": null,
      "outputs": [
        {
          "output_type": "stream",
          "text": [
            "リスト内の最大値 : 5\n"
          ],
          "name": "stdout"
        }
      ]
    },
    {
      "cell_type": "markdown",
      "metadata": {
        "id": "lUYfb4LKJvV6"
      },
      "source": [
        "## 問題30 ○"
      ]
    },
    {
      "cell_type": "code",
      "metadata": {
        "id": "haMuRWZKJv5V",
        "colab": {
          "base_uri": "https://localhost:8080/"
        },
        "outputId": "98d3099a-2c17-4e50-c239-1a10e00f152f"
      },
      "source": [
        "l = [1, 2, 2, 3, 3, 4, 5]\n",
        "\n",
        "l_set = set(l)\n",
        "print(f'重複削除したリスト : {l_set}')"
      ],
      "execution_count": null,
      "outputs": [
        {
          "output_type": "stream",
          "text": [
            "重複削除したリスト : {1, 2, 3, 4, 5}\n"
          ],
          "name": "stdout"
        }
      ]
    },
    {
      "cell_type": "markdown",
      "metadata": {
        "id": "DdVoQkdJJweo"
      },
      "source": [
        "## 問題31 ×"
      ]
    },
    {
      "cell_type": "code",
      "metadata": {
        "id": "GlmecUgLJw-O",
        "colab": {
          "base_uri": "https://localhost:8080/",
          "height": 89
        },
        "outputId": "c140d8ef-cde8-4f95-ee18-7045a1ac8396"
      },
      "source": [
        "l = ['Python', 'Ruby', 'PHP', 'JavaScript']\n",
        "\n",
        "#解答\n",
        "min_length_w, min_length = l[0], len(l[0])\n",
        "\n",
        "for w in l:\n",
        "    if len(w) < min_length:\n",
        "        min_length_w = w\n",
        "        min_length = len(w)\n",
        "print(f'一番短い単語 : {min_length_w}')\n"
      ],
      "execution_count": null,
      "outputs": [
        {
          "output_type": "stream",
          "text": [
            "Python\n",
            "6\n"
          ],
          "name": "stdout"
        },
        {
          "output_type": "execute_result",
          "data": {
            "application/vnd.google.colaboratory.intrinsic+json": {
              "type": "string"
            },
            "text/plain": [
              "\"\\nfor w in l:\\n    if len(w) < min_length:\\n        min_length_w = w\\n        min_length = len(w)\\nprint(f'一番短い単語 : {min_length_w}')\\n\""
            ]
          },
          "metadata": {
            "tags": []
          },
          "execution_count": 135
        }
      ]
    },
    {
      "cell_type": "markdown",
      "metadata": {
        "id": "AM-tgAMRJxgX"
      },
      "source": [
        "## 問題32 ×"
      ]
    },
    {
      "cell_type": "code",
      "metadata": {
        "id": "1hjO7ti4JyDA",
        "colab": {
          "base_uri": "https://localhost:8080/"
        },
        "outputId": "5e859d1f-aff5-4977-8f0e-59b6044097ec"
      },
      "source": [
        "l = ['Python', 'Ruby', 'PHP', 'JavaScript']\n",
        "\n",
        "#解答\n",
        "sorted_l = sorted(l, key=len)\n",
        "print(f'短い順に並び替えたリスト : {sorted_l}')"
      ],
      "execution_count": null,
      "outputs": [
        {
          "output_type": "stream",
          "text": [
            "短い順に並び替えたリスト : ['PHP', 'Ruby', 'Python', 'JavaScript']\n"
          ],
          "name": "stdout"
        }
      ]
    },
    {
      "cell_type": "markdown",
      "metadata": {
        "id": "wXX6bp0qJy6E"
      },
      "source": [
        "## 問題33 ×"
      ]
    },
    {
      "cell_type": "code",
      "metadata": {
        "id": "ldbXZ5ajJzYw",
        "colab": {
          "base_uri": "https://localhost:8080/"
        },
        "outputId": "532a3aa9-5610-4853-bd50-ff18920b3a08"
      },
      "source": [
        "#解答\n",
        "l1 = ['Python', 'Ruby', 'PHP', 'JavaScript']\n",
        "l2 = ['Java', 'Ruby', 'Golang', 'Python', 'TypeScript']\n",
        "\n",
        "new_l = []\n",
        "for word1 in l1:\n",
        "    for word2 in l2:\n",
        "        if word1 == word2 and word1 not in new_l:\n",
        "            new_l.append(word1)\n",
        "\n",
        "print(f'共通する値を格納したリスト : {new_l}')"
      ],
      "execution_count": null,
      "outputs": [
        {
          "output_type": "stream",
          "text": [
            "共通する値を格納したリスト : ['Python', 'Ruby']\n"
          ],
          "name": "stdout"
        }
      ]
    },
    {
      "cell_type": "markdown",
      "metadata": {
        "id": "sQIEev8KJzxW"
      },
      "source": [
        "## 問題34 ×"
      ]
    },
    {
      "cell_type": "code",
      "metadata": {
        "id": "yBS2wNRkJ0P8",
        "colab": {
          "base_uri": "https://localhost:8080/"
        },
        "outputId": "4fd20d7c-71cd-477b-a7c0-f0927bbbbc18"
      },
      "source": [
        "l = ['1', 2, '3', 4, '5', 6, '7', 8, '9', 10]\n",
        "\n",
        "#解答\n",
        "print(f'偶数のインデックス番号 : {l[::2]}')"
      ],
      "execution_count": null,
      "outputs": [
        {
          "output_type": "stream",
          "text": [
            "偶数のインデックス番号 : ['1', '3', '5', '7', '9']\n"
          ],
          "name": "stdout"
        }
      ]
    },
    {
      "cell_type": "markdown",
      "metadata": {
        "id": "_TJ9MQhcJ0sa"
      },
      "source": [
        "## 問題35 ×"
      ]
    },
    {
      "cell_type": "code",
      "metadata": {
        "id": "ZzRzT9NhJ1Y5",
        "colab": {
          "base_uri": "https://localhost:8080/"
        },
        "outputId": "ae86ea83-2b76-4efa-bcd3-0561863a228a"
      },
      "source": [
        "l = ['1', 2, '3', 4.0, '5', 6, '7', 8.0, '9', 10]\n",
        "\n",
        "#解答\n",
        "new_l = []\n",
        "for v in l:\n",
        "    if isinstance(v, int):\n",
        "        new_l.append(v)\n",
        "print(f'整数型に絞り込んだリスト : {new_l}')"
      ],
      "execution_count": null,
      "outputs": [
        {
          "output_type": "stream",
          "text": [
            "整数型に絞り込んだリスト : [2, 6, 10]\n"
          ],
          "name": "stdout"
        }
      ]
    },
    {
      "cell_type": "markdown",
      "metadata": {
        "id": "rPmwv9a3J2C-"
      },
      "source": [
        "## 問題36 ×"
      ]
    },
    {
      "cell_type": "code",
      "metadata": {
        "id": "WpKoD03yJ2m2",
        "colab": {
          "base_uri": "https://localhost:8080/"
        },
        "outputId": "34e76331-a912-484a-e80f-f1665bfd3832"
      },
      "source": [
        "#解答\n",
        "l = [[5*i + j for j in range(1, 6)] for i in range(2)]\n",
        "print(f'作成したリスト : {l}')\n"
      ],
      "execution_count": null,
      "outputs": [
        {
          "output_type": "stream",
          "text": [
            "作成したリスト : [[1, 2, 3, 4, 5], [6, 7, 8, 9, 10]]\n"
          ],
          "name": "stdout"
        }
      ]
    },
    {
      "cell_type": "markdown",
      "metadata": {
        "id": "AREKpNaCJ2_R"
      },
      "source": [
        "## 問題37 ×"
      ]
    },
    {
      "cell_type": "code",
      "metadata": {
        "id": "92mWIeCIJ3ia",
        "colab": {
          "base_uri": "https://localhost:8080/"
        },
        "outputId": "f706ab43-34ed-4c4d-b5fc-21a45c9b3f62"
      },
      "source": [
        "#解答\n",
        "l=[[1,2,3,4,5],[6,7,8,9,10]]\n",
        "new_l = [i for row in l for i in row]\n",
        "print(f'一次元にしたリスト : {new_l}')"
      ],
      "execution_count": null,
      "outputs": [
        {
          "output_type": "stream",
          "text": [
            "一次元にしたリスト : [1, 2, 3, 4, 5, 6, 7, 8, 9, 10]\n"
          ],
          "name": "stdout"
        }
      ]
    },
    {
      "cell_type": "markdown",
      "metadata": {
        "id": "16HepP-wJ39y"
      },
      "source": [
        "## 問題38 ○"
      ]
    },
    {
      "cell_type": "code",
      "metadata": {
        "id": "s9sTkQ0BJ4c7",
        "colab": {
          "base_uri": "https://localhost:8080/"
        },
        "outputId": "dc0ae548-0864-494a-ec93-c5ce53f49efa"
      },
      "source": [
        "#l = [1, 2, 3]\n",
        "l = []\n",
        "if not l:\n",
        "    print('入力されたリストは空でした。')\n",
        "else:\n",
        "    print(f'入力されたリスト : {l}')\n",
        "\n",
        "#別解\n",
        "l = []\n",
        "if l:\n",
        "    print(f'入力されたリスト : {l}')\n",
        "else:\n",
        "    print(f'入力されたリストは空でした。')"
      ],
      "execution_count": null,
      "outputs": [
        {
          "output_type": "stream",
          "text": [
            "入力されたリストは空でした。\n"
          ],
          "name": "stdout"
        }
      ]
    },
    {
      "cell_type": "markdown",
      "metadata": {
        "id": "A-E3HhVHJ5HX"
      },
      "source": [
        "## 問題39 ×"
      ]
    },
    {
      "cell_type": "code",
      "metadata": {
        "id": "lSm6qrUwJ5rG",
        "colab": {
          "base_uri": "https://localhost:8080/"
        },
        "outputId": "48f5504c-52bf-47fc-c1d8-d911b0735e0a"
      },
      "source": [
        "#解答\n",
        "l1 = [1 ,2 ,3, 4, 5]\n",
        "l2 = [10, 9, 8, 7, 6]\n",
        "\n",
        "l3 = [i * j for i, j in zip(l1, l2)]\n",
        "print(f'掛け算を計算した結果 : {l3}')"
      ],
      "execution_count": null,
      "outputs": [
        {
          "output_type": "stream",
          "text": [
            "掛け算を計算した結果 : [10, 18, 24, 28, 30]\n"
          ],
          "name": "stdout"
        }
      ]
    },
    {
      "cell_type": "markdown",
      "metadata": {
        "id": "6jLrKgiFJ6Jp"
      },
      "source": [
        "## 問題40 ○"
      ]
    },
    {
      "cell_type": "code",
      "metadata": {
        "colab": {
          "base_uri": "https://localhost:8080/"
        },
        "id": "sG7pdt4mmGd0",
        "outputId": "7e3409aa-2f99-40d2-97d9-883985e66ca2"
      },
      "source": [
        "l = [1, '22', 3, '444', 0.0, '5']\n",
        "new_l = [i for i in l if isinstance(i, int)]\n",
        "print(f'最小値 : {min(new_l)}')\n",
        "print(f'最大値 : {max(new_l)}')"
      ],
      "execution_count": null,
      "outputs": [
        {
          "output_type": "stream",
          "text": [
            "最小値 : 1\n",
            "最大値 : 3\n"
          ],
          "name": "stdout"
        }
      ]
    },
    {
      "cell_type": "markdown",
      "metadata": {
        "id": "XDbYyYAZJ7Uv"
      },
      "source": [
        "## 問題41 ×"
      ]
    },
    {
      "cell_type": "code",
      "metadata": {
        "id": "N55awveWJ7v1",
        "colab": {
          "base_uri": "https://localhost:8080/"
        },
        "outputId": "8e99c2d7-a9d0-4751-9f49-fa51d06dd90d"
      },
      "source": [
        "#解答\n",
        "l = [0, '1', 3, 2, '4', 5, '7']\n",
        "new_l = [v for i, v in enumerate(l) if i == int(v)]\n",
        "print(f'インデックスと値が一致 : {new_l}')"
      ],
      "execution_count": null,
      "outputs": [
        {
          "output_type": "stream",
          "text": [
            "インデックスと値が一致 : [0, '1', '4', 5]\n"
          ],
          "name": "stdout"
        }
      ]
    },
    {
      "cell_type": "markdown",
      "metadata": {
        "id": "i6aUYjixJ8L8"
      },
      "source": [
        "## 問題42 ×"
      ]
    },
    {
      "cell_type": "code",
      "metadata": {
        "id": "IH9Grp5hJ8mf",
        "colab": {
          "base_uri": "https://localhost:8080/"
        },
        "outputId": "f537f10a-0de4-4eb3-e4b7-6896dc718b28"
      },
      "source": [
        "#解答\n",
        "l = [1, 2, 3, 3]\n",
        "#l = [1, 2, 3]\n",
        "if len(set(l)) < len(l):\n",
        "    print('重複している値があります。')\n",
        "else:\n",
        "    print('重複する値がありません。')"
      ],
      "execution_count": null,
      "outputs": [
        {
          "output_type": "stream",
          "text": [
            "重複している値があります。\n"
          ],
          "name": "stdout"
        }
      ]
    },
    {
      "cell_type": "markdown",
      "metadata": {
        "id": "X-kkZTfnJ-Nv"
      },
      "source": [
        "## 問題43 ×"
      ]
    },
    {
      "cell_type": "code",
      "metadata": {
        "id": "rcd_8WehJ-qW",
        "colab": {
          "base_uri": "https://localhost:8080/"
        },
        "outputId": "c1cebf5a-d8b6-4a5a-e6ba-0f22dd671ffb"
      },
      "source": [
        "#解答\n",
        "l=[1,'aaa',2,'bbb','ccc',3,'ddd',4]\n",
        "int_l = sorted([i for i in l if isinstance(i, int)])\n",
        "str_l = sorted([i for i in l if isinstance(i, str)])\n",
        "print(f'ソートしたリスト : {int_l + str_l}')"
      ],
      "execution_count": null,
      "outputs": [
        {
          "output_type": "stream",
          "text": [
            "ソートしたリスト : [1, 2, 3, 4, 'aaa', 'bbb', 'ccc', 'ddd']\n"
          ],
          "name": "stdout"
        }
      ]
    },
    {
      "cell_type": "markdown",
      "metadata": {
        "id": "HQlgvgtbJ-_-"
      },
      "source": [
        "##問題44 ×"
      ]
    },
    {
      "cell_type": "code",
      "metadata": {
        "id": "VNZPIjsAJ_bI",
        "colab": {
          "base_uri": "https://localhost:8080/"
        },
        "outputId": "6369f080-bede-47b7-b5fb-bc663b5e9f0a"
      },
      "source": [
        "'''\n",
        "l = [1, 2, 3, '4', 5]\n",
        "#l = [1, 2, 3, 4, 5]\n",
        "\n",
        "for i in l if isinstance(i, str):\n",
        "    print('文字列が入っています')\n",
        "else:\n",
        "    print('文字列は入っていません')\n",
        "'''\n",
        "#解答\n",
        "l = [1, 2, 3, '4', 5]\n",
        "#l = [1, 2, 3, 4, 5]\n",
        "\n",
        "if any([v for v in l if isinstance(v, str)]):\n",
        "    print('文字列が入っています')\n",
        "else:\n",
        "    print('文字列は入っていません')"
      ],
      "execution_count": null,
      "outputs": [
        {
          "output_type": "stream",
          "text": [
            "文字列が入っています\n"
          ],
          "name": "stdout"
        }
      ]
    },
    {
      "cell_type": "markdown",
      "metadata": {
        "id": "l8EEzvgmJ_xL"
      },
      "source": [
        "## 問題45 ×"
      ]
    },
    {
      "cell_type": "code",
      "metadata": {
        "id": "bluNGqCOKAKA",
        "colab": {
          "base_uri": "https://localhost:8080/"
        },
        "outputId": "545ebb2c-02db-42e5-8432-e2369eb46870"
      },
      "source": [
        "#解答\n",
        "l = [1, 2, 3, 4, 5]\n",
        "for i in range(0, 10, 2):\n",
        "    l.insert(i, 'list')\n",
        "print(f'\"list\"を追加したリスト : {l}')"
      ],
      "execution_count": null,
      "outputs": [
        {
          "output_type": "stream",
          "text": [
            "\"list\"を追加したリスト : ['list', 1, 'list', 2, 'list', 3, 'list', 4, 'list', 5]\n"
          ],
          "name": "stdout"
        }
      ]
    },
    {
      "cell_type": "markdown",
      "metadata": {
        "id": "HO8tcLyGKAgU"
      },
      "source": [
        "## 問題46 ×"
      ]
    },
    {
      "cell_type": "code",
      "metadata": {
        "id": "C2PB4tMwKBAD",
        "colab": {
          "base_uri": "https://localhost:8080/"
        },
        "outputId": "686a8826-4580-4aef-f1fe-8b257d9b0bfe"
      },
      "source": [
        "'''\n",
        "l=['Python1','Java1',1,'Python2','Java2',2]\n",
        "new_l = []\n",
        "for i in l:\n",
        "    if 'Python' in i:\n",
        "        continue\n",
        "    else:\n",
        "        new_l.append(i)\n",
        "'''\n",
        "        \n",
        "#解答\n",
        "l = ['Python1', 'Java1', 1, 'Python2', 'Java2', 2]\n",
        "for v in l:\n",
        "    if 'Python' in str(v):\n",
        "        l.remove(v)\n",
        "print(f'文字列\"Python\"を削除したリスト : {l}')"
      ],
      "execution_count": 12,
      "outputs": [
        {
          "output_type": "stream",
          "text": [
            "文字列\"Python\"を削除したリスト : ['Java1', 1, 'Java2', 2]\n"
          ],
          "name": "stdout"
        }
      ]
    },
    {
      "cell_type": "markdown",
      "metadata": {
        "id": "3y0F5v7aKBl7"
      },
      "source": [
        "## 問題47 ×"
      ]
    },
    {
      "cell_type": "code",
      "metadata": {
        "id": "8S-ZH-btKCB0",
        "colab": {
          "base_uri": "https://localhost:8080/"
        },
        "outputId": "f503d190-9969-4dc6-d44f-7a4b5020b8bf"
      },
      "source": [
        "#解答\n",
        "l = [1, 3, 2, 3, 4, 6, 5, 8, 7]\n",
        "for i, v in enumerate(l):\n",
        "    if i % 3 == 0 and v % 3 == 0:\n",
        "        l.pop(i)\n",
        "print(f'削除後のリスト : {l}')\n"
      ],
      "execution_count": 18,
      "outputs": [
        {
          "output_type": "stream",
          "text": [
            "削除後のリスト : [1, 3, 2, 4, 6, 5, 8, 7]\n"
          ],
          "name": "stdout"
        }
      ]
    },
    {
      "cell_type": "markdown",
      "metadata": {
        "id": "OcDWSsA1KCeG"
      },
      "source": [
        "## 問題48 ×"
      ]
    },
    {
      "cell_type": "code",
      "metadata": {
        "id": "sopEu6N4KC44",
        "colab": {
          "base_uri": "https://localhost:8080/"
        },
        "outputId": "4e69c47e-3cc8-4ecd-f386-9f3dcfd62da0"
      },
      "source": [
        "#解答\n",
        "telephone_numbers = [\n",
        "    '080-1203-4455',\n",
        "    '090-9372-9682',\n",
        "    '090-3080-4982',\n",
        "    '080-3917-5918'\n",
        "]\n",
        "\n",
        "new_l = [s for s in telephone_numbers if '080' == s[:3]]\n",
        "print(f'080で始まる電話番号 : {new_l}')"
      ],
      "execution_count": 16,
      "outputs": [
        {
          "output_type": "stream",
          "text": [
            "080で始まる電話番号 : ['080-1203-4455', '080-3917-5918']\n"
          ],
          "name": "stdout"
        }
      ]
    },
    {
      "cell_type": "markdown",
      "metadata": {
        "id": "YJCNFDOCKDOi"
      },
      "source": [
        "## 問題49 ×"
      ]
    },
    {
      "cell_type": "code",
      "metadata": {
        "id": "f5ofCGpmKECN",
        "colab": {
          "base_uri": "https://localhost:8080/"
        },
        "outputId": "62c5aa82-7d19-4893-ef20-a41b77eb792b"
      },
      "source": [
        "#解答\n",
        "phone_numbers = [\n",
        "    '080-1203-4455',\n",
        "    '090-9372-9682',\n",
        "    '03-9471-5929',\n",
        "    '070-3917-5918',\n",
        "    '04-8572-8910'\n",
        "]\n",
        "\n",
        "new_l = [s for s in phone_numbers if s.find('-') == 3]\n",
        "print(f'携帯電話の番号 : {new_l}')"
      ],
      "execution_count": 15,
      "outputs": [
        {
          "output_type": "stream",
          "text": [
            "携帯電話の番号 : ['080-1203-4455', '090-9372-9682', '070-3917-5918']\n"
          ],
          "name": "stdout"
        }
      ]
    },
    {
      "cell_type": "markdown",
      "metadata": {
        "id": "NgZm1iNnKEpT"
      },
      "source": [
        "## 問題50 ×"
      ]
    },
    {
      "cell_type": "code",
      "metadata": {
        "id": "UhgP-UtvKFEB",
        "colab": {
          "base_uri": "https://localhost:8080/"
        },
        "outputId": "81215eff-937d-4dfb-a442-c9ef80e99eb2"
      },
      "source": [
        "l1=[4,6,9,2]\n",
        "l2=[3, 5, 7]\n",
        "l3=[1, 9, 7]f\n",
        "l = [l1, l2, l3]\n",
        "sorted_l = sorted(l, key=lambda v: sum(v) / len(v), reverse=True)\n",
        "\n",
        "print(f'平均値が最も高いリスト : {sorted_l[0]}')"
      ],
      "execution_count": 19,
      "outputs": [
        {
          "output_type": "stream",
          "text": [
            "平均値が最も高いリスト : [1, 9, 7]\n"
          ],
          "name": "stdout"
        }
      ]
    },
    {
      "cell_type": "code",
      "metadata": {
        "id": "vwody8gQsSRx"
      },
      "source": [
        ""
      ],
      "execution_count": null,
      "outputs": []
    }
  ]
}