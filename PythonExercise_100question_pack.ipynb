{
  "nbformat": 4,
  "nbformat_minor": 0,
  "metadata": {
    "colab": {
      "name": "PythonExercise_100question_pack.ipynb",
      "provenance": [],
      "authorship_tag": "ABX9TyOSYs0ouGq+LH2Ttszliw+R"
    },
    "kernelspec": {
      "name": "python3",
      "display_name": "Python 3"
    },
    "language_info": {
      "name": "python"
    }
  },
  "cells": [
    {
      "cell_type": "markdown",
      "metadata": {
        "id": "e5Qwa9MK2lTx"
      },
      "source": [
        "## 問題1　○"
      ]
    },
    {
      "cell_type": "code",
      "metadata": {
        "colab": {
          "base_uri": "https://localhost:8080/"
        },
        "id": "p1mXyvpk22O3",
        "outputId": "e727291e-50a3-47b4-8455-6baa777b5b0f"
      },
      "source": [
        "x = 7\n",
        "y = 3\n",
        "\n",
        "print(f'{x} + {y} = {x + y}')\n",
        "print(f'{x} - {y} = {x - y}')\n",
        "print(f'{x} × {y} = {x * y}')\n",
        "print(f'{x} ÷ {y} = {x // y} 余り {x % y}')\n",
        "print(f'{x} ÷ {y} = {x / y}')"
      ],
      "execution_count": null,
      "outputs": [
        {
          "output_type": "stream",
          "text": [
            "7 + 3 = 10\n",
            "7 - 3 = 4\n",
            "7 × 3 = 21\n",
            "7 ÷ 3 = 2 余り 1\n",
            "7 ÷ 3 = 2.3333333333333335\n"
          ],
          "name": "stdout"
        }
      ]
    },
    {
      "cell_type": "markdown",
      "metadata": {
        "id": "9ovRKFr22pMB"
      },
      "source": [
        "##問題2　○"
      ]
    },
    {
      "cell_type": "code",
      "metadata": {
        "id": "hXK4bnUw22r2",
        "colab": {
          "base_uri": "https://localhost:8080/"
        },
        "outputId": "42c2bf0e-83bc-47d3-ffbe-ac8b874849b3"
      },
      "source": [
        "msg = input('好きな文字を入力してください >　')\n",
        "print(f'入力された文字　：　{msg}')"
      ],
      "execution_count": null,
      "outputs": [
        {
          "output_type": "stream",
          "text": [
            "好きな文字を入力してください >　Python\n",
            "入力された文字　：　Python\n"
          ],
          "name": "stdout"
        }
      ]
    },
    {
      "cell_type": "markdown",
      "metadata": {
        "id": "0KNAewDH2skz"
      },
      "source": [
        "##問題3　○"
      ]
    },
    {
      "cell_type": "code",
      "metadata": {
        "id": "yWRkISoy2wY4",
        "colab": {
          "base_uri": "https://localhost:8080/"
        },
        "outputId": "a959484c-ed43-40bc-e0cf-3b4a0137380b"
      },
      "source": [
        "num = int(input('好きな整数を入力してください　> '))\n",
        "print(f'{num}の二乗値 : {num**2}')"
      ],
      "execution_count": null,
      "outputs": [
        {
          "output_type": "stream",
          "text": [
            "好きな整数を入力してください　> 3\n",
            "3の二乗値 : 9\n"
          ],
          "name": "stdout"
        }
      ]
    },
    {
      "cell_type": "markdown",
      "metadata": {
        "id": "4J7YxWdX2xi6"
      },
      "source": [
        "##問題4　○"
      ]
    },
    {
      "cell_type": "code",
      "metadata": {
        "id": "AqZBMMo0230e",
        "colab": {
          "base_uri": "https://localhost:8080/"
        },
        "outputId": "22f28dce-a18c-41f5-9576-1c3c370d0307"
      },
      "source": [
        "for i in range(1, 31):\n",
        "    print(i)"
      ],
      "execution_count": null,
      "outputs": [
        {
          "output_type": "stream",
          "text": [
            "1\n",
            "2\n",
            "3\n",
            "4\n",
            "5\n",
            "6\n",
            "7\n",
            "8\n",
            "9\n",
            "10\n",
            "11\n",
            "12\n",
            "13\n",
            "14\n",
            "15\n",
            "16\n",
            "17\n",
            "18\n",
            "19\n",
            "20\n",
            "21\n",
            "22\n",
            "23\n",
            "24\n",
            "25\n",
            "26\n",
            "27\n",
            "28\n",
            "29\n",
            "30\n"
          ],
          "name": "stdout"
        }
      ]
    },
    {
      "cell_type": "markdown",
      "metadata": {
        "id": "I-emR3Tc24UH"
      },
      "source": [
        "##問題5　○"
      ]
    },
    {
      "cell_type": "code",
      "metadata": {
        "id": "VMAg7VlQ26Ku",
        "colab": {
          "base_uri": "https://localhost:8080/"
        },
        "outputId": "c4c842e7-90c5-4853-a8a9-d8fe5a51f5bc"
      },
      "source": [
        "i = 0\n",
        "while i < 30:\n",
        "    i += 1\n",
        "    print(i)"
      ],
      "execution_count": null,
      "outputs": [
        {
          "output_type": "stream",
          "text": [
            "1\n",
            "2\n",
            "3\n",
            "4\n",
            "5\n",
            "6\n",
            "7\n",
            "8\n",
            "9\n",
            "10\n",
            "11\n",
            "12\n",
            "13\n",
            "14\n",
            "15\n",
            "16\n",
            "17\n",
            "18\n",
            "19\n",
            "20\n",
            "21\n",
            "22\n",
            "23\n",
            "24\n",
            "25\n",
            "26\n",
            "27\n",
            "28\n",
            "29\n",
            "30\n"
          ],
          "name": "stdout"
        }
      ]
    },
    {
      "cell_type": "markdown",
      "metadata": {
        "id": "niF6fydM26dX"
      },
      "source": [
        "##問題6　○"
      ]
    },
    {
      "cell_type": "code",
      "metadata": {
        "id": "TVfKJQ-F25LS",
        "colab": {
          "base_uri": "https://localhost:8080/"
        },
        "outputId": "ebc5b484-bafb-4f56-c31c-217ab49db377"
      },
      "source": [
        "for i in range(1, 31):\n",
        "    if i % 3 == 0:\n",
        "        print(i)"
      ],
      "execution_count": null,
      "outputs": [
        {
          "output_type": "stream",
          "text": [
            "3\n",
            "6\n",
            "9\n",
            "12\n",
            "15\n",
            "18\n",
            "21\n",
            "24\n",
            "27\n",
            "30\n"
          ],
          "name": "stdout"
        }
      ]
    },
    {
      "cell_type": "markdown",
      "metadata": {
        "id": "xiAoG0B32-PE"
      },
      "source": [
        "##問題7　○"
      ]
    },
    {
      "cell_type": "code",
      "metadata": {
        "id": "0-pqXtGt2_8P",
        "colab": {
          "base_uri": "https://localhost:8080/"
        },
        "outputId": "010f0f2c-a0d8-4361-edea-ab845f5710fc"
      },
      "source": [
        "for i in range(1, 31):\n",
        "    if i % 15 == 0:\n",
        "        print('fizzbuzz')\n",
        "    elif i % 3 == 0:\n",
        "        print('fizz')\n",
        "    elif i % 5 == 0:\n",
        "        print('buzz')\n",
        "    else:\n",
        "        print(i)"
      ],
      "execution_count": null,
      "outputs": [
        {
          "output_type": "stream",
          "text": [
            "1\n",
            "2\n",
            "fizz\n",
            "4\n",
            "buzz\n",
            "fizz\n",
            "7\n",
            "8\n",
            "fizz\n",
            "buzz\n",
            "11\n",
            "fizz\n",
            "13\n",
            "14\n",
            "fizzbuzz\n",
            "16\n",
            "17\n",
            "fizz\n",
            "19\n",
            "buzz\n",
            "fizz\n",
            "22\n",
            "23\n",
            "fizz\n",
            "buzz\n",
            "26\n",
            "fizz\n",
            "28\n",
            "29\n",
            "fizzbuzz\n"
          ],
          "name": "stdout"
        }
      ]
    },
    {
      "cell_type": "markdown",
      "metadata": {
        "id": "vuTMe6Oc3Anv"
      },
      "source": [
        "##問題8　○"
      ]
    },
    {
      "cell_type": "code",
      "metadata": {
        "id": "goBua2ap2944",
        "colab": {
          "base_uri": "https://localhost:8080/"
        },
        "outputId": "fdd54fc8-5bdb-424e-8ced-35cf0a40daff"
      },
      "source": [
        "l = []\n",
        "for i in range(1, 31):\n",
        "    if i % 3 == 0:\n",
        "        l.append(i)\n",
        "print(f'作成したリスト　：　{l}')"
      ],
      "execution_count": null,
      "outputs": [
        {
          "output_type": "stream",
          "text": [
            "作成したリスト　：　[3, 6, 9, 12, 15, 18, 21, 24, 27, 30]\n"
          ],
          "name": "stdout"
        }
      ]
    },
    {
      "cell_type": "markdown",
      "metadata": {
        "id": "Nvo3272k3DAr"
      },
      "source": [
        "##問題9　×"
      ]
    },
    {
      "cell_type": "code",
      "metadata": {
        "id": "Ij_kmSk83DyF",
        "colab": {
          "base_uri": "https://localhost:8080/"
        },
        "outputId": "3fd86683-2822-44f1-d73b-75649d0379dc"
      },
      "source": [
        "d = {}\n",
        "for i in range(1, 31):\n",
        "    if i % 3 == 0:\n",
        "        index = f'{i // 3}番目'\n",
        "        d[index] = i\n",
        "print(f'作成したリスト　：　{d}')\n"
      ],
      "execution_count": null,
      "outputs": [
        {
          "output_type": "stream",
          "text": [
            "作成したリスト　：　{'1番目': 3, '2番目': 6, '3番目': 9, '4番目': 12, '5番目': 15, '6番目': 18, '7番目': 21, '8番目': 24, '9番目': 27, '10番目': 30}\n"
          ],
          "name": "stdout"
        }
      ]
    },
    {
      "cell_type": "markdown",
      "metadata": {
        "id": "foDTyc6P3EW7"
      },
      "source": [
        "##問題10　×"
      ]
    },
    {
      "cell_type": "code",
      "metadata": {
        "id": "EbgxLcC93E7U",
        "colab": {
          "base_uri": "https://localhost:8080/"
        },
        "outputId": "4f8a36d2-191e-47a3-c4eb-8fc60b65c378"
      },
      "source": [
        "'''\n",
        "l = [i for i in range(1, 31) if i % 3 == 0　in 3]\n",
        "print(l)\n",
        "'''\n",
        "l = []\n",
        "for i in range(1, 31):\n",
        "    if i % 3 == 0 and '3' in str(i):\n",
        "        l.append(i)\n",
        "print(f'作成したリスト　：　{l}')"
      ],
      "execution_count": null,
      "outputs": [
        {
          "output_type": "stream",
          "text": [
            "作成したリスト　：　[3, 30]\n"
          ],
          "name": "stdout"
        }
      ]
    },
    {
      "cell_type": "markdown",
      "metadata": {
        "id": "74S0fft3CGgQ"
      },
      "source": [
        "##問題11　○"
      ]
    },
    {
      "cell_type": "code",
      "metadata": {
        "id": "_O57oUshCHl4",
        "colab": {
          "base_uri": "https://localhost:8080/"
        },
        "outputId": "2cead955-ea5b-4c52-99dc-12b410742ef3"
      },
      "source": [
        "weight = 60\n",
        "height = 170\n",
        "height2 = height / 100\n",
        "bmi = weight / (height2 ** 2)\n",
        "print(f'bmi = {bmi}')"
      ],
      "execution_count": 12,
      "outputs": [
        {
          "output_type": "stream",
          "text": [
            "bmi = 20.761245674740486\n"
          ],
          "name": "stdout"
        }
      ]
    },
    {
      "cell_type": "markdown",
      "metadata": {
        "id": "LHCKoIitCIGR"
      },
      "source": [
        "##問題12　○"
      ]
    },
    {
      "cell_type": "code",
      "metadata": {
        "id": "vU12AdrVCIwm",
        "colab": {
          "base_uri": "https://localhost:8080/"
        },
        "outputId": "34eb1a2c-5b3e-4804-98d4-612a2fa8c816"
      },
      "source": [
        "height = float(input('身長を入力してください（cm） >'))\n",
        "weight = float(input('体重を入力してください（kg） >'))\n",
        "\n",
        "height2 = height / 100\n",
        "bmi = weight / (height2 ** 2)\n",
        "print(f'bmi = {bmi}')"
      ],
      "execution_count": 14,
      "outputs": [
        {
          "output_type": "stream",
          "text": [
            "身長を入力してください（cm）178.3\n",
            "体重を入力してください（kg）58.4\n",
            "bmi = 18.370042487014356\n"
          ],
          "name": "stdout"
        }
      ]
    },
    {
      "cell_type": "markdown",
      "metadata": {
        "id": "QjxPcgPHCJNN"
      },
      "source": [
        "##問題13　○"
      ]
    },
    {
      "cell_type": "code",
      "metadata": {
        "id": "a438QvViCMzx",
        "colab": {
          "base_uri": "https://localhost:8080/"
        },
        "outputId": "4e0fae93-b523-42db-9286-9c4b88598e73"
      },
      "source": [
        "speed_hr = float(input('時速（km/h）を入力してください　> '))\n",
        "speed_s = speed_hr * 1000 / 3600\n",
        "\n",
        "print(f'秒速 = {speed_s} m/s')"
      ],
      "execution_count": 19,
      "outputs": [
        {
          "output_type": "stream",
          "text": [
            "時速（km/h）を入力してください　> 72\n",
            "秒速 = 20.0 m/s\n"
          ],
          "name": "stdout"
        }
      ]
    },
    {
      "cell_type": "markdown",
      "metadata": {
        "id": "CqDuaw4QCNaD"
      },
      "source": [
        "##問題14　○"
      ]
    },
    {
      "cell_type": "code",
      "metadata": {
        "id": "UpKQbV2eCOJn",
        "colab": {
          "base_uri": "https://localhost:8080/"
        },
        "outputId": "e6af71e9-0864-491d-a62d-a297f1390010"
      },
      "source": [
        "num = int(input('整数を入力してください > '))\n",
        "\n",
        "x = str(num) * 3\n",
        "y = int(x)\n",
        "z = num + y\n",
        "print(f'計算結果 : {z}')\n",
        "\n",
        "#別解\n",
        "a = input('整数を入力してください　> ')\n",
        "x = int(a)\n",
        "y = int(a * 3)\n",
        "print(f'計算結果 : {x + y}')"
      ],
      "execution_count": 26,
      "outputs": [
        {
          "output_type": "stream",
          "text": [
            "整数を入力してください > 2\n",
            "計算結果 : 224\n",
            "整数を入力してください　> 2\n",
            "計算結果 : 224\n"
          ],
          "name": "stdout"
        }
      ]
    },
    {
      "cell_type": "markdown",
      "metadata": {
        "id": "kw0HiFXyCOjD"
      },
      "source": [
        "##問題15　○"
      ]
    },
    {
      "cell_type": "code",
      "metadata": {
        "id": "5BPwcu3fCPQs",
        "colab": {
          "base_uri": "https://localhost:8080/"
        },
        "outputId": "fab5e395-5ef5-4374-fadd-0c20bf6de3f3"
      },
      "source": [
        "a = int(input('１つ目の整数を入力してください > '))\n",
        "b = int(input('2つ目の整数を入力してください > '))\n",
        "\n",
        "c = a - b\n",
        "if c < 0:\n",
        "    c *= -1\n",
        "else:\n",
        "    c\n",
        "print(f'計算結果　：　　{c}')"
      ],
      "execution_count": 18,
      "outputs": [
        {
          "output_type": "stream",
          "text": [
            "１つ目の整数を入力してください > 2\n",
            "2つ目の整数を入力してください > 4\n",
            "計算結果　：　　2\n"
          ],
          "name": "stdout"
        }
      ]
    },
    {
      "cell_type": "markdown",
      "metadata": {
        "id": "oOSPRpmlCPyK"
      },
      "source": [
        "##問題16"
      ]
    },
    {
      "cell_type": "code",
      "metadata": {
        "id": "5NiN8B0aCTIm"
      },
      "source": [
        ""
      ],
      "execution_count": null,
      "outputs": []
    },
    {
      "cell_type": "markdown",
      "metadata": {
        "id": "BABTqlksCToi"
      },
      "source": [
        "##問題17"
      ]
    },
    {
      "cell_type": "code",
      "metadata": {
        "id": "dMdojHwjCUWQ"
      },
      "source": [
        ""
      ],
      "execution_count": null,
      "outputs": []
    },
    {
      "cell_type": "markdown",
      "metadata": {
        "id": "oAB6ACzZCU6u"
      },
      "source": [
        "##問題18"
      ]
    },
    {
      "cell_type": "code",
      "metadata": {
        "id": "SaRKVqkGCV5U"
      },
      "source": [
        ""
      ],
      "execution_count": null,
      "outputs": []
    },
    {
      "cell_type": "markdown",
      "metadata": {
        "id": "Bzs2H7tRCWVC"
      },
      "source": [
        "##問題19"
      ]
    },
    {
      "cell_type": "code",
      "metadata": {
        "id": "DXOZdz4OCW-T"
      },
      "source": [
        ""
      ],
      "execution_count": null,
      "outputs": []
    },
    {
      "cell_type": "markdown",
      "metadata": {
        "id": "ClOpaXl_CXVA"
      },
      "source": [
        "##問題20"
      ]
    },
    {
      "cell_type": "code",
      "metadata": {
        "id": "cdbapcmMCYA_"
      },
      "source": [
        ""
      ],
      "execution_count": null,
      "outputs": []
    },
    {
      "cell_type": "markdown",
      "metadata": {
        "id": "QBbqgdoJCYsn"
      },
      "source": [
        ""
      ]
    }
  ]
}