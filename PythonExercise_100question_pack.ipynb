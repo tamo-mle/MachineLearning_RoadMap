{
  "nbformat": 4,
  "nbformat_minor": 0,
  "metadata": {
    "colab": {
      "name": "PythonExercise_100question_pack.ipynb",
      "provenance": [],
      "authorship_tag": "ABX9TyM6UZzW1CwLzhzx8+Ts9QPm"
    },
    "kernelspec": {
      "name": "python3",
      "display_name": "Python 3"
    },
    "language_info": {
      "name": "python"
    }
  },
  "cells": [
    {
      "cell_type": "markdown",
      "metadata": {
        "id": "e5Qwa9MK2lTx"
      },
      "source": [
        "## 問題1　○"
      ]
    },
    {
      "cell_type": "code",
      "metadata": {
        "colab": {
          "base_uri": "https://localhost:8080/"
        },
        "id": "p1mXyvpk22O3",
        "outputId": "e727291e-50a3-47b4-8455-6baa777b5b0f"
      },
      "source": [
        "x = 7\n",
        "y = 3\n",
        "\n",
        "print(f'{x} + {y} = {x + y}')\n",
        "print(f'{x} - {y} = {x - y}')\n",
        "print(f'{x} × {y} = {x * y}')\n",
        "print(f'{x} ÷ {y} = {x // y} 余り {x % y}')\n",
        "print(f'{x} ÷ {y} = {x / y}')"
      ],
      "execution_count": null,
      "outputs": [
        {
          "output_type": "stream",
          "text": [
            "7 + 3 = 10\n",
            "7 - 3 = 4\n",
            "7 × 3 = 21\n",
            "7 ÷ 3 = 2 余り 1\n",
            "7 ÷ 3 = 2.3333333333333335\n"
          ],
          "name": "stdout"
        }
      ]
    },
    {
      "cell_type": "markdown",
      "metadata": {
        "id": "9ovRKFr22pMB"
      },
      "source": [
        "##問題2　○"
      ]
    },
    {
      "cell_type": "code",
      "metadata": {
        "id": "hXK4bnUw22r2",
        "colab": {
          "base_uri": "https://localhost:8080/"
        },
        "outputId": "42c2bf0e-83bc-47d3-ffbe-ac8b874849b3"
      },
      "source": [
        "msg = input('好きな文字を入力してください >　')\n",
        "print(f'入力された文字　：　{msg}')"
      ],
      "execution_count": null,
      "outputs": [
        {
          "output_type": "stream",
          "text": [
            "好きな文字を入力してください >　Python\n",
            "入力された文字　：　Python\n"
          ],
          "name": "stdout"
        }
      ]
    },
    {
      "cell_type": "markdown",
      "metadata": {
        "id": "0KNAewDH2skz"
      },
      "source": [
        "##問題3　○"
      ]
    },
    {
      "cell_type": "code",
      "metadata": {
        "id": "yWRkISoy2wY4",
        "colab": {
          "base_uri": "https://localhost:8080/"
        },
        "outputId": "a959484c-ed43-40bc-e0cf-3b4a0137380b"
      },
      "source": [
        "num = int(input('好きな整数を入力してください　> '))\n",
        "print(f'{num}の二乗値 : {num**2}')"
      ],
      "execution_count": null,
      "outputs": [
        {
          "output_type": "stream",
          "text": [
            "好きな整数を入力してください　> 3\n",
            "3の二乗値 : 9\n"
          ],
          "name": "stdout"
        }
      ]
    },
    {
      "cell_type": "markdown",
      "metadata": {
        "id": "4J7YxWdX2xi6"
      },
      "source": [
        "##問題4　○"
      ]
    },
    {
      "cell_type": "code",
      "metadata": {
        "id": "AqZBMMo0230e",
        "colab": {
          "base_uri": "https://localhost:8080/"
        },
        "outputId": "22f28dce-a18c-41f5-9576-1c3c370d0307"
      },
      "source": [
        "for i in range(1, 31):\n",
        "    print(i)"
      ],
      "execution_count": null,
      "outputs": [
        {
          "output_type": "stream",
          "text": [
            "1\n",
            "2\n",
            "3\n",
            "4\n",
            "5\n",
            "6\n",
            "7\n",
            "8\n",
            "9\n",
            "10\n",
            "11\n",
            "12\n",
            "13\n",
            "14\n",
            "15\n",
            "16\n",
            "17\n",
            "18\n",
            "19\n",
            "20\n",
            "21\n",
            "22\n",
            "23\n",
            "24\n",
            "25\n",
            "26\n",
            "27\n",
            "28\n",
            "29\n",
            "30\n"
          ],
          "name": "stdout"
        }
      ]
    },
    {
      "cell_type": "markdown",
      "metadata": {
        "id": "I-emR3Tc24UH"
      },
      "source": [
        "##問題5　○"
      ]
    },
    {
      "cell_type": "code",
      "metadata": {
        "id": "VMAg7VlQ26Ku",
        "colab": {
          "base_uri": "https://localhost:8080/"
        },
        "outputId": "c4c842e7-90c5-4853-a8a9-d8fe5a51f5bc"
      },
      "source": [
        "i = 0\n",
        "while i < 30:\n",
        "    i += 1\n",
        "    print(i)"
      ],
      "execution_count": null,
      "outputs": [
        {
          "output_type": "stream",
          "text": [
            "1\n",
            "2\n",
            "3\n",
            "4\n",
            "5\n",
            "6\n",
            "7\n",
            "8\n",
            "9\n",
            "10\n",
            "11\n",
            "12\n",
            "13\n",
            "14\n",
            "15\n",
            "16\n",
            "17\n",
            "18\n",
            "19\n",
            "20\n",
            "21\n",
            "22\n",
            "23\n",
            "24\n",
            "25\n",
            "26\n",
            "27\n",
            "28\n",
            "29\n",
            "30\n"
          ],
          "name": "stdout"
        }
      ]
    },
    {
      "cell_type": "markdown",
      "metadata": {
        "id": "niF6fydM26dX"
      },
      "source": [
        "##問題6　○"
      ]
    },
    {
      "cell_type": "code",
      "metadata": {
        "id": "TVfKJQ-F25LS",
        "colab": {
          "base_uri": "https://localhost:8080/"
        },
        "outputId": "ebc5b484-bafb-4f56-c31c-217ab49db377"
      },
      "source": [
        "for i in range(1, 31):\n",
        "    if i % 3 == 0:\n",
        "        print(i)"
      ],
      "execution_count": null,
      "outputs": [
        {
          "output_type": "stream",
          "text": [
            "3\n",
            "6\n",
            "9\n",
            "12\n",
            "15\n",
            "18\n",
            "21\n",
            "24\n",
            "27\n",
            "30\n"
          ],
          "name": "stdout"
        }
      ]
    },
    {
      "cell_type": "markdown",
      "metadata": {
        "id": "xiAoG0B32-PE"
      },
      "source": [
        "##問題7　○"
      ]
    },
    {
      "cell_type": "code",
      "metadata": {
        "id": "0-pqXtGt2_8P",
        "colab": {
          "base_uri": "https://localhost:8080/"
        },
        "outputId": "010f0f2c-a0d8-4361-edea-ab845f5710fc"
      },
      "source": [
        "for i in range(1, 31):\n",
        "    if i % 15 == 0:\n",
        "        print('fizzbuzz')\n",
        "    elif i % 3 == 0:\n",
        "        print('fizz')\n",
        "    elif i % 5 == 0:\n",
        "        print('buzz')\n",
        "    else:\n",
        "        print(i)"
      ],
      "execution_count": null,
      "outputs": [
        {
          "output_type": "stream",
          "text": [
            "1\n",
            "2\n",
            "fizz\n",
            "4\n",
            "buzz\n",
            "fizz\n",
            "7\n",
            "8\n",
            "fizz\n",
            "buzz\n",
            "11\n",
            "fizz\n",
            "13\n",
            "14\n",
            "fizzbuzz\n",
            "16\n",
            "17\n",
            "fizz\n",
            "19\n",
            "buzz\n",
            "fizz\n",
            "22\n",
            "23\n",
            "fizz\n",
            "buzz\n",
            "26\n",
            "fizz\n",
            "28\n",
            "29\n",
            "fizzbuzz\n"
          ],
          "name": "stdout"
        }
      ]
    },
    {
      "cell_type": "markdown",
      "metadata": {
        "id": "vuTMe6Oc3Anv"
      },
      "source": [
        "##問題8　○"
      ]
    },
    {
      "cell_type": "code",
      "metadata": {
        "id": "goBua2ap2944",
        "colab": {
          "base_uri": "https://localhost:8080/"
        },
        "outputId": "fdd54fc8-5bdb-424e-8ced-35cf0a40daff"
      },
      "source": [
        "l = []\n",
        "for i in range(1, 31):\n",
        "    if i % 3 == 0:\n",
        "        l.append(i)\n",
        "print(f'作成したリスト　：　{l}')"
      ],
      "execution_count": null,
      "outputs": [
        {
          "output_type": "stream",
          "text": [
            "作成したリスト　：　[3, 6, 9, 12, 15, 18, 21, 24, 27, 30]\n"
          ],
          "name": "stdout"
        }
      ]
    },
    {
      "cell_type": "markdown",
      "metadata": {
        "id": "Nvo3272k3DAr"
      },
      "source": [
        "##問題9　×"
      ]
    },
    {
      "cell_type": "code",
      "metadata": {
        "id": "Ij_kmSk83DyF",
        "colab": {
          "base_uri": "https://localhost:8080/"
        },
        "outputId": "3fd86683-2822-44f1-d73b-75649d0379dc"
      },
      "source": [
        "d = {}\n",
        "for i in range(1, 31):\n",
        "    if i % 3 == 0:\n",
        "        index = f'{i // 3}番目'\n",
        "        d[index] = i\n",
        "print(f'作成したリスト　：　{d}')\n"
      ],
      "execution_count": null,
      "outputs": [
        {
          "output_type": "stream",
          "text": [
            "作成したリスト　：　{'1番目': 3, '2番目': 6, '3番目': 9, '4番目': 12, '5番目': 15, '6番目': 18, '7番目': 21, '8番目': 24, '9番目': 27, '10番目': 30}\n"
          ],
          "name": "stdout"
        }
      ]
    },
    {
      "cell_type": "markdown",
      "metadata": {
        "id": "foDTyc6P3EW7"
      },
      "source": [
        "##問題10　×"
      ]
    },
    {
      "cell_type": "code",
      "metadata": {
        "id": "EbgxLcC93E7U",
        "colab": {
          "base_uri": "https://localhost:8080/"
        },
        "outputId": "4f8a36d2-191e-47a3-c4eb-8fc60b65c378"
      },
      "source": [
        "'''\n",
        "l = [i for i in range(1, 31) if i % 3 == 0　in 3]\n",
        "print(l)\n",
        "'''\n",
        "l = []\n",
        "for i in range(1, 31):\n",
        "    if i % 3 == 0 and '3' in str(i):\n",
        "        l.append(i)\n",
        "print(f'作成したリスト　：　{l}')"
      ],
      "execution_count": null,
      "outputs": [
        {
          "output_type": "stream",
          "text": [
            "作成したリスト　：　[3, 30]\n"
          ],
          "name": "stdout"
        }
      ]
    },
    {
      "cell_type": "markdown",
      "metadata": {
        "id": "74S0fft3CGgQ"
      },
      "source": [
        "##問題11　○"
      ]
    },
    {
      "cell_type": "code",
      "metadata": {
        "id": "_O57oUshCHl4",
        "colab": {
          "base_uri": "https://localhost:8080/"
        },
        "outputId": "2cead955-ea5b-4c52-99dc-12b410742ef3"
      },
      "source": [
        "weight = 60\n",
        "height = 170\n",
        "height2 = height / 100\n",
        "bmi = weight / (height2 ** 2)\n",
        "print(f'bmi = {bmi}')"
      ],
      "execution_count": null,
      "outputs": [
        {
          "output_type": "stream",
          "text": [
            "bmi = 20.761245674740486\n"
          ],
          "name": "stdout"
        }
      ]
    },
    {
      "cell_type": "markdown",
      "metadata": {
        "id": "LHCKoIitCIGR"
      },
      "source": [
        "##問題12　○"
      ]
    },
    {
      "cell_type": "code",
      "metadata": {
        "id": "vU12AdrVCIwm",
        "colab": {
          "base_uri": "https://localhost:8080/"
        },
        "outputId": "34eb1a2c-5b3e-4804-98d4-612a2fa8c816"
      },
      "source": [
        "height = float(input('身長を入力してください（cm） >'))\n",
        "weight = float(input('体重を入力してください（kg） >'))\n",
        "\n",
        "height2 = height / 100\n",
        "bmi = weight / (height2 ** 2)\n",
        "print(f'bmi = {bmi}')"
      ],
      "execution_count": null,
      "outputs": [
        {
          "output_type": "stream",
          "text": [
            "身長を入力してください（cm）178.3\n",
            "体重を入力してください（kg）58.4\n",
            "bmi = 18.370042487014356\n"
          ],
          "name": "stdout"
        }
      ]
    },
    {
      "cell_type": "markdown",
      "metadata": {
        "id": "QjxPcgPHCJNN"
      },
      "source": [
        "##問題13　○"
      ]
    },
    {
      "cell_type": "code",
      "metadata": {
        "id": "a438QvViCMzx",
        "colab": {
          "base_uri": "https://localhost:8080/"
        },
        "outputId": "4e0fae93-b523-42db-9286-9c4b88598e73"
      },
      "source": [
        "speed_hr = float(input('時速（km/h）を入力してください　> '))\n",
        "speed_s = speed_hr * 1000 / 3600\n",
        "\n",
        "print(f'秒速 = {speed_s} m/s')"
      ],
      "execution_count": null,
      "outputs": [
        {
          "output_type": "stream",
          "text": [
            "時速（km/h）を入力してください　> 72\n",
            "秒速 = 20.0 m/s\n"
          ],
          "name": "stdout"
        }
      ]
    },
    {
      "cell_type": "markdown",
      "metadata": {
        "id": "CqDuaw4QCNaD"
      },
      "source": [
        "##問題14　○"
      ]
    },
    {
      "cell_type": "code",
      "metadata": {
        "id": "UpKQbV2eCOJn",
        "colab": {
          "base_uri": "https://localhost:8080/"
        },
        "outputId": "e6af71e9-0864-491d-a62d-a297f1390010"
      },
      "source": [
        "num = int(input('整数を入力してください > '))\n",
        "\n",
        "x = str(num) * 3\n",
        "y = int(x)\n",
        "z = num + y\n",
        "print(f'計算結果 : {z}')\n",
        "\n",
        "#別解\n",
        "a = input('整数を入力してください　> ')\n",
        "x = int(a)\n",
        "y = int(a * 3)\n",
        "print(f'計算結果 : {x + y}')"
      ],
      "execution_count": null,
      "outputs": [
        {
          "output_type": "stream",
          "text": [
            "整数を入力してください > 2\n",
            "計算結果 : 224\n",
            "整数を入力してください　> 2\n",
            "計算結果 : 224\n"
          ],
          "name": "stdout"
        }
      ]
    },
    {
      "cell_type": "markdown",
      "metadata": {
        "id": "kw0HiFXyCOjD"
      },
      "source": [
        "##問題15　○"
      ]
    },
    {
      "cell_type": "code",
      "metadata": {
        "id": "5BPwcu3fCPQs",
        "colab": {
          "base_uri": "https://localhost:8080/"
        },
        "outputId": "fab5e395-5ef5-4374-fadd-0c20bf6de3f3"
      },
      "source": [
        "a = int(input('１つ目の整数を入力してください > '))\n",
        "b = int(input('2つ目の整数を入力してください > '))\n",
        "\n",
        "c = a - b\n",
        "if c < 0:\n",
        "    c *= -1\n",
        "else:\n",
        "    c\n",
        "print(f'計算結果　：　　{c}')"
      ],
      "execution_count": null,
      "outputs": [
        {
          "output_type": "stream",
          "text": [
            "１つ目の整数を入力してください > 2\n",
            "2つ目の整数を入力してください > 4\n",
            "計算結果　：　　2\n"
          ],
          "name": "stdout"
        }
      ]
    },
    {
      "cell_type": "markdown",
      "metadata": {
        "id": "oOSPRpmlCPyK"
      },
      "source": [
        "##問題16 ○\n"
      ]
    },
    {
      "cell_type": "code",
      "metadata": {
        "id": "5NiN8B0aCTIm",
        "colab": {
          "base_uri": "https://localhost:8080/"
        },
        "outputId": "5753d00e-d6a6-4549-dbb0-eea947d87b9e"
      },
      "source": [
        "moji = input('文字を入力してください > ')\n",
        "\n",
        "count = 0\n",
        "for i in moji:\n",
        "    count += 1\n",
        "print(f'{moji}の文字数 : {count}')"
      ],
      "execution_count": 46,
      "outputs": [
        {
          "output_type": "stream",
          "text": [
            "文字を入力してください > python\n",
            "pythonの文字数 : 6\n"
          ],
          "name": "stdout"
        }
      ]
    },
    {
      "cell_type": "markdown",
      "metadata": {
        "id": "BABTqlksCToi"
      },
      "source": [
        "##問題17 ○"
      ]
    },
    {
      "cell_type": "code",
      "metadata": {
        "id": "dMdojHwjCUWQ",
        "colab": {
          "base_uri": "https://localhost:8080/"
        },
        "outputId": "0a6eacfc-1792-4f10-975e-a1510f59306f"
      },
      "source": [
        "moji2 = input('文字を入力してください > ')\n",
        "print(f'{moji}の最初の文字 : {moji[0]}')\n",
        "print(f'{moji}の最後の文字 : {moji[-1]}')"
      ],
      "execution_count": 3,
      "outputs": [
        {
          "output_type": "stream",
          "text": [
            "文字を入力してください > Python\n",
            "Pythonの最初の文字 : P\n",
            "Pythonの最後の文字 : n\n"
          ],
          "name": "stdout"
        }
      ]
    },
    {
      "cell_type": "markdown",
      "metadata": {
        "id": "oAB6ACzZCU6u"
      },
      "source": [
        "##問題18 ×"
      ]
    },
    {
      "cell_type": "code",
      "metadata": {
        "id": "SaRKVqkGCV5U",
        "colab": {
          "base_uri": "https://localhost:8080/"
        },
        "outputId": "cb7959a8-410f-4074-9c1e-7468e45867d4"
      },
      "source": [
        "'''\n",
        "moji3 = input('文字列を入力してください > ') \n",
        "l = {}\n",
        "i = 0\n",
        "for i in moji3:\n",
        "    l = moji3.count(len(moji3))\n",
        "    print(l)\n",
        "    i += 1\n",
        "'''\n",
        "#解答\n",
        "moji = input('文字列を入力してください')\n",
        "\n",
        "d = {}\n",
        "for i in moji:\n",
        "    if i in d.keys():\n",
        "        d[i] += 1\n",
        "    else:\n",
        "        d[i] = 1\n",
        "print(d)"
      ],
      "execution_count": 49,
      "outputs": [
        {
          "output_type": "stream",
          "text": [
            "文字列を入力してくださいPythonExercise\n",
            "{'P': 1, 'y': 1, 't': 1, 'h': 1, 'o': 1, 'n': 1, 'E': 1, 'x': 1, 'e': 2, 'r': 1, 'c': 1, 'i': 1, 's': 1}\n"
          ],
          "name": "stdout"
        }
      ]
    },
    {
      "cell_type": "markdown",
      "metadata": {
        "id": "Bzs2H7tRCWVC"
      },
      "source": [
        "##問題19 ×"
      ]
    },
    {
      "cell_type": "code",
      "metadata": {
        "id": "DXOZdz4OCW-T",
        "colab": {
          "base_uri": "https://localhost:8080/"
        },
        "outputId": "f7b8d20c-6d04-42b3-d7c6-1b73b0bc3b0a"
      },
      "source": [
        "'''\n",
        "moji4 = input('文字列を入力してください > ')\n",
        "moji4.strip('aiueo')\n",
        "'''\n",
        "#解答\n",
        "voweles = ['a','i','u','e','o']\n",
        "\n",
        "moji = input('文字列を入力してください')\n",
        "new_moji = ' '\n",
        "for i in moji:\n",
        "    if i in voweles:\n",
        "        continue\n",
        "    new_moji += i\n",
        "\n",
        "print(f'作成した文字列 : {new_moji}')\n"
      ],
      "execution_count": 51,
      "outputs": [
        {
          "output_type": "stream",
          "text": [
            "文字列を入力してくださいPython\n",
            "作成した文字列 :  Pythn\n"
          ],
          "name": "stdout"
        }
      ]
    },
    {
      "cell_type": "markdown",
      "metadata": {
        "id": "ClOpaXl_CXVA"
      },
      "source": [
        "###問題20 ○"
      ]
    },
    {
      "cell_type": "code",
      "metadata": {
        "id": "cdbapcmMCYA_",
        "colab": {
          "base_uri": "https://localhost:8080/"
        },
        "outputId": "025ae10f-a13d-4754-f4e1-b7796f607b40"
      },
      "source": [
        "'''\n",
        "moji5 =  input('文字列を入力してください > ')\n",
        "print(f'変換後の文字列 : {str.upper(moji5)}')\n",
        "'''\n",
        "#別解\n",
        "moji = input('文字列を入力してください >')\n",
        "moji = moji.upper()\n",
        "print(f'変換後の文字列 : {moji}')"
      ],
      "execution_count": 53,
      "outputs": [
        {
          "output_type": "stream",
          "text": [
            "文字列を入力してください >python\n",
            "変換後の文字列 : PYTHON\n"
          ],
          "name": "stdout"
        }
      ]
    },
    {
      "cell_type": "markdown",
      "metadata": {
        "id": "QBbqgdoJCYsn"
      },
      "source": [
        "###問題21 ○\n",
        "\n"
      ]
    },
    {
      "cell_type": "code",
      "metadata": {
        "colab": {
          "base_uri": "https://localhost:8080/",
          "height": 107
        },
        "id": "mgTFyRDeL3U4",
        "outputId": "3eb96319-9ec5-4b07-ea28-ec86912af642"
      },
      "source": [
        "\n",
        "moji6 =  input('文字列を入力してください > ')\n",
        "result = moji6.istitle()\n",
        "if result == False:\n",
        "    print(f'変換後の文字列 : {moji6.capitalize()}')\n",
        "else:\n",
        "    print(f'変換後の文字列 : {moji6 * 2}')\n",
        "    \n",
        "'''\n",
        "#別解\n",
        "moji = input('文字列を入力してください')\n",
        "\n",
        "if moji[0].islower():\n",
        "    moji = moji[0].upper() + moji[1:]\n",
        "elif moji[0].isupper():\n",
        "    moji = moji * 2\n",
        "\n",
        "print(f'変換後の文字列 : {moji}')\n",
        "'''"
      ],
      "execution_count": 60,
      "outputs": [
        {
          "output_type": "stream",
          "text": [
            "文字列を入力してください > python\n",
            "変換後の文字列 : Python\n"
          ],
          "name": "stdout"
        },
        {
          "output_type": "execute_result",
          "data": {
            "application/vnd.google.colaboratory.intrinsic+json": {
              "type": "string"
            },
            "text/plain": [
              "\"\\n#別解\\nmoji = input('文字列を入力してください')\\n\\nif moji[0].islower():\\n    moji = moji[0].upper() + moji[1:]\\nelif moji[0].isupper():\\n    moji = moji * 2\\n\\nprint(f'変換後の文字列 : {moji}')\\n\""
            ]
          },
          "metadata": {
            "tags": []
          },
          "execution_count": 60
        }
      ]
    },
    {
      "cell_type": "markdown",
      "metadata": {
        "id": "Z0CTsqvBL4El"
      },
      "source": [
        "###問題22 ×"
      ]
    },
    {
      "cell_type": "code",
      "metadata": {
        "colab": {
          "base_uri": "https://localhost:8080/"
        },
        "id": "iHSEqSXVL4-S",
        "outputId": "92f51c12-a408-4353-99af-62ef0cdfabf8"
      },
      "source": [
        "'''\n",
        "moji7 =  [input('１つ目の文字列を入力してください > ')]\n",
        "moji8 =  [input('２つ目の文字列を入力してください > ')]\n",
        "\n",
        "print(f'重複する文字列 : {}')\n",
        "\n",
        "'''\n",
        "#別解\n",
        "word1 = input('1つ目の文字列を入力してください > ')\n",
        "word2 = input('2つ目の文字列を入力してください > ')\n",
        "\n",
        "r = ''\n",
        "for ch in word1:\n",
        "    if ch in word2 and not ch in r:\n",
        "        r += ch\n",
        "\n",
        "print(f'重複する文字列 : {r}')"
      ],
      "execution_count": 69,
      "outputs": [
        {
          "output_type": "stream",
          "text": [
            "1つ目の文字列を入力してください > Python\n",
            "2つ目の文字列を入力してください > PHP\n",
            "重複する文字列 : P\n"
          ],
          "name": "stdout"
        }
      ]
    },
    {
      "cell_type": "markdown",
      "metadata": {
        "id": "zda6SScKL5eZ"
      },
      "source": [
        "###問題23 ×"
      ]
    },
    {
      "cell_type": "code",
      "metadata": {
        "colab": {
          "base_uri": "https://localhost:8080/"
        },
        "id": "WuZ4FIG2L6UJ",
        "outputId": "4d8cb443-5d68-47c0-9a78-6b9086f2d763"
      },
      "source": [
        "'''\n",
        "moji9 =  input('１つ目の英文を入力してください > ')\n",
        "moji10 =  input('２つ目の英文を入力してください > ')\n",
        "\n",
        "result = []\n",
        "result = moji9 & moji10\n",
        "print(f'重複する英単語 : {result}')\n",
        "\n",
        "'''\n",
        "#解答\n",
        "sentence1 = input('1つ目の英文を入力してください > ')\n",
        "sentence2 = input('2つ目の英文を入力してください > ')\n",
        "\n",
        "sentence1 = sentence1.split()\n",
        "sentence2 = sentence2.split()\n",
        "\n",
        "r = []\n",
        "for word in sentence1:\n",
        "    if word in sentence2 and not word in r:\n",
        "        r.append(word)\n",
        "\n",
        "print(f'重複する英単語 : {r}')"
      ],
      "execution_count": 68,
      "outputs": [
        {
          "output_type": "stream",
          "text": [
            "1つ目の英文を入力してください > Python is hard.\n",
            "2つ目の英文を入力してください > PHP is easy.\n",
            "重複する英単語 : ['is']\n"
          ],
          "name": "stdout"
        }
      ]
    },
    {
      "cell_type": "markdown",
      "metadata": {
        "id": "QJxEoGbcL6u4"
      },
      "source": [
        "###問題24 ×"
      ]
    },
    {
      "cell_type": "code",
      "metadata": {
        "id": "Nw1gm6_xL7dc"
      },
      "source": [
        "#解答\n",
        "word = input('英単語を入力してください > ')\n",
        "count = 0\n",
        "\n",
        "for _ in word:\n",
        "    count += 1\n",
        "\n",
        "index = count // 2\n",
        "\n",
        "if count % 2 == 0:\n",
        "    word = word[:index] + '@' + word[index:]\n",
        "else:\n",
        "    word = word[:index] + '@' + word[index+1:]\n",
        "\n",
        "print(f'変換した英単語 : {word}')"
      ],
      "execution_count": null,
      "outputs": []
    },
    {
      "cell_type": "markdown",
      "metadata": {
        "id": "vb_kAzoDL74j"
      },
      "source": [
        "###問題25 ×"
      ]
    },
    {
      "cell_type": "code",
      "metadata": {
        "colab": {
          "base_uri": "https://localhost:8080/"
        },
        "id": "whbzyQQGL8x8",
        "outputId": "ea9223fd-e73a-40e9-f362-8f40603f801e"
      },
      "source": [
        "#解答\n",
        "word1 = input('1つ目の英単語を入力してください > ')\n",
        "word2 = input('2つ目の英単語を入力してください > ')\n",
        "word3 = input('3つ目の英単語を入力してください > ')\n",
        "\n",
        "words = [word1, word2, word3]\n",
        "\n",
        "words.sort()\n",
        "sord_words = ', '.join(words)\n",
        "print(f'並び替えた英単語 : {sord_words}')"
      ],
      "execution_count": 70,
      "outputs": [
        {
          "output_type": "stream",
          "text": [
            "1つ目の英単語を入力してください > Python\n",
            "2つ目の英単語を入力してください > Java\n",
            "3つ目の英単語を入力してください > PHP\n",
            "並び替えた英単語 : Java, PHP, Python\n"
          ],
          "name": "stdout"
        }
      ]
    },
    {
      "cell_type": "code",
      "metadata": {
        "id": "jP4eW6Qo2aKD"
      },
      "source": [
        ""
      ],
      "execution_count": null,
      "outputs": []
    }
  ]
}